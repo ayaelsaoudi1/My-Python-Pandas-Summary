{
 "cells": [
  {
   "cell_type": "markdown",
   "id": "a9b73b40-73e9-409f-98d2-9d50ef90e948",
   "metadata": {},
   "source": [
    "## Arithmetic Operators"
   ]
  },
  {
   "cell_type": "code",
   "execution_count": 6,
   "id": "252ed5ee-8ee8-4304-a536-b0fada226d0f",
   "metadata": {},
   "outputs": [
    {
     "data": {
      "text/plain": [
       "3"
      ]
     },
     "execution_count": 6,
     "metadata": {},
     "output_type": "execute_result"
    }
   ],
   "source": [
    "1 + 2 #1 and 2 are called operands"
   ]
  },
  {
   "cell_type": "code",
   "execution_count": 8,
   "id": "e6b3d119-ea56-4947-b86f-76285dc83a3b",
   "metadata": {},
   "outputs": [
    {
     "data": {
      "text/plain": [
       "-2"
      ]
     },
     "execution_count": 8,
     "metadata": {},
     "output_type": "execute_result"
    }
   ],
   "source": [
    "3 - 5 #-,+ are called arithmetic operators"
   ]
  },
  {
   "cell_type": "code",
   "execution_count": 10,
   "id": "82adba55-eba3-4104-9201-75b503b86511",
   "metadata": {},
   "outputs": [
    {
     "data": {
      "text/plain": [
       "5.0"
      ]
     },
     "execution_count": 10,
     "metadata": {},
     "output_type": "execute_result"
    }
   ],
   "source": [
    "15/3 #because im using python 3 i will always get the result in float"
   ]
  },
  {
   "cell_type": "code",
   "execution_count": 12,
   "id": "b462967a-f1f7-47cd-a7f8-e574459ca4ac",
   "metadata": {},
   "outputs": [
    {
     "data": {
      "text/plain": [
       "0"
      ]
     },
     "execution_count": 12,
     "metadata": {},
     "output_type": "execute_result"
    }
   ],
   "source": [
    "6%3 # % obtains the remainder of the division "
   ]
  },
  {
   "cell_type": "code",
   "execution_count": 14,
   "id": "24705ab4-e167-4287-b352-0338b20cec8a",
   "metadata": {},
   "outputs": [
    {
     "data": {
      "text/plain": [
       "16"
      ]
     },
     "execution_count": 14,
     "metadata": {},
     "output_type": "execute_result"
    }
   ],
   "source": [
    "8*2 # * is used for multiplication "
   ]
  },
  {
   "cell_type": "code",
   "execution_count": 16,
   "id": "f326cd07-a8f6-455c-b666-b4da8d27cbb8",
   "metadata": {},
   "outputs": [
    {
     "data": {
      "text/plain": [
       "125"
      ]
     },
     "execution_count": 16,
     "metadata": {},
     "output_type": "execute_result"
    }
   ],
   "source": [
    "5**3 # ** is used to get the power "
   ]
  },
  {
   "cell_type": "markdown",
   "id": "c97c49f0-a473-460f-8cbe-945a8b300e8d",
   "metadata": {},
   "source": [
    "## The Double Equality Sign "
   ]
  },
  {
   "cell_type": "code",
   "execution_count": 19,
   "id": "bd130012-8fc2-4096-92e5-e6e311651b08",
   "metadata": {},
   "outputs": [],
   "source": [
    "y = 5**3 #here we are assinging 5 power 3 to y"
   ]
  },
  {
   "cell_type": "code",
   "execution_count": 21,
   "id": "5cfab4df-b448-4253-ab82-abbe322e308c",
   "metadata": {},
   "outputs": [
    {
     "data": {
      "text/plain": [
       "True"
      ]
     },
     "execution_count": 21,
     "metadata": {},
     "output_type": "execute_result"
    }
   ],
   "source": [
    "y == 125 #here we read this code as y equals 125"
   ]
  },
  {
   "cell_type": "code",
   "execution_count": 23,
   "id": "b83d314c-7de1-4006-b673-db59821fd08d",
   "metadata": {},
   "outputs": [
    {
     "data": {
      "text/plain": [
       "False"
      ]
     },
     "execution_count": 23,
     "metadata": {},
     "output_type": "execute_result"
    }
   ],
   "source": [
    "y == 8"
   ]
  },
  {
   "cell_type": "markdown",
   "id": "77c91668-4898-495a-a619-087b969cb163",
   "metadata": {},
   "source": [
    "## How to Reassign Values"
   ]
  },
  {
   "cell_type": "code",
   "execution_count": 26,
   "id": "91c15f22-4697-4ba0-bc8d-69284804ac9f",
   "metadata": {},
   "outputs": [
    {
     "data": {
      "text/plain": [
       "1"
      ]
     },
     "execution_count": 26,
     "metadata": {},
     "output_type": "execute_result"
    }
   ],
   "source": [
    "z =1\n",
    "z"
   ]
  },
  {
   "cell_type": "code",
   "execution_count": 30,
   "id": "734244ef-9bbe-43bf-b1b2-bfad1ffd22ec",
   "metadata": {},
   "outputs": [
    {
     "data": {
      "text/plain": [
       "3"
      ]
     },
     "execution_count": 30,
     "metadata": {},
     "output_type": "execute_result"
    }
   ],
   "source": [
    "z=3 #the orders of the commands matters, so now z = 3 instead of 1\n",
    "z "
   ]
  },
  {
   "cell_type": "code",
   "execution_count": 32,
   "id": "f6c8f3fd-36bf-483a-b402-1a27c663272d",
   "metadata": {},
   "outputs": [
    {
     "data": {
      "text/plain": [
       "4"
      ]
     },
     "execution_count": 32,
     "metadata": {},
     "output_type": "execute_result"
    }
   ],
   "source": [
    "z+1"
   ]
  },
  {
   "cell_type": "markdown",
   "id": "53d6c4a3-9631-4a9c-999a-cc6651e120aa",
   "metadata": {},
   "source": [
    "## Line Continuation  \n",
    "\n",
    "You can split a long line of code into two lines using the **backslash (`\\`)** for line continuation. This allows the code to be more readable without interrupting its execution.  \n",
    "\n",
    "Example:  \n",
    "```python\n",
    "long_string = \"This is a very long string that we want to \" \\\n",
    "              \"split across two lines for better readability.\"\n",
    "```"
   ]
  },
  {
   "cell_type": "code",
   "execution_count": 1,
   "id": "b5466d22-7102-4086-b5dc-9a6f29921b23",
   "metadata": {},
   "outputs": [
    {
     "data": {
      "text/plain": [
       "6"
      ]
     },
     "execution_count": 1,
     "metadata": {},
     "output_type": "execute_result"
    }
   ],
   "source": [
    "2 + 5 -\\\n",
    "1"
   ]
  },
  {
   "cell_type": "markdown",
   "id": "c490fa88-9649-46b2-9a84-7c5203753e4a",
   "metadata": {},
   "source": [
    "## Indexing Elements  \n",
    "\n",
    "- You can index elements in a sequence (like a list, string, or tuple) by writing: **`variable[index_of_element]`**.  \n",
    "- In Python, indexing starts from **0**, not 1. This means the first element is at index 0, the second at index 1, and so on."
   ]
  },
  {
   "cell_type": "code",
   "execution_count": 52,
   "id": "a72bd51e-017a-4cfa-b00e-a0473fe6192b",
   "metadata": {},
   "outputs": [
    {
     "data": {
      "text/plain": [
       "'d'"
      ]
     },
     "execution_count": 52,
     "metadata": {},
     "output_type": "execute_result"
    }
   ],
   "source": [
    "\"friday\"[3] #this must return d"
   ]
  },
  {
   "cell_type": "markdown",
   "id": "ece3c676-65d0-4065-b448-d6626de76bbc",
   "metadata": {},
   "source": [
    "## Comparison Operations  \n",
    "\n",
    "- **`==`**: Equal to  \n",
    "- **`>`**: Greater than  \n",
    "- **`<`**: Less than  \n",
    "- **`>=`**: Greater than or equal to  \n",
    "- **`<=`**: Less than or equal to  \n",
    "\n",
    "The result of a comparison operation is always a **boolean** value (`True` or `False`)."
   ]
  },
  {
   "cell_type": "code",
   "execution_count": 56,
   "id": "d222b448-9b04-49b8-b0c6-69249215db17",
   "metadata": {},
   "outputs": [
    {
     "data": {
      "text/plain": [
       "True"
      ]
     },
     "execution_count": 56,
     "metadata": {},
     "output_type": "execute_result"
    }
   ],
   "source": [
    "10 == 20/2"
   ]
  },
  {
   "cell_type": "code",
   "execution_count": 60,
   "id": "3f8264c9-f512-45b4-ae5a-54c1d822452d",
   "metadata": {},
   "outputs": [
    {
     "data": {
      "text/plain": [
       "False"
      ]
     },
     "execution_count": 60,
     "metadata": {},
     "output_type": "execute_result"
    }
   ],
   "source": [
    "10 != 10 #not equal"
   ]
  },
  {
   "cell_type": "code",
   "execution_count": 62,
   "id": "4569e3ea-5e69-44cc-a5a7-e8618bd87a85",
   "metadata": {},
   "outputs": [
    {
     "data": {
      "text/plain": [
       "False"
      ]
     },
     "execution_count": 62,
     "metadata": {},
     "output_type": "execute_result"
    }
   ],
   "source": [
    "100 < 3"
   ]
  },
  {
   "cell_type": "code",
   "execution_count": 64,
   "id": "56b24df6-0e65-4392-aae0-8391a20d618a",
   "metadata": {},
   "outputs": [
    {
     "data": {
      "text/plain": [
       "True"
      ]
     },
     "execution_count": 64,
     "metadata": {},
     "output_type": "execute_result"
    }
   ],
   "source": [
    "100 > 3"
   ]
  },
  {
   "cell_type": "markdown",
   "id": "1e15ebef-74c7-476d-a3cf-177bab712ca4",
   "metadata": {},
   "source": [
    "## Logical and Identity Operators  \n",
    "\n",
    "- **`and`**: Evaluates whether both statements on either side are true.  \n",
    "  - `True and False` → `False`  \n",
    "  - `True and True` → `True`  \n",
    "  - `False and False` → `False`  \n",
    "\n",
    "- **`or`**: Checks if at least one of the two statements is true.  \n",
    "  - `True or False` → `True`  \n",
    "  - `True or True` → `True`  \n",
    "  - `False or False` → `False`  \n",
    "\n",
    "- **`not`**: Reverses the logical value of the statement.  \n",
    "  - `not True` → `False`  \n",
    "  - `not False` → `True`  "
   ]
  },
  {
   "cell_type": "code",
   "execution_count": 85,
   "id": "36ca91e4-e90b-44c3-8337-037876dc0bef",
   "metadata": {},
   "outputs": [
    {
     "data": {
      "text/plain": [
       "True"
      ]
     },
     "execution_count": 85,
     "metadata": {},
     "output_type": "execute_result"
    }
   ],
   "source": [
    "9 > 1 and  8>3"
   ]
  },
  {
   "cell_type": "code",
   "execution_count": 72,
   "id": "9c970dcf-2e02-4612-8be8-daa113095807",
   "metadata": {},
   "outputs": [
    {
     "data": {
      "text/plain": [
       "True"
      ]
     },
     "execution_count": 72,
     "metadata": {},
     "output_type": "execute_result"
    }
   ],
   "source": [
    "9 == 9 or 9 == 8"
   ]
  },
  {
   "cell_type": "code",
   "execution_count": 81,
   "id": "d1e9f901-d19a-40e8-a1d1-583e1814a087",
   "metadata": {},
   "outputs": [
    {
     "data": {
      "text/plain": [
       "True"
      ]
     },
     "execution_count": 81,
     "metadata": {},
     "output_type": "execute_result"
    }
   ],
   "source": [
    "not False "
   ]
  },
  {
   "cell_type": "markdown",
   "id": "7a88113f-e4b0-4460-a9f6-5ebbd7397471",
   "metadata": {},
   "source": []
  }
 ],
 "metadata": {
  "kernelspec": {
   "display_name": "Python 3 (ipykernel)",
   "language": "python",
   "name": "python3"
  },
  "language_info": {
   "codemirror_mode": {
    "name": "ipython",
    "version": 3
   },
   "file_extension": ".py",
   "mimetype": "text/x-python",
   "name": "python",
   "nbconvert_exporter": "python",
   "pygments_lexer": "ipython3",
   "version": "3.12.4"
  }
 },
 "nbformat": 4,
 "nbformat_minor": 5
}
