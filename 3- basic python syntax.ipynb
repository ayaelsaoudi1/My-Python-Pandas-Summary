{
 "cells": [
  {
   "cell_type": "markdown",
   "id": "7a88113f-e4b0-4460-a9f6-5ebbd7397471",
   "metadata": {},
   "source": [
    "## **Basic Python Syntax**  \n",
    "\n",
    "### **Arithmetic Operators**  \n",
    "Python provides various arithmetic operators to perform mathematical calculations:  \n"
   ]
  },
  {
   "cell_type": "code",
   "execution_count": 3,
   "id": "886a2378-7d7a-4547-a53d-b64ed71c37c8",
   "metadata": {},
   "outputs": [
    {
     "name": "stdout",
     "output_type": "stream",
     "text": [
      "3\n",
      "-2\n",
      "5.0\n",
      "0\n",
      "16\n",
      "125\n"
     ]
    }
   ],
   "source": [
    "print(1 + 2)   # Addition: 1 and 2 are called operands\n",
    "print(3 - 5)   # Subtraction\n",
    "print(15 / 3)  # Division (Always returns a float in Python 3)\n",
    "print(6 % 3)   # Modulus (Returns the remainder of division)\n",
    "print(8 * 2)  # Multiplication\n",
    "print(5 ** 3) # Exponentiation (5 raised to the power of 3)"
   ]
  },
  {
   "cell_type": "markdown",
   "id": "0d7c31cb-35d9-4620-9b13-85ede86af25d",
   "metadata": {},
   "source": [
    "### **The Double Equality Sign (`==`)**  \n",
    "The **`==`** operator is used for **comparison**, while `=` is used for **assignment**."
   ]
  },
  {
   "cell_type": "code",
   "execution_count": 5,
   "id": "02f4b851-5399-47c4-8e03-d07062757d20",
   "metadata": {},
   "outputs": [
    {
     "name": "stdout",
     "output_type": "stream",
     "text": [
      "True\n",
      "False\n"
     ]
    }
   ],
   "source": [
    "y = 5 ** 3  # Assigns 5^3 to y\n",
    "print(y == 125)    # Checks if y equals 125 (True)\n",
    "print(y == 8)      # False"
   ]
  },
  {
   "cell_type": "markdown",
   "id": "0be0f795-55c3-4e85-88c6-b130cab6369e",
   "metadata": {},
   "source": [
    "### **Reassigning Values**  \n",
    "In Python, variables can be reassigned to different values:"
   ]
  },
  {
   "cell_type": "code",
   "execution_count": 6,
   "id": "c4ce21b8-6620-4fd7-8cc7-aa45bd3c8001",
   "metadata": {},
   "outputs": [
    {
     "data": {
      "text/plain": [
       "4"
      ]
     },
     "execution_count": 6,
     "metadata": {},
     "output_type": "execute_result"
    }
   ],
   "source": [
    "z = 1\n",
    "z           # Output: 1\n",
    "z = 3       # Now, z is updated to 3\n",
    "z           # Output: 3\n",
    "z + 1       # Output: 4 (This doesn't change z unless assigned)"
   ]
  },
  {
   "cell_type": "markdown",
   "id": "8b35b1c1-5404-4aaa-b41e-cf6a65a97c92",
   "metadata": {},
   "source": [
    "### **Line Continuation**  \n",
    "For better readability, long lines of code can be split using a **backslash (`\\`)**."
   ]
  },
  {
   "cell_type": "code",
   "execution_count": 1,
   "id": "c4e8f916-f3e2-41b9-ba98-ab5269ecddbf",
   "metadata": {},
   "outputs": [
    {
     "data": {
      "text/plain": [
       "'This is a very long string that we want to split across two lines for better readability.'"
      ]
     },
     "execution_count": 1,
     "metadata": {},
     "output_type": "execute_result"
    }
   ],
   "source": [
    "long_string = \"This is a very long string that we want to \" \\\n",
    "              \"split across two lines for better readability.\"\n",
    "long_string"
   ]
  },
  {
   "cell_type": "code",
   "execution_count": 2,
   "id": "b8611ce7-086e-452d-aa64-fb4f73fb8032",
   "metadata": {},
   "outputs": [
    {
     "data": {
      "text/plain": [
       "6"
      ]
     },
     "execution_count": 2,
     "metadata": {},
     "output_type": "execute_result"
    }
   ],
   "source": [
    "result = 2 + 5 - \\\n",
    "         1  # Output: 6\n",
    "result"
   ]
  },
  {
   "cell_type": "markdown",
   "id": "393e0b7a-bd8e-4e0e-957a-d5db7cfac825",
   "metadata": {},
   "source": [
    "### **Indexing Elements**  \n",
    "Python allows accessing specific characters in strings using **indexing**.  \n",
    "\n",
    "- Indexing starts from **0** (zero-based index).  \n",
    "- Use **square brackets (`[]`)** to access elements."
   ]
  },
  {
   "cell_type": "code",
   "execution_count": 9,
   "id": "de9242d2-471b-46ba-8f8c-0e84d1ba1e01",
   "metadata": {},
   "outputs": [
    {
     "data": {
      "text/plain": [
       "'d'"
      ]
     },
     "execution_count": 9,
     "metadata": {},
     "output_type": "execute_result"
    }
   ],
   "source": [
    "\"friday\"[3]  # Returns 'd' (Indexes: f=0, r=1, i=2, d=3, a=4, y=5)"
   ]
  },
  {
   "cell_type": "markdown",
   "id": "a73005cc-afff-4159-9084-e56b1e1734bf",
   "metadata": {},
   "source": [
    "### **Comparison Operators**  \n",
    "Comparison operators return **Boolean values (`True` or `False`)**."
   ]
  },
  {
   "cell_type": "code",
   "execution_count": 11,
   "id": "ba4dbfb8-679f-4b5d-9c48-41da2f691061",
   "metadata": {},
   "outputs": [
    {
     "name": "stdout",
     "output_type": "stream",
     "text": [
      "True\n",
      "False\n",
      "False\n",
      "True\n"
     ]
    }
   ],
   "source": [
    "print(10 == 20 / 2)  # True (10 equals 10)\n",
    "print(10 != 10)     # False (10 is equal to 10)\n",
    "print(100 < 3)       # False (100 is not less than 3)\n",
    "print(100 > 3)      # True  (100 is greater than 3)"
   ]
  },
  {
   "cell_type": "markdown",
   "id": "519eb37a-95e2-4f72-bd02-069f1107e6b7",
   "metadata": {},
   "source": [
    "### **Logical and Identity Operators**  \n",
    "Python provides logical operators to combine multiple conditions.  \n",
    "\n",
    "#### **Logical Operators**\n",
    "- **`and`**: Both conditions must be **True**.  \n",
    "- **`or`**: At least one condition must be **True**.  \n",
    "- **`not`**: Negates the Boolean value."
   ]
  },
  {
   "cell_type": "code",
   "execution_count": 13,
   "id": "256e8ce5-6311-4e50-8698-5853cc073728",
   "metadata": {},
   "outputs": [
    {
     "name": "stdout",
     "output_type": "stream",
     "text": [
      "True\n",
      "True\n",
      "True\n"
     ]
    }
   ],
   "source": [
    "print(9 > 1 and 8 > 3)  # True (Both conditions are True)\n",
    "print(9 == 9 or 9 == 8 ) # True (At least one condition is True)\n",
    "print(not False)  # True (Negates False)"
   ]
  },
  {
   "cell_type": "code",
   "execution_count": null,
   "id": "075a1230-aaa7-40a7-a2d9-5ea0bbaab982",
   "metadata": {},
   "outputs": [],
   "source": []
  }
 ],
 "metadata": {
  "kernelspec": {
   "display_name": "Python 3 (ipykernel)",
   "language": "python",
   "name": "python3"
  },
  "language_info": {
   "codemirror_mode": {
    "name": "ipython",
    "version": 3
   },
   "file_extension": ".py",
   "mimetype": "text/x-python",
   "name": "python",
   "nbconvert_exporter": "python",
   "pygments_lexer": "ipython3",
   "version": "3.12.4"
  }
 },
 "nbformat": 4,
 "nbformat_minor": 5
}
