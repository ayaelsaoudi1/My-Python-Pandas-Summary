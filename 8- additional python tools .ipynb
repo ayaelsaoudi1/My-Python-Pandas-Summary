{
 "cells": [
  {
   "cell_type": "markdown",
   "id": "5937f03e-17dc-420e-9d5a-38f5168d3685",
   "metadata": {},
   "source": [
    "### Using the `.format()` Method\n",
    "\n",
    "The `.format()` method is a powerful string formatting tool in Python. It allows for dynamic string creation by inserting values into a predefined template. Here’s how it works:\n",
    "\n",
    "#### Basic Usage\n",
    "- **String-based formatting**: `.format()` is used for formatting text by replacing `{}` placeholders with the provided arguments. It works with various data types, converting them to strings.\n",
    "\n",
    "```python\n",
    "# Example using .format()\n",
    "name = \"Alice\"\n",
    "age = 30\n",
    "message = \"Hello, my name is {} and I am {} years old.\".format(name, age)\n",
    "print(message) #--> output: Hello, my name is Alice and I am 30 years old.\n",
    "```\n",
    "\n",
    "#### Types of Arguments:\n",
    "1. **Positional Arguments**:\n",
    "   - These are passed in the order of their appearance and inserted into the placeholders sequentially.\n",
    "\n",
    "```python\n",
    "# Positional arguments\n",
    "message = \"The {0} is {1} years old.\".format(\"dog\", 5)\n",
    "print(message) #--> output:The dog is 5 years old.\n",
    "```\n",
    "\n",
    "2. **Keyword Arguments**:\n",
    "   - These are passed with specific names and can be referenced by those names in the string.\n",
    "\n",
    "```python\n",
    "# Keyword arguments\n",
    "message = \"The {animal} is {age} years old.\".format(animal=\"cat\", age=3)\n",
    "print(message) #--> output:The cat is 3 years old.\n",
    "```\n",
    "\n",
    "#### Mixing Positional and Keyword Arguments\n",
    "You can mix both positional and keyword arguments in a single `.format()` method.\n",
    "\n",
    "```python\n",
    "# Mixing positional and keyword arguments\n",
    "message = \"The {0} is {age} years old.\".format(\"rabbit\", age=2)\n",
    "print(message) #--> output:The rabbit is 2 years old.\n",
    "```\n",
    "\n",
    "#### Passing Lists or Objects\n",
    "You can also pass entire objects or lists as arguments to `.format()`:\n",
    "\n",
    "```python\n",
    "# Passing a list\n",
    "values = [10, 20, 30]\n",
    "message = \"First: {}, Second: {}, Third: {}\".format(*values)\n",
    "print(message) #--> output:First: 10, Second: 20, Third: 30\n",
    "```\n",
    "\n",
    "### Key Benefits of `.format()`:\n",
    "- It allows for flexible and readable string formatting.\n",
    "- You can pass variables, expressions, lists, and even objects to `.format()` and it will automatically convert them into a string format.\n",
    "- Supports both positional and keyword arguments for precise control over the formatting.\n",
    "\n",
    "### Implicit vs. Explicit Positional Arguments:\n",
    "- **Explicit**: Refers to specific index numbers in the `.format()` call.\n",
    "- **Implicit**: You can let the arguments be placed automatically in the order they appear in the `format()` method, without referencing their indices explicitly.\n",
    "\n",
    "```python\n",
    "# Implicit: Automatically placed in order\n",
    "message = \"The {} is {} years old.\".format(\"bird\", 4)\n",
    "print(message)\n",
    "\n",
    "# Explicit: Using indices\n",
    "message = \"The {0} is {1} years old.\".format(\"bird\", 4)\n",
    "print(message)\n",
    "```"
   ]
  },
  {
   "cell_type": "code",
   "execution_count": 2,
   "id": "eb0b3a8e-a617-4e4b-9b11-2b6b9fff8a47",
   "metadata": {},
   "outputs": [
    {
     "data": {
      "text/plain": [
       "(1, 3, 12)"
      ]
     },
     "execution_count": 2,
     "metadata": {},
     "output_type": "execute_result"
    }
   ],
   "source": [
    "time_horizion = 1,3,12\n",
    "time_horizion #correspond to different common time periods"
   ]
  },
  {
   "cell_type": "code",
   "execution_count": 3,
   "id": "51b3caad-39fc-4509-95c1-4af1176105c8",
   "metadata": {},
   "outputs": [
    {
     "data": {
      "text/plain": [
       "['product A', 'product B']"
      ]
     },
     "execution_count": 3,
     "metadata": {},
     "output_type": "execute_result"
    }
   ],
   "source": [
    "products = ['product A', 'product B']\n",
    "products"
   ]
  },
  {
   "cell_type": "code",
   "execution_count": 10,
   "id": "64169313-e563-410a-86a2-94d8b59572cc",
   "metadata": {},
   "outputs": [
    {
     "data": {
      "text/plain": [
       "'expected sales for a period of 12 month for product B:'"
      ]
     },
     "execution_count": 10,
     "metadata": {},
     "output_type": "execute_result"
    }
   ],
   "source": [
    "'expected sales for a period of {} month for {}:'.format(12,'product B') #we are using positonal arguments\n",
    "#python was converting the empty {} into the numbers of 0 and 1 in the background\n",
    "#this is how python will treat the arguments of the .format() method by default\n",
    "#this means that we could also refer to these arguments by explicitly specifying an index value within the placeholders"
   ]
  },
  {
   "cell_type": "code",
   "execution_count": 7,
   "id": "ba87e634-59af-4ff8-98b9-1e1bcd217906",
   "metadata": {},
   "outputs": [
    {
     "data": {
      "text/plain": [
       "'expected sales for a period of 3 month for product A:'"
      ]
     },
     "execution_count": 7,
     "metadata": {},
     "output_type": "execute_result"
    }
   ],
   "source": [
    "'expected sales for a period of {} month for {}:'.format(time_horizion[1],products[0]) #we are using positonal arguments"
   ]
  },
  {
   "cell_type": "code",
   "execution_count": 11,
   "id": "e6d10ced-ebc3-4f3c-8a59-18a80b8ba01a",
   "metadata": {},
   "outputs": [
    {
     "data": {
      "text/plain": [
       "'expected sales for a period of 3 month for product A:'"
      ]
     },
     "execution_count": 11,
     "metadata": {},
     "output_type": "execute_result"
    }
   ],
   "source": [
    "'expected sales for a period of {0} month for {1}:'.format(time_horizion[1],products[0])"
   ]
  },
  {
   "cell_type": "code",
   "execution_count": 13,
   "id": "90caebfb-d706-456f-b76d-24516e53bc2e",
   "metadata": {},
   "outputs": [
    {
     "data": {
      "text/plain": [
       "'expected sales for a period of product A month for 3:'"
      ]
     },
     "execution_count": 13,
     "metadata": {},
     "output_type": "execute_result"
    }
   ],
   "source": [
    "'expected sales for a period of {1} month for {0}:'.format(time_horizion[1],products[0]) #swaping the index numnbers swapped the arguments as well of the method"
   ]
  },
  {
   "cell_type": "code",
   "execution_count": 14,
   "id": "884586e6-6439-4991-ac5d-cf013774108e",
   "metadata": {},
   "outputs": [
    {
     "data": {
      "text/plain": [
       "'expected sales for a period of 12 month for product B:'"
      ]
     },
     "execution_count": 14,
     "metadata": {},
     "output_type": "execute_result"
    }
   ],
   "source": [
    "#now using keyword arguments:\n",
    "#they are called keyword arguments or named arguments becuase you can refer to them not by using an index value in the placeholders but by using keys, which can also be thought of as their names at the same time\n",
    "#to be able to use keyword arguments, you have to designate the relevant key value pairs within the {}, thus as you reference an argument by its key the format method will insert the corresponding value within the given place holder\n",
    "\n",
    "'expected sales for a period of {t_hr} month for {prod}:'.format(t_hr = 12, prod = 'product B')\n"
   ]
  },
  {
   "cell_type": "code",
   "execution_count": 18,
   "id": "0ee34f8c-6c65-475f-813d-1be602ca75fe",
   "metadata": {},
   "outputs": [
    {
     "data": {
      "text/plain": [
       "'expected sales for a period of 12 month for product A: $100'"
      ]
     },
     "execution_count": 18,
     "metadata": {},
     "output_type": "execute_result"
    }
   ],
   "source": [
    "'expected sales for a period of {t_hr[2]} month for {prod[0]}: ${sales}'.format(t_hr = time_horizion, prod = products, sales=100)\n"
   ]
  },
  {
   "cell_type": "code",
   "execution_count": 19,
   "id": "d873f1de-29bd-4b71-ad67-1db34e3bb9aa",
   "metadata": {},
   "outputs": [
    {
     "data": {
      "text/plain": [
       "'expected sales for a period of 10 month for product A: $100'"
      ]
     },
     "execution_count": 19,
     "metadata": {},
     "output_type": "execute_result"
    }
   ],
   "source": [
    "#we can use both index values and keys at the same time \n",
    "'expected sales for a period of {0} month for {prod[0]}: ${sales}'.format(10, prod = products, sales=100)\n"
   ]
  },
  {
   "cell_type": "markdown",
   "id": "46611fb6-32a7-41d6-8459-04b2ee0b4ca3",
   "metadata": {},
   "source": [
    "### Iterating Over a Range of Objects\n",
    "\n",
    "In this section, we will cover essential tools for every programmer, analyst, or data scientist who uses Python.\n",
    "\n",
    "#### **Understanding the Loop Components:**\n",
    "\n",
    "When iterating over a collection of objects, we use a **for loop**. Here's the basic structure:\n",
    "\n",
    "```python\n",
    "for i in t:\n",
    "```\n",
    "\n",
    "- **`i`** is the **loop variable** (also called the **iterator variable**). This variable represents the current element of the iteration.\n",
    "- **`t`** is the **iterable**, which is any object that can be looped over (such as lists, tuples, dictionaries, strings, and more).\n",
    "- An **iterable** is typically a **sequence** (like a list or a string), but can also be any object that supports iteration, such as a file, a dictionary, or a set."
   ]
  },
  {
   "cell_type": "code",
   "execution_count": 1,
   "id": "34fd52a8-0910-42e9-ac95-6adab4b38053",
   "metadata": {},
   "outputs": [],
   "source": [
    "#to understand iterations better we will start with sequances \n",
    "t = (4,5,6,7) #tuple\n",
    "l = [10.5,20.75,30.0] #list\n",
    "s = 'abcde' #strings is also sequance "
   ]
  },
  {
   "cell_type": "code",
   "execution_count": 7,
   "id": "eed51d1c-0f99-4cfa-bdf6-6d6a17f35e0b",
   "metadata": {},
   "outputs": [
    {
     "name": "stdout",
     "output_type": "stream",
     "text": [
      "4 5 6 7 "
     ]
    }
   ],
   "source": [
    "for i in t:#i is the loop variable = iterator variable \n",
    "           #t is iterable - any objact that you can iterate (loop) over (a stream or collection of separate data values)\n",
    "           #iterable is expected to be a type of sequence\n",
    "    print(i,end=' ')"
   ]
  },
  {
   "cell_type": "code",
   "execution_count": 9,
   "id": "ae278ad7-109c-476d-92d9-9defe2db1fa0",
   "metadata": {},
   "outputs": [
    {
     "name": "stdout",
     "output_type": "stream",
     "text": [
      "0 1 2 3 4 "
     ]
    }
   ],
   "source": [
    "for i in range(5): #when we want to loop we can simply use for i in range(n) where n is the number of iterations we desire\n",
    "    print(i, end=' ')"
   ]
  },
  {
   "cell_type": "markdown",
   "id": "b8f41a49-5c73-469f-8d1b-f849597c99ae",
   "metadata": {},
   "source": [
    "### Nested Loops in Python\n",
    "\n",
    "Python allows us to have a loop within another loop. This is known as a **nested loop**. It is useful for iterating over multi-dimensional data structures (like lists of lists or matrices) or when you need to perform more complex iterations.\n",
    "\n",
    "#### Components of Nested Loops:\n",
    "- **i-loop** is the outer loop.\n",
    "- **j-loop** is the inner loop.\n",
    "- The **j-loop** is **nested inside** the **i-loop**, meaning the inner loop runs for each iteration of the outer loop.\n",
    "\n"
   ]
  },
  {
   "cell_type": "code",
   "execution_count": 10,
   "id": "9e7a1045-7b56-4c8d-a2ff-76c84a8814a5",
   "metadata": {},
   "outputs": [
    {
     "name": "stdout",
     "output_type": "stream",
     "text": [
      "0\n",
      "1\n"
     ]
    }
   ],
   "source": [
    "for i in range(2):\n",
    "    print (i)"
   ]
  },
  {
   "cell_type": "code",
   "execution_count": 11,
   "id": "504852d8-d08a-4a87-9a45-15abd7b96760",
   "metadata": {},
   "outputs": [
    {
     "name": "stdout",
     "output_type": "stream",
     "text": [
      "0\n",
      "1\n",
      "2\n",
      "3\n",
      "4\n"
     ]
    }
   ],
   "source": [
    "for j in range(5):\n",
    "    print (j)"
   ]
  },
  {
   "cell_type": "code",
   "execution_count": 15,
   "id": "8bfd97bd-8cdf-4e99-a902-4621ca92bf4c",
   "metadata": {},
   "outputs": [
    {
     "name": "stdout",
     "output_type": "stream",
     "text": [
      "[0, 0]\n",
      "[0, 1]\n",
      "[0, 2]\n",
      "[0, 3]\n",
      "[0, 4]\n",
      "[1, 0]\n",
      "[1, 1]\n",
      "[1, 2]\n",
      "[1, 3]\n",
      "[1, 4]\n"
     ]
    }
   ],
   "source": [
    "for i in range(2): #nested loops \n",
    "    for j in range(5): #the j-loop has been nested in the i-loop (or placed within/inside the i-loop)\n",
    "        print([i,j])   #j-loop is an inner loop, i-loop is the outer loop\n",
    "# the result is [row value,column value]"
   ]
  },
  {
   "cell_type": "code",
   "execution_count": 19,
   "id": "d7a7a767-0474-489b-a6ef-0a897cdab703",
   "metadata": {},
   "outputs": [
    {
     "name": "stdout",
     "output_type": "stream",
     "text": [
      "['product a', 1000]\n",
      "['product a', 1100]\n",
      "['product a', 1200]\n",
      "['product a', 1300]\n",
      "['product a', 1400]\n",
      "['product b', 1000]\n",
      "['product b', 1100]\n",
      "['product b', 1200]\n",
      "['product b', 1300]\n",
      "['product b', 1400]\n"
     ]
    }
   ],
   "source": [
    "products = ['product a','product b']\n",
    "sales = [1000, 1100,1200,1300,1400]\n",
    "for i in products: \n",
    "    for j in sales:\n",
    "        print([i,j])  "
   ]
  },
  {
   "cell_type": "markdown",
   "id": "5a39236a-b307-4257-bbca-f587fa3c7dcf",
   "metadata": {},
   "source": [
    "### Triple Nested For Loops\n",
    "\n",
    "In some cases, you may need to iterate over more than two levels of data. This is where **triple nested for loops** come in handy, allowing you to work with three levels of iteration. This can be useful when dealing with **3D matrices**, **data tables with multiple columns**, or any other complex data structure.\n",
    "\n",
    "\n",
    "### Tips for Using Nested Loops:\n",
    "1. **Use specific names for iteration variables**: This makes the code easier to understand. For example, use `row`, `col`, or `value` instead of generic names like `i`, `j`, or `k`, unless it's very clear what they represent.\n",
    "   \n",
    "   - `for row in matrix` instead of `for i in matrix`\n",
    "   - `for col in row` instead of `for j in row`\n",
    "\n",
    "2. **Use `.format()` method for string outputs**: Most of the time, you don't want your results in the form of a list. Instead, you may want to output them as formatted strings. The `.format()` method is a great tool to achieve this.\n",
    "\n",
    "   Example:\n",
    "   ```python\n",
    "   for row in matrix:\n",
    "       for col in row:\n",
    "           for value in col:\n",
    "               print(\"The value is: {}\".format(value))\n",
    "   ```\n",
    "\n",
    "3. **Switching loop order**: If you switch the order of the inner loops, you can achieve the same result but with a different sorting order. This allows you to manipulate the dimensions and still get the same results without affecting the outcome.\n",
    "\n",
    "---\n",
    "\n",
    "### Do You Know?\n",
    "\n",
    "- **Nested loops**: Writing triple or even more nested loops is often considered **non-Pythonic** because it can be cumbersome and inefficient, especially with large datasets.\n",
    "  \n",
    "- **List comprehensions**: A more **Pythonic** way to achieve similar results is by using "
   ]
  },
  {
   "cell_type": "code",
   "execution_count": 29,
   "id": "b0cfe62c-f7ec-4237-a461-c50d0f402b50",
   "metadata": {},
   "outputs": [
    {
     "name": "stdout",
     "output_type": "stream",
     "text": [
      "['product a', 1000, 1]\n",
      "['product a', 1000, 3]\n",
      "['product a', 1000, 12]\n",
      "['product a', 1100, 1]\n",
      "['product a', 1100, 3]\n",
      "['product a', 1100, 12]\n",
      "['product a', 1200, 1]\n",
      "['product a', 1200, 3]\n",
      "['product a', 1200, 12]\n",
      "['product a', 1300, 1]\n",
      "['product a', 1300, 3]\n",
      "['product a', 1300, 12]\n",
      "['product a', 1400, 1]\n",
      "['product a', 1400, 3]\n",
      "['product a', 1400, 12]\n",
      "['product b', 1000, 1]\n",
      "['product b', 1000, 3]\n",
      "['product b', 1000, 12]\n",
      "['product b', 1100, 1]\n",
      "['product b', 1100, 3]\n",
      "['product b', 1100, 12]\n",
      "['product b', 1200, 1]\n",
      "['product b', 1200, 3]\n",
      "['product b', 1200, 12]\n",
      "['product b', 1300, 1]\n",
      "['product b', 1300, 3]\n",
      "['product b', 1300, 12]\n",
      "['product b', 1400, 1]\n",
      "['product b', 1400, 3]\n",
      "['product b', 1400, 12]\n"
     ]
    }
   ],
   "source": [
    "products = ['product a','product b']\n",
    "sales = [1000, 1100,1200,1300,1400]\n",
    "time = (1,3,12) #number of month\n",
    "\n",
    "for prod in products: #triple nested loops \n",
    "    for sale in sales:\n",
    "        for t_month in time: #the inner loop must always complete all of its iterations before we can refer to an outer loop \n",
    "            # print([prod,sale*t_month])  \n",
    "            print([prod,sale,t_month])  "
   ]
  },
  {
   "cell_type": "code",
   "execution_count": 33,
   "id": "fb6f43f3-30ae-45dd-bab5-6a16d5402e89",
   "metadata": {},
   "outputs": [
    {
     "name": "stdout",
     "output_type": "stream",
     "text": [
      "expected sales for a period of 1 months for product a: $1000\n",
      "expected sales for a period of 1 months for product a: $1100\n",
      "expected sales for a period of 1 months for product a: $1200\n",
      "expected sales for a period of 1 months for product a: $1300\n",
      "expected sales for a period of 1 months for product a: $1400\n",
      "expected sales for a period of 3 months for product a: $1000\n",
      "expected sales for a period of 3 months for product a: $1100\n",
      "expected sales for a period of 3 months for product a: $1200\n",
      "expected sales for a period of 3 months for product a: $1300\n",
      "expected sales for a period of 3 months for product a: $1400\n",
      "expected sales for a period of 12 months for product a: $1000\n",
      "expected sales for a period of 12 months for product a: $1100\n",
      "expected sales for a period of 12 months for product a: $1200\n",
      "expected sales for a period of 12 months for product a: $1300\n",
      "expected sales for a period of 12 months for product a: $1400\n",
      "expected sales for a period of 1 months for product b: $1000\n",
      "expected sales for a period of 1 months for product b: $1100\n",
      "expected sales for a period of 1 months for product b: $1200\n",
      "expected sales for a period of 1 months for product b: $1300\n",
      "expected sales for a period of 1 months for product b: $1400\n",
      "expected sales for a period of 3 months for product b: $1000\n",
      "expected sales for a period of 3 months for product b: $1100\n",
      "expected sales for a period of 3 months for product b: $1200\n",
      "expected sales for a period of 3 months for product b: $1300\n",
      "expected sales for a period of 3 months for product b: $1400\n",
      "expected sales for a period of 12 months for product b: $1000\n",
      "expected sales for a period of 12 months for product b: $1100\n",
      "expected sales for a period of 12 months for product b: $1200\n",
      "expected sales for a period of 12 months for product b: $1300\n",
      "expected sales for a period of 12 months for product b: $1400\n"
     ]
    }
   ],
   "source": [
    "products = ['product a','product b']\n",
    "sales = [1000, 1100,1200,1300,1400]\n",
    "time = (1,3,12) \n",
    "\n",
    "for prod in products: \n",
    "    for t_month in time:\n",
    "        for sale in sales:\n",
    "            print('expected sales for a period of {} months for {}: ${}'.format(t_month, prod,sale))  "
   ]
  },
  {
   "cell_type": "markdown",
   "id": "3b8b6675-0819-4e64-a62a-5435bc63dba3",
   "metadata": {},
   "source": [
    "### List Comprehensions\n",
    "\n",
    "List comprehensions are a powerful feature in Python that allow for concise and readable code to generate lists, dictionaries, and even generators. They allow for easy creation of new collections by applying transformations and filters to existing iterables in a compact syntax.\n",
    "\n",
    "Key Features:\n",
    "- **Easy to understand**: Once familiar with the syntax, they provide an intuitive way to generate lists.\n",
    "- **Quick to write**: They replace verbose loops, making the code shorter and cleaner.\n",
    "- **Support conditions**: You can apply conditions on both the iterable and the output.\n",
    "- **Multidimensional lists**: List comprehensions can be used to generate multidimensional lists.\n",
    "- **Efficient with generators**: Generator comprehensions provide memory-efficient iterators.\n",
    "\n",
    "However, they may not always be the best choice in cases where:\n",
    "- Readability suffers due to complexity.\n",
    "- Memory efficiency or performance is critical, especially with large datasets.\n",
    "\n",
    "List comprehensions are a fantastic tool for high-quality, concise code but should be used wisely depending on the context."
   ]
  },
  {
   "cell_type": "code",
   "execution_count": 37,
   "id": "bd3ef595-1c45-4034-b0e6-591de5a1d817",
   "metadata": {},
   "outputs": [],
   "source": [
    "numbers = [ 1,13,4,5,63,100]"
   ]
  },
  {
   "cell_type": "code",
   "execution_count": 40,
   "id": "f69a2244-d025-446d-af2b-b1933a222464",
   "metadata": {},
   "outputs": [
    {
     "name": "stdout",
     "output_type": "stream",
     "text": [
      "[2, 26, 8, 10, 126, 200]\n"
     ]
    }
   ],
   "source": [
    "new_numbers = [] #create an empty list\n",
    "\n",
    "for n in numbers: #specify a for loop \n",
    "    new_numbers.append(n*2) #append the product of each element and the number 2 to the new list\n",
    "print(new_numbers) # n*2 is an output expression for an element in iterable "
   ]
  },
  {
   "cell_type": "code",
   "execution_count": 41,
   "id": "79464d7b-ccc5-43f3-8cb8-3c639945cc73",
   "metadata": {},
   "outputs": [
    {
     "name": "stdout",
     "output_type": "stream",
     "text": [
      "[2, 26, 8, 10, 126, 200]\n"
     ]
    }
   ],
   "source": [
    "new_numbers2 = [n*2 for n in numbers] #same output but less code \n",
    "print(new_numbers2)"
   ]
  },
  {
   "cell_type": "code",
   "execution_count": 42,
   "id": "f696f5a3-8f84-45ff-ad88-90ee5740aec6",
   "metadata": {},
   "outputs": [
    {
     "name": "stdout",
     "output_type": "stream",
     "text": [
      "0 1 2 3 4 1 2 3 4 5 "
     ]
    }
   ],
   "source": [
    "#another example: nested loops \n",
    "for i in range(2):\n",
    "    for j in range(5):\n",
    "        print(i+j, end=' ')"
   ]
  },
  {
   "cell_type": "code",
   "execution_count": 44,
   "id": "f9538e78-0cfa-4d53-afe5-77b4d1114698",
   "metadata": {},
   "outputs": [
    {
     "name": "stdout",
     "output_type": "stream",
     "text": [
      "[0, 1, 2, 3, 4, 1, 2, 3, 4, 5]\n"
     ]
    }
   ],
   "source": [
    "new_list_comprehension = [i+j for i in range(2) for j in range(5)]\n",
    "print(new_list_comprehension)"
   ]
  },
  {
   "cell_type": "code",
   "execution_count": 45,
   "id": "22a2b687-c90b-408d-b38a-12e81dfb8b73",
   "metadata": {},
   "outputs": [
    {
     "name": "stdout",
     "output_type": "stream",
     "text": [
      "[[0, 1], [1, 2], [2, 3], [3, 4], [4, 5]]\n"
     ]
    }
   ],
   "source": [
    "#another example: multidimensional list \n",
    "new_list_comprehension2 = [ [i+j for i in range(2)] for j in range(5)]\n",
    "print(new_list_comprehension2)"
   ]
  },
  {
   "cell_type": "code",
   "execution_count": 47,
   "id": "e8e39137-c747-47a8-9c46-736455af3878",
   "metadata": {},
   "outputs": [
    {
     "data": {
      "text/plain": [
       "[1, 27, 125, 343, 729]"
      ]
     },
     "execution_count": 47,
     "metadata": {},
     "output_type": "execute_result"
    }
   ],
   "source": [
    "#another example: setting conditions\n",
    "[num **3 for num in range(1,11) if num % 2 != 0] #in a list from 1 to 10, if the number is odd we print it to the power of three"
   ]
  },
  {
   "cell_type": "code",
   "execution_count": 49,
   "id": "8af9bff4-7506-4e5a-9e12-2300897800ea",
   "metadata": {},
   "outputs": [
    {
     "ename": "SyntaxError",
     "evalue": "expected 'else' after 'if' expression (1680024650.py, line 1)",
     "output_type": "error",
     "traceback": [
      "\u001b[1;36m  Cell \u001b[1;32mIn[49], line 1\u001b[1;36m\u001b[0m\n\u001b[1;33m    [num **3 if num % 2 != 0 for num in range(1,11)] #moving the condition to nexto the expression\u001b[0m\n\u001b[1;37m     ^\u001b[0m\n\u001b[1;31mSyntaxError\u001b[0m\u001b[1;31m:\u001b[0m expected 'else' after 'if' expression\n"
     ]
    }
   ],
   "source": [
    "[num **3 if num % 2 != 0 for num in range(1,11)] #moving the condition to nexto the expression\n",
    "#we will get an error because we must provide a clear indication to python about what exactly we want to be displayed in each potential outcome"
   ]
  },
  {
   "cell_type": "code",
   "execution_count": 50,
   "id": "166cba41-3eed-475d-ab72-1cf16f8276d3",
   "metadata": {},
   "outputs": [
    {
     "data": {
      "text/plain": [
       "[1, 'even', 27, 'even', 125, 'even', 343, 'even', 729, 'even']"
      ]
     },
     "execution_count": 50,
     "metadata": {},
     "output_type": "execute_result"
    }
   ],
   "source": [
    "[num **3 if num % 2 != 0 else 'even' for num in range(1,11)] #sol: add else statement"
   ]
  },
  {
   "cell_type": "code",
   "execution_count": 51,
   "id": "fd439f0f-16f4-4702-88fd-16b50569b461",
   "metadata": {},
   "outputs": [],
   "source": [
    "#you can place a condition on the right of the iterable to filter out certain values from the iterable "
   ]
  },
  {
   "cell_type": "markdown",
   "id": "913f3884-9159-4574-9953-fe9457a404a5",
   "metadata": {},
   "source": [
    "### Lambda Functions in Python\n",
    "\n",
    "Lambda functions, also known as anonymous functions, provide a compact way to define simple functions without naming them. \n",
    "\n",
    "Key Features:\n",
    "- **No need to define a full function**: Lambda functions are useful when you don't need to create a whole function and just need a small piece of functionality.\n",
    "- **Single expression**: They can only contain a single expression, making them less versatile but more concise for simple operations.\n",
    "- **One or more parameters**: Lambda functions can take multiple parameters, but still only have one expression.\n",
    "- **Limited scope**: They can only be used within the larger expression or context in which they are written.\n",
    "- **Compact syntax**: They allow you to write quick functions in a single line of code, making them ideal for short tasks within complex expressions.\n",
    "\n",
    "Lambda functions are commonly used with higher-order functions like `map()`, `filter()`, and `sorted()`, especially when a full function definition would be overkill."
   ]
  },
  {
   "cell_type": "code",
   "execution_count": 73,
   "id": "bf5381c7-cef5-4a18-812d-db58c4a84df3",
   "metadata": {},
   "outputs": [
    {
     "data": {
      "text/plain": [
       "9"
      ]
     },
     "execution_count": 73,
     "metadata": {},
     "output_type": "execute_result"
    }
   ],
   "source": [
    "def rais_to_power_of_2(x):\n",
    "    return x ** 2\n",
    "rais_to_power_of_2(3)"
   ]
  },
  {
   "cell_type": "code",
   "execution_count": 64,
   "id": "f275c52a-c09b-4556-ac47-baf9a9e243e8",
   "metadata": {},
   "outputs": [
    {
     "data": {
      "text/plain": [
       "<function __main__.<lambda>(x)>"
      ]
     },
     "execution_count": 64,
     "metadata": {},
     "output_type": "execute_result"
    }
   ],
   "source": [
    "#this is a substitute of the function above \n",
    "lambda x : x ** 2"
   ]
  },
  {
   "cell_type": "code",
   "execution_count": 66,
   "id": "1163a255-7a02-4429-894a-80604be010b6",
   "metadata": {},
   "outputs": [
    {
     "data": {
      "text/plain": [
       "9"
      ]
     },
     "execution_count": 66,
     "metadata": {},
     "output_type": "execute_result"
    }
   ],
   "source": [
    "rais_to_power_of_2_lambda = lambda x : x ** 2 #a lamda function is completely equivalent to an ordinary function \n",
    "rais_to_power_of_2_lambda(3)"
   ]
  },
  {
   "cell_type": "code",
   "execution_count": 67,
   "id": "1a0780f4-b7ce-4fb6-ade8-997ac66395b0",
   "metadata": {},
   "outputs": [
    {
     "data": {
      "text/plain": [
       "5.5"
      ]
     },
     "execution_count": 67,
     "metadata": {},
     "output_type": "execute_result"
    }
   ],
   "source": [
    "#another example: the value of the provided argument divided by two\n",
    "(lambda x: x/2) (11) #pass the argument in ()"
   ]
  },
  {
   "cell_type": "code",
   "execution_count": 68,
   "id": "42b80b76-0265-4f99-9abe-775d1cad7e43",
   "metadata": {},
   "outputs": [
    {
     "data": {
      "text/plain": [
       "5"
      ]
     },
     "execution_count": 68,
     "metadata": {},
     "output_type": "execute_result"
    }
   ],
   "source": [
    "#another example: lambda can have multiple parameters\n",
    "sum_xy = lambda x,y: x+y\n",
    "sum_xy(2,3)"
   ]
  },
  {
   "cell_type": "code",
   "execution_count": 72,
   "id": "13151dd1-f77a-4a77-80df-85e0ad3d5876",
   "metadata": {},
   "outputs": [
    {
     "data": {
      "text/plain": [
       "6"
      ]
     },
     "execution_count": 72,
     "metadata": {},
     "output_type": "execute_result"
    }
   ],
   "source": [
    "#y can also be a function of x\n",
    "sum_xy = lambda x,y: x+y(x) #y is a function of x\n",
    "sum_xy(2, lambda x : x * 2) #x is a numaric number but y has to be a function "
   ]
  },
  {
   "cell_type": "code",
   "execution_count": null,
   "id": "666e0696-15a8-4bd1-9e5a-fe28913636c2",
   "metadata": {},
   "outputs": [],
   "source": []
  }
 ],
 "metadata": {
  "kernelspec": {
   "display_name": "Python 3 (ipykernel)",
   "language": "python",
   "name": "python3"
  },
  "language_info": {
   "codemirror_mode": {
    "name": "ipython",
    "version": 3
   },
   "file_extension": ".py",
   "mimetype": "text/x-python",
   "name": "python",
   "nbconvert_exporter": "python",
   "pygments_lexer": "ipython3",
   "version": "3.12.4"
  }
 },
 "nbformat": 4,
 "nbformat_minor": 5
}
