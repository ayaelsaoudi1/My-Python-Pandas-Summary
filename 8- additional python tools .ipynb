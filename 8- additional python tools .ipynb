{
 "cells": [
  {
   "cell_type": "markdown",
   "id": "dfcfcf82-aab3-400d-9485-22162c630f3d",
   "metadata": {},
   "source": [
    "# **Additional Python Tools**\n",
    "\n",
    "## **String Formatting with `.format()`**\n",
    "\n",
    "The `.format()` method in Python provides a powerful way to dynamically format strings by inserting values into predefined templates.\n",
    "\n",
    "### **Basic Usage**\n",
    "- Uses `{}` as placeholders to insert values dynamically.\n",
    "- Works with various data types."
   ]
  },
  {
   "cell_type": "code",
   "execution_count": 1,
   "id": "aaf006d4-8033-479f-a6ba-1faac4d9873b",
   "metadata": {},
   "outputs": [
    {
     "name": "stdout",
     "output_type": "stream",
     "text": [
      "Hello, my name is Alice and I am 30 years old.\n"
     ]
    }
   ],
   "source": [
    "name = \"Alice\"\n",
    "age = 30\n",
    "message = \"Hello, my name is {} and I am {} years old.\".format(name, age)\n",
    "print(message)\n",
    "# Output: Hello, my name is Alice and I am 30 years old."
   ]
  },
  {
   "cell_type": "markdown",
   "id": "fc12ecf1-375f-46e6-ab18-23b7275c44fc",
   "metadata": {},
   "source": [
    "### **Types of Arguments in `.format()`**\n",
    "1. **Positional Arguments**\n",
    "   - Values are inserted in order."
   ]
  },
  {
   "cell_type": "code",
   "execution_count": 3,
   "id": "e1c4a3c4-720b-4ff7-910d-37100172187d",
   "metadata": {},
   "outputs": [
    {
     "name": "stdout",
     "output_type": "stream",
     "text": [
      "The dog is 5 years old.\n"
     ]
    }
   ],
   "source": [
    "message = \"The {0} is {1} years old.\".format(\"dog\", 5)\n",
    "print(message)\n",
    "# Output: The dog is 5 years old."
   ]
  },
  {
   "cell_type": "markdown",
   "id": "75b3f4d1-850c-4917-8acd-f9a46239bfa3",
   "metadata": {},
   "source": [
    "2. **Keyword Arguments**\n",
    "   - Uses named placeholders."
   ]
  },
  {
   "cell_type": "code",
   "execution_count": 4,
   "id": "e1caa3cb-50d6-4cb0-b90d-866233f5562d",
   "metadata": {},
   "outputs": [
    {
     "name": "stdout",
     "output_type": "stream",
     "text": [
      "The cat is 3 years old.\n"
     ]
    }
   ],
   "source": [
    "message = \"The {animal} is {age} years old.\".format(animal=\"cat\", age=3)\n",
    "print(message)\n",
    "# Output: The cat is 3 years old."
   ]
  },
  {
   "cell_type": "markdown",
   "id": "c708a1cb-581f-4ffe-b7d6-bc0bd7122408",
   "metadata": {},
   "source": [
    "3. **Mixing Positional and Keyword Arguments**\n"
   ]
  },
  {
   "cell_type": "code",
   "execution_count": 5,
   "id": "7e9cdecf-48e1-4130-a15f-f211db98e667",
   "metadata": {},
   "outputs": [
    {
     "name": "stdout",
     "output_type": "stream",
     "text": [
      "The rabbit is 2 years old.\n"
     ]
    }
   ],
   "source": [
    "message = \"The {0} is {age} years old.\".format(\"rabbit\", age=2)\n",
    "print(message)\n",
    "# Output: The rabbit is 2 years old."
   ]
  },
  {
   "cell_type": "markdown",
   "id": "9512260c-ebe2-4796-848e-d595dfde472c",
   "metadata": {},
   "source": [
    "4. **Passing Lists or Objects**"
   ]
  },
  {
   "cell_type": "code",
   "execution_count": 6,
   "id": "33e9b7d1-dc45-4c23-bf12-65e836cb6d8b",
   "metadata": {},
   "outputs": [
    {
     "name": "stdout",
     "output_type": "stream",
     "text": [
      "First: 10, Second: 20, Third: 30\n"
     ]
    }
   ],
   "source": [
    "values = [10, 20, 30]\n",
    "message = \"First: {}, Second: {}, Third: {}\".format(*values)\n",
    "print(message)\n",
    "# Output: First: 10, Second: 20, Third: 30"
   ]
  },
  {
   "cell_type": "markdown",
   "id": "cd1766cb-025d-483f-b727-f86952e8236b",
   "metadata": {},
   "source": [
    "### **Key Features of `.format()`**\n",
    "- Flexible and readable.\n",
    "- Supports both positional and keyword arguments.\n",
    "- Works with lists, objects, and expressions.\n",
    "\n",
    "---\n",
    "\n",
    "## **Using `.format()` in Real-world Scenarios**"
   ]
  },
  {
   "cell_type": "code",
   "execution_count": 8,
   "id": "2dfaec29-1e1b-4890-922c-cf31409690f7",
   "metadata": {},
   "outputs": [
    {
     "name": "stdout",
     "output_type": "stream",
     "text": [
      "Expected sales for a period of 12 months for Product B:\n",
      "Expected sales for a period of 3 months for Product A:\n",
      "Expected sales for a period of Product A months for 3:\n",
      "Expected sales for a period of 12 months for Product B:\n",
      "Expected sales for a period of 12 months for Product A: $100\n"
     ]
    }
   ],
   "source": [
    "time_horizon = (1, 3, 12)\n",
    "products = ['Product A', 'Product B']\n",
    "\n",
    "# Using positional arguments\n",
    "print('Expected sales for a period of {} months for {}:'.format(12, 'Product B'))\n",
    "# Output: Expected sales for a period of 12 months for Product B:\n",
    "\n",
    "# Explicitly specifying index values\n",
    "print('Expected sales for a period of {0} months for {1}:'.format(time_horizon[1], products[0]))\n",
    "# Output: Expected sales for a period of 3 months for Product A:\n",
    "\n",
    "# Swapping index numbers\n",
    "print('Expected sales for a period of {1} months for {0}:'.format(time_horizon[1], products[0]))\n",
    "# Output: Expected sales for a period of Product A months for 3:\n",
    "\n",
    "# Using keyword arguments\n",
    "print('Expected sales for a period of {t_hr} months for {prod}:'.format(t_hr=12, prod='Product B'))\n",
    "print('Expected sales for a period of {t_hr[2]} months for {prod[0]}: ${sales}'.format(t_hr=time_horizon, prod=products, sales=100))"
   ]
  },
  {
   "cell_type": "markdown",
   "id": "e7975e79-c31f-4617-a1f3-c13f06057d55",
   "metadata": {},
   "source": [
    "## **Iterating Over a Range of Objects**\n",
    "### **Understanding the Loop Components**\n",
    "```python\n",
    "for i in t:\n",
    "```\n",
    "- **`i`** → loop variable (iterator).\n",
    "- **`t`** → iterable (e.g., list, tuple, dictionary, string).\n",
    "\n",
    "### **Examples of Iteration**"
   ]
  },
  {
   "cell_type": "code",
   "execution_count": 9,
   "id": "b75b46bb-bfe6-49f8-9fce-b035e19c1e0c",
   "metadata": {},
   "outputs": [
    {
     "name": "stdout",
     "output_type": "stream",
     "text": [
      "4 5 6 7 0 1 2 3 4 "
     ]
    }
   ],
   "source": [
    "t = (4, 5, 6, 7)  # Tuple\n",
    "l = [10.5, 20.75, 30.0]  # List\n",
    "s = 'abcde'  # String (also a sequence)\n",
    "\n",
    "# Iterating over a tuple\n",
    "for i in t:\n",
    "    print(i, end=' ')\n",
    "\n",
    "# Using range for iteration\n",
    "for i in range(5):\n",
    "    print(i, end=' ')"
   ]
  },
  {
   "cell_type": "markdown",
   "id": "3423a83f-2dde-4ccb-92ef-76cd231ca701",
   "metadata": {},
   "source": [
    "## **Nested Loops**\n",
    "Python supports **nested loops**, which means placing one loop inside another.\n",
    "\n",
    "### **Example of Nested Loops**"
   ]
  },
  {
   "cell_type": "code",
   "execution_count": 10,
   "id": "187cede6-07c5-437e-9bee-10dacc52fc5e",
   "metadata": {
    "scrolled": true
   },
   "outputs": [
    {
     "name": "stdout",
     "output_type": "stream",
     "text": [
      "[0, 0]\n",
      "[0, 1]\n",
      "[0, 2]\n",
      "[0, 3]\n",
      "[0, 4]\n",
      "[1, 0]\n",
      "[1, 1]\n",
      "[1, 2]\n",
      "[1, 3]\n",
      "[1, 4]\n"
     ]
    }
   ],
   "source": [
    "for i in range(2):\n",
    "    for j in range(5):\n",
    "        print([i, j])"
   ]
  },
  {
   "cell_type": "markdown",
   "id": "ece58040-9f3e-42b9-b8d4-ba21d53184f9",
   "metadata": {},
   "source": [
    "### **Triple Nested Loops**"
   ]
  },
  {
   "cell_type": "code",
   "execution_count": 11,
   "id": "5185c924-7108-41c1-a616-92d22ae955c0",
   "metadata": {
    "scrolled": true
   },
   "outputs": [
    {
     "name": "stdout",
     "output_type": "stream",
     "text": [
      "['Product A', 1000, 1]\n",
      "['Product A', 1000, 3]\n",
      "['Product A', 1000, 12]\n",
      "['Product A', 1100, 1]\n",
      "['Product A', 1100, 3]\n",
      "['Product A', 1100, 12]\n",
      "['Product A', 1200, 1]\n",
      "['Product A', 1200, 3]\n",
      "['Product A', 1200, 12]\n",
      "['Product A', 1300, 1]\n",
      "['Product A', 1300, 3]\n",
      "['Product A', 1300, 12]\n",
      "['Product A', 1400, 1]\n",
      "['Product A', 1400, 3]\n",
      "['Product A', 1400, 12]\n",
      "['Product B', 1000, 1]\n",
      "['Product B', 1000, 3]\n",
      "['Product B', 1000, 12]\n",
      "['Product B', 1100, 1]\n",
      "['Product B', 1100, 3]\n",
      "['Product B', 1100, 12]\n",
      "['Product B', 1200, 1]\n",
      "['Product B', 1200, 3]\n",
      "['Product B', 1200, 12]\n",
      "['Product B', 1300, 1]\n",
      "['Product B', 1300, 3]\n",
      "['Product B', 1300, 12]\n",
      "['Product B', 1400, 1]\n",
      "['Product B', 1400, 3]\n",
      "['Product B', 1400, 12]\n"
     ]
    }
   ],
   "source": [
    "products = ['Product A', 'Product B']\n",
    "sales = [1000, 1100, 1200, 1300, 1400]\n",
    "time_horizon = (1, 3, 12)\n",
    "\n",
    "for prod in products:\n",
    "    for sale in sales:\n",
    "        for t_month in time_horizon:\n",
    "            print([prod, sale, t_month])"
   ]
  },
  {
   "cell_type": "markdown",
   "id": "99e81918-5eb9-4742-a7c8-8cc8cdeb2ced",
   "metadata": {},
   "source": [
    "### **Using `.format()` in Nested Loops**"
   ]
  },
  {
   "cell_type": "code",
   "execution_count": 12,
   "id": "5f69d60a-f021-4442-a5b8-e65bb95f20df",
   "metadata": {
    "scrolled": true
   },
   "outputs": [
    {
     "name": "stdout",
     "output_type": "stream",
     "text": [
      "Expected sales for a period of 1 months for Product A: $1000\n",
      "Expected sales for a period of 1 months for Product A: $1100\n",
      "Expected sales for a period of 1 months for Product A: $1200\n",
      "Expected sales for a period of 1 months for Product A: $1300\n",
      "Expected sales for a period of 1 months for Product A: $1400\n",
      "Expected sales for a period of 3 months for Product A: $1000\n",
      "Expected sales for a period of 3 months for Product A: $1100\n",
      "Expected sales for a period of 3 months for Product A: $1200\n",
      "Expected sales for a period of 3 months for Product A: $1300\n",
      "Expected sales for a period of 3 months for Product A: $1400\n",
      "Expected sales for a period of 12 months for Product A: $1000\n",
      "Expected sales for a period of 12 months for Product A: $1100\n",
      "Expected sales for a period of 12 months for Product A: $1200\n",
      "Expected sales for a period of 12 months for Product A: $1300\n",
      "Expected sales for a period of 12 months for Product A: $1400\n",
      "Expected sales for a period of 1 months for Product B: $1000\n",
      "Expected sales for a period of 1 months for Product B: $1100\n",
      "Expected sales for a period of 1 months for Product B: $1200\n",
      "Expected sales for a period of 1 months for Product B: $1300\n",
      "Expected sales for a period of 1 months for Product B: $1400\n",
      "Expected sales for a period of 3 months for Product B: $1000\n",
      "Expected sales for a period of 3 months for Product B: $1100\n",
      "Expected sales for a period of 3 months for Product B: $1200\n",
      "Expected sales for a period of 3 months for Product B: $1300\n",
      "Expected sales for a period of 3 months for Product B: $1400\n",
      "Expected sales for a period of 12 months for Product B: $1000\n",
      "Expected sales for a period of 12 months for Product B: $1100\n",
      "Expected sales for a period of 12 months for Product B: $1200\n",
      "Expected sales for a period of 12 months for Product B: $1300\n",
      "Expected sales for a period of 12 months for Product B: $1400\n"
     ]
    }
   ],
   "source": [
    "for prod in products:\n",
    "    for t_month in time_horizon:\n",
    "        for sale in sales:\n",
    "            print('Expected sales for a period of {} months for {}: ${}'.format(t_month, prod, sale))"
   ]
  },
  {
   "cell_type": "markdown",
   "id": "33e5b3ca-c058-4fd1-8bbc-715586709177",
   "metadata": {},
   "source": [
    "## **List Comprehensions**\n",
    "List comprehensions provide a concise way to create lists.\n",
    "\n",
    "### **Basic Syntax**"
   ]
  },
  {
   "cell_type": "code",
   "execution_count": 13,
   "id": "a1a2aa13-8657-4f18-b020-c450766a9a36",
   "metadata": {},
   "outputs": [
    {
     "name": "stdout",
     "output_type": "stream",
     "text": [
      "[2, 26, 8, 10, 126, 200]\n"
     ]
    }
   ],
   "source": [
    "numbers = [1, 13, 4, 5, 63, 100]\n",
    "new_numbers = [n * 2 for n in numbers]\n",
    "print(new_numbers)"
   ]
  },
  {
   "cell_type": "markdown",
   "id": "80e00d15-5a34-477f-97db-c0eb20d6d955",
   "metadata": {},
   "source": [
    "### **Nested List Comprehension**"
   ]
  },
  {
   "cell_type": "code",
   "execution_count": 14,
   "id": "0908745c-fc9f-4d69-95ba-e91ab4315bc1",
   "metadata": {},
   "outputs": [
    {
     "name": "stdout",
     "output_type": "stream",
     "text": [
      "[0, 1, 2, 3, 4, 1, 2, 3, 4, 5]\n"
     ]
    }
   ],
   "source": [
    "new_list = [i + j for i in range(2) for j in range(5)]\n",
    "print(new_list)"
   ]
  },
  {
   "cell_type": "markdown",
   "id": "b61f06d1-0bed-47d5-b252-10cd8fc56c31",
   "metadata": {},
   "source": [
    "### **Multidimensional List Comprehension**"
   ]
  },
  {
   "cell_type": "code",
   "execution_count": 15,
   "id": "a394035d-f0cc-410e-b3ac-4ce1e1be5341",
   "metadata": {},
   "outputs": [
    {
     "name": "stdout",
     "output_type": "stream",
     "text": [
      "[[0, 1], [1, 2], [2, 3], [3, 4], [4, 5]]\n"
     ]
    }
   ],
   "source": [
    "matrix = [[i + j for i in range(2)] for j in range(5)]\n",
    "print(matrix)"
   ]
  },
  {
   "cell_type": "markdown",
   "id": "e5935eb2-5575-4d3f-b9cd-be14fcbb7df2",
   "metadata": {},
   "source": [
    "### **Using Conditions in List Comprehension**"
   ]
  },
  {
   "cell_type": "code",
   "execution_count": 16,
   "id": "3f3c3a27-8b1c-4605-89bc-6a6bb134dd14",
   "metadata": {},
   "outputs": [
    {
     "data": {
      "text/plain": [
       "[1, 'even', 27, 'even', 125, 'even', 343, 'even', 729, 'even']"
      ]
     },
     "execution_count": 16,
     "metadata": {},
     "output_type": "execute_result"
    }
   ],
   "source": [
    "[num ** 3 for num in range(1, 11) if num % 2 != 0]\n",
    "# Output: Cubes only for odd numbers\n",
    "\n",
    "[num ** 3 if num % 2 != 0 else 'even' for num in range(1, 11)]\n",
    "# Output: Cubes for odd numbers, \"even\" for even numbers"
   ]
  },
  {
   "cell_type": "markdown",
   "id": "33605983-86c5-4807-8f78-7da3e1f0c0e8",
   "metadata": {},
   "source": [
    "## **Lambda Functions in Python**\n",
    "Lambda functions are anonymous functions that can be defined in a single line.\n",
    "\n",
    "### **Basic Syntax**"
   ]
  },
  {
   "cell_type": "code",
   "execution_count": 17,
   "id": "01ddc854-2bbd-463c-95b7-358746dcd17b",
   "metadata": {},
   "outputs": [
    {
     "name": "stdout",
     "output_type": "stream",
     "text": [
      "25\n"
     ]
    }
   ],
   "source": [
    "square = lambda x: x ** 2\n",
    "print(square(5))\n",
    "# Output: 25"
   ]
  },
  {
   "cell_type": "markdown",
   "id": "6cc2d0eb-aa37-4b9c-ae78-b067ba52133d",
   "metadata": {},
   "source": [
    "### **Lambda with Multiple Arguments**"
   ]
  },
  {
   "cell_type": "code",
   "execution_count": 18,
   "id": "3f99952a-ba7d-47f1-be19-cc53ef7988e5",
   "metadata": {},
   "outputs": [
    {
     "name": "stdout",
     "output_type": "stream",
     "text": [
      "7\n"
     ]
    }
   ],
   "source": [
    "add = lambda x, y: x + y\n",
    "print(add(3, 4))\n",
    "# Output: 7"
   ]
  },
  {
   "cell_type": "markdown",
   "id": "0031b267-a7be-44c3-b911-76f4581133ba",
   "metadata": {},
   "source": [
    "### **Lambda in Sorting**"
   ]
  },
  {
   "cell_type": "code",
   "execution_count": 19,
   "id": "40e8fb3d-865f-4640-a77f-8bb991b4acd4",
   "metadata": {},
   "outputs": [
    {
     "name": "stdout",
     "output_type": "stream",
     "text": [
      "[('Charlie', 80), ('Alice', 85), ('Bob', 90)]\n"
     ]
    }
   ],
   "source": [
    "students = [('Alice', 85), ('Bob', 90), ('Charlie', 80)]\n",
    "sorted_students = sorted(students, key=lambda x: x[1])\n",
    "print(sorted_students)\n",
    "# Output: [('Charlie', 80), ('Alice', 85), ('Bob', 90)]"
   ]
  },
  {
   "cell_type": "markdown",
   "id": "c6d740e2-cfd2-4e78-a476-c15daa02b460",
   "metadata": {},
   "source": [
    "### **Lambda in `map()`**"
   ]
  },
  {
   "cell_type": "code",
   "execution_count": 20,
   "id": "f71f6b2d-5b65-4e05-8103-0078c73de635",
   "metadata": {},
   "outputs": [
    {
     "name": "stdout",
     "output_type": "stream",
     "text": [
      "[1, 4, 9, 16, 25]\n"
     ]
    }
   ],
   "source": [
    "numbers = [1, 2, 3, 4, 5]\n",
    "squared_numbers = list(map(lambda x: x ** 2, numbers))\n",
    "print(squared_numbers)\n",
    "# Output: [1, 4, 9, 16, 25]"
   ]
  },
  {
   "cell_type": "markdown",
   "id": "2e84dc8b-41c6-4de1-a6ed-0f6d1716f8ef",
   "metadata": {},
   "source": [
    "### **Lambda in `filter()`**"
   ]
  },
  {
   "cell_type": "code",
   "execution_count": 21,
   "id": "756c2086-3f81-4c64-b814-bcfe01ed803c",
   "metadata": {},
   "outputs": [
    {
     "name": "stdout",
     "output_type": "stream",
     "text": [
      "[2, 4]\n"
     ]
    }
   ],
   "source": [
    "even_numbers = list(filter(lambda x: x % 2 == 0, numbers))\n",
    "print(even_numbers)\n",
    "# Output: [2, 4]"
   ]
  },
  {
   "cell_type": "markdown",
   "id": "6c080e31-6ec8-4f9e-96d8-f39ff2ac1fda",
   "metadata": {},
   "source": [
    "### **Conclusion**\n",
    "This notebook covers essential **Python tools** including:\n",
    "- The `.format()` method for **string formatting**.\n",
    "- **Looping constructs** (basic loops, nested loops).\n",
    "- **List comprehensions** for efficient iteration.\n",
    "- **Lambda functions** for concise operations."
   ]
  },
  {
   "cell_type": "code",
   "execution_count": null,
   "id": "70eadb11-9b03-453b-95cb-1b8e9861ff3d",
   "metadata": {},
   "outputs": [],
   "source": []
  }
 ],
 "metadata": {
  "kernelspec": {
   "display_name": "Python 3 (ipykernel)",
   "language": "python",
   "name": "python3"
  },
  "language_info": {
   "codemirror_mode": {
    "name": "ipython",
    "version": 3
   },
   "file_extension": ".py",
   "mimetype": "text/x-python",
   "name": "python",
   "nbconvert_exporter": "python",
   "pygments_lexer": "ipython3",
   "version": "3.12.4"
  }
 },
 "nbformat": 4,
 "nbformat_minor": 5
}
