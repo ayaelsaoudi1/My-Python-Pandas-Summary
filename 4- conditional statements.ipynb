{
 "cells": [
  {
   "cell_type": "markdown",
   "id": "b2e49254-05d1-4e33-aabe-2364e96dd6c1",
   "metadata": {},
   "source": [
    "## The `if` Statement  \n",
    "\n",
    "The **`if`** statement is used to execute a block of code only if a specified condition is **True**.  \n",
    "\n",
    "```python\n",
    "if condition:  \n",
    "    # indented code block\n",
    "```\n",
    "\n",
    "- **Condition**: The expression or condition being evaluated.\n",
    "- **Indented code block**: The code that runs if the condition is true. Indentation is required to define the block of code that is part of the `if` statement."
   ]
  },
  {
   "cell_type": "code",
   "execution_count": 5,
   "id": "c5aa41e3-5702-4b0a-9c80-a571f67d859e",
   "metadata": {},
   "outputs": [
    {
     "name": "stdout",
     "output_type": "stream",
     "text": [
      "horray\n"
     ]
    }
   ],
   "source": [
    "if 15/3 == 5:\n",
    "    print(\"horray\")"
   ]
  },
  {
   "cell_type": "code",
   "execution_count": 7,
   "id": "6032d69c-fb45-41b8-a641-b4dfbbf26318",
   "metadata": {},
   "outputs": [],
   "source": [
    "if 15/3 == 7:\n",
    "    print(\"horray\")"
   ]
  },
  {
   "cell_type": "code",
   "execution_count": 9,
   "id": "6bc65a4b-0747-4cca-9a11-660525fe447d",
   "metadata": {},
   "outputs": [
    {
     "name": "stdout",
     "output_type": "stream",
     "text": [
      "horray\n"
     ]
    }
   ],
   "source": [
    "if 15/3 != 7:\n",
    "    print(\"horray\")"
   ]
  },
  {
   "cell_type": "markdown",
   "id": "3bd84f6b-3d58-4dd4-8a73-8208f52aa23a",
   "metadata": {},
   "source": [
    "## Adding an `else` Statement  \n",
    "\n",
    "The `else` statement is used to execute a block of code when the **`if`** condition is **False**.\n",
    "\n",
    "```python\n",
    "if condition:  \n",
    "    # intention: code for case 1  \n",
    "else:  \n",
    "    # intention: code for case 2\n",
    "```\n",
    "\n",
    "- **`if`**: Executes the code block if the condition is **True**.\n",
    "- **`else`**: Executes the code block if the condition is **False**.\n",
    "- Both **`if`** and **`else`** should be on the same vertical line (aligned). Indentation is key to indicate which code belongs to each block."
   ]
  },
  {
   "cell_type": "code",
   "execution_count": 23,
   "id": "ab12770d-f86f-414c-ac86-24ed3b2873f6",
   "metadata": {},
   "outputs": [
    {
     "name": "stdout",
     "output_type": "stream",
     "text": [
      "case 2\n"
     ]
    }
   ],
   "source": [
    "x = 1\n",
    "if x>3:\n",
    "    print('case 1')\n",
    "else:\n",
    "    print('case 2')"
   ]
  },
  {
   "cell_type": "markdown",
   "id": "dccbd0a4-8fec-4385-bef8-41f4cf044f4f",
   "metadata": {},
   "source": [
    "## `elif` (else if) Statement  \n",
    "\n",
    "The **`elif`** (short for \"else if\") is used to check multiple conditions in sequence. If the **`if`** condition is **False**, it will check the **`elif`** condition, and if that is also **False**, the **`else`** block will execute.\n",
    "\n",
    "```python\n",
    "if condition1:  \n",
    "    # intention: code for condition1  \n",
    "elif condition2:  \n",
    "    # intention: code for condition2  \n",
    "else:  \n",
    "    # intention: code for when all conditions are False\n",
    "```\n",
    "\n",
    "- **`if`**: Executes the block if **condition1** is **True**.\n",
    "- **`elif`**: Checks **condition2** if **condition1** is **False**.\n",
    "- **`else`**: Executes when none of the above conditions are **True**.\n",
    "- Indentation is crucial to distinguish the code blocks."
   ]
  },
  {
   "cell_type": "code",
   "execution_count": 38,
   "id": "43e6f9fc-0c5c-4dd8-863e-a345a53f7d99",
   "metadata": {},
   "outputs": [],
   "source": [
    "def compare_to_five(y):\n",
    "    if y>5:\n",
    "        return 'greater'\n",
    "    elif y<5:\n",
    "        return 'less'\n",
    "    elif y<0:\n",
    "        return 'negative number'\n",
    "    else:\n",
    "        return 'equal'"
   ]
  },
  {
   "cell_type": "code",
   "execution_count": 32,
   "id": "9f61f7bc-6039-4623-bbe5-45a96f805e6c",
   "metadata": {},
   "outputs": [
    {
     "data": {
      "text/plain": [
       "'equal'"
      ]
     },
     "execution_count": 32,
     "metadata": {},
     "output_type": "execute_result"
    }
   ],
   "source": [
    "compare_to_five(5)"
   ]
  },
  {
   "cell_type": "code",
   "execution_count": 34,
   "id": "255c6a25-c668-4375-b68d-dcbacdead03d",
   "metadata": {},
   "outputs": [
    {
     "data": {
      "text/plain": [
       "'less'"
      ]
     },
     "execution_count": 34,
     "metadata": {},
     "output_type": "execute_result"
    }
   ],
   "source": [
    "compare_to_five(3)"
   ]
  },
  {
   "cell_type": "code",
   "execution_count": 36,
   "id": "76f4dc48-8a25-40a6-9fc7-1ff16aaf4214",
   "metadata": {},
   "outputs": [
    {
     "data": {
      "text/plain": [
       "'greater'"
      ]
     },
     "execution_count": 36,
     "metadata": {},
     "output_type": "execute_result"
    }
   ],
   "source": [
    "compare_to_five(7)"
   ]
  },
  {
   "cell_type": "code",
   "execution_count": 42,
   "id": "45db881a-612d-4cc7-a36f-cbd17bbc09a6",
   "metadata": {},
   "outputs": [
    {
     "data": {
      "text/plain": [
       "'less'"
      ]
     },
     "execution_count": 42,
     "metadata": {},
     "output_type": "execute_result"
    }
   ],
   "source": [
    "compare_to_five(-9) #the computer reads the commands from top to bottom, so he will reach \"elif y<5\" which is true and stops "
   ]
  },
  {
   "cell_type": "code",
   "execution_count": null,
   "id": "66d798c0-0515-4194-bb7b-5c7aaa05fee3",
   "metadata": {},
   "outputs": [],
   "source": []
  }
 ],
 "metadata": {
  "kernelspec": {
   "display_name": "Python 3 (ipykernel)",
   "language": "python",
   "name": "python3"
  },
  "language_info": {
   "codemirror_mode": {
    "name": "ipython",
    "version": 3
   },
   "file_extension": ".py",
   "mimetype": "text/x-python",
   "name": "python",
   "nbconvert_exporter": "python",
   "pygments_lexer": "ipython3",
   "version": "3.12.4"
  }
 },
 "nbformat": 4,
 "nbformat_minor": 5
}
