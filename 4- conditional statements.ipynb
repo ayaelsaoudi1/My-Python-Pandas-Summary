{
 "cells": [
  {
   "cell_type": "markdown",
   "id": "c37471f5-23b9-4483-b5ff-93eba4a80ebc",
   "metadata": {},
   "source": [
    "# **Conditional Statements in Python**\n",
    "\n",
    "## **The `if` Statement**  \n",
    "\n",
    "The **`if`** statement is used to execute a block of code **only if** a specified condition evaluates to **True**.  \n",
    "\n",
    "### **Syntax:**\n",
    "```python\n",
    "if condition:  \n",
    "    # Indented code block runs if the condition is True\n",
    "```\n",
    "\n",
    "### **Explanation:**\n",
    "- **Condition**: The expression being evaluated (must return `True` or `False`).\n",
    "- **Indented Code Block**: Runs **only if** the condition is `True`.  \n",
    "- **Indentation** is required; otherwise, Python will raise an error.\n",
    "\n",
    "### **Example:**\n"
   ]
  },
  {
   "cell_type": "code",
   "execution_count": 1,
   "id": "36e3ff6f-459f-42f4-9843-29ada5b1b883",
   "metadata": {},
   "outputs": [
    {
     "name": "stdout",
     "output_type": "stream",
     "text": [
      "Hooray!\n",
      "Hooray!\n"
     ]
    }
   ],
   "source": [
    "if 15 / 3 == 5:\n",
    "    print(\"Hooray!\")  # This will execute because 15/3 equals 5\n",
    "\n",
    "if 15 / 3 == 7:\n",
    "    print(\"Hooray!\")  # This will NOT execute because the condition is False\n",
    "\n",
    "if 15 / 3 != 7:\n",
    "    print(\"Hooray!\")  # This will execute because 15/3 is not equal to 7"
   ]
  },
  {
   "cell_type": "markdown",
   "id": "e8ea2910-ffa1-4edb-b3f8-583baa2f80be",
   "metadata": {},
   "source": [
    "## **The `else` Statement**  \n",
    "\n",
    "The **`else`** statement is used to execute a block of code when the **`if`** condition is **False**.\n",
    "\n",
    "### **Syntax:**\n",
    "```python\n",
    "if condition:  \n",
    "    # Code runs if condition is True  \n",
    "else:  \n",
    "    # Code runs if condition is False\n",
    "```\n",
    "\n",
    "### **Example:**"
   ]
  },
  {
   "cell_type": "code",
   "execution_count": 2,
   "id": "097da7d6-e437-4dc3-af17-0f5f28afb24c",
   "metadata": {},
   "outputs": [
    {
     "name": "stdout",
     "output_type": "stream",
     "text": [
      "Case 2\n"
     ]
    }
   ],
   "source": [
    "x = 1\n",
    "if x > 3:\n",
    "    print(\"Case 1\")  # This won't execute because 1 is not greater than 3\n",
    "else:\n",
    "    print(\"Case 2\")  # This will execute because x is not greater than 3"
   ]
  },
  {
   "cell_type": "markdown",
   "id": "a41b9974-2ce7-4494-86b8-7b2d85925af3",
   "metadata": {},
   "source": [
    "### **Explanation:**\n",
    "- If the `if` condition is **True**, the first block executes.\n",
    "- If the `if` condition is **False**, the `else` block executes.\n",
    "- Both **`if`** and **`else`** must be properly **aligned**.\n",
    "\n",
    "---\n",
    "\n",
    "## **The `elif` (else if) Statement**  \n",
    "\n",
    "The **`elif`** (short for **\"else if\"**) allows checking multiple conditions in sequence.  \n",
    "- If the **`if`** condition is **False**, it will check the **`elif`** condition(s).\n",
    "- If **no condition is `True`**, the `else` block executes (if present).\n",
    "\n",
    "### **Syntax:**\n",
    "```python\n",
    "if condition1:  \n",
    "    # Code runs if condition1 is True  \n",
    "elif condition2:  \n",
    "    # Code runs if condition1 is False, but condition2 is True  \n",
    "else:  \n",
    "    # Code runs if neither condition1 nor condition2 is True\n",
    "```\n",
    "\n",
    "### **Example:**"
   ]
  },
  {
   "cell_type": "code",
   "execution_count": 3,
   "id": "138b77c1-c9ae-4dc2-acfd-c34db3050744",
   "metadata": {},
   "outputs": [
    {
     "name": "stdout",
     "output_type": "stream",
     "text": [
      "Equal\n",
      "Less\n",
      "Greater\n",
      "Less\n"
     ]
    }
   ],
   "source": [
    "def compare_to_five(y):\n",
    "    if y > 5:\n",
    "        return \"Greater\"\n",
    "    elif y < 5:\n",
    "        return \"Less\"\n",
    "    elif y < 0:  # This condition will never execute!\n",
    "        return \"Negative number\"\n",
    "    else:\n",
    "        return \"Equal\"\n",
    "\n",
    "print(compare_to_five(5))   # Output: \"Equal\"\n",
    "print(compare_to_five(3))   # Output: \"Less\"\n",
    "print(compare_to_five(7))   # Output: \"Greater\"\n",
    "print(compare_to_five(-9))  # Output: \"Less\" (because it stops at `elif y < 5`)"
   ]
  },
  {
   "cell_type": "markdown",
   "id": "e9df64aa-9baf-4032-92cd-d19a526e335d",
   "metadata": {},
   "source": [
    "### **Important Note:**\n",
    "- Python checks conditions **from top to bottom**.  \n",
    "- Since **`elif y < 5`** appears **before** `elif y < 0`, negative numbers will be caught by the first condition, and the `elif y < 0` condition will never run.\n",
    "- To fix this, **reorder conditions properly**:\n",
    "```python\n",
    "def compare_to_five_fixed(y):\n",
    "    if y < 0:\n",
    "        return \"Negative number\"\n",
    "    elif y > 5:\n",
    "        return \"Greater\"\n",
    "    elif y < 5:\n",
    "        return \"Less\"\n",
    "    else:\n",
    "        return \"Equal\"\n",
    "```\n",
    "Now, `compare_to_five_fixed(-9)` will correctly return `\"Negative number\"`.\n",
    "\n",
    "---\n",
    "\n",
    "### **Summary**\n",
    "| Statement | Use Case |\n",
    "|-----------|----------|\n",
    "| `if` | Executes a block of code **only if** the condition is **True** |\n",
    "| `else` | Executes a block of code **only if** the `if` condition is **False** |\n",
    "| `elif` | Checks additional conditions if the `if` condition is **False** |"
   ]
  },
  {
   "cell_type": "code",
   "execution_count": null,
   "id": "e657f3ed-2934-49b8-b6e1-067fd8e8f2f2",
   "metadata": {},
   "outputs": [],
   "source": []
  }
 ],
 "metadata": {
  "kernelspec": {
   "display_name": "Python 3 (ipykernel)",
   "language": "python",
   "name": "python3"
  },
  "language_info": {
   "codemirror_mode": {
    "name": "ipython",
    "version": 3
   },
   "file_extension": ".py",
   "mimetype": "text/x-python",
   "name": "python",
   "nbconvert_exporter": "python",
   "pygments_lexer": "ipython3",
   "version": "3.12.4"
  }
 },
 "nbformat": 4,
 "nbformat_minor": 5
}
