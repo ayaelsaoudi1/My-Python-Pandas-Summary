{
 "cells": [
  {
   "cell_type": "markdown",
   "id": "8e4b3605-cc97-4a61-84a2-fa06ff6e8784",
   "metadata": {},
   "source": [
    "# **Python Functions**\n",
    "\n",
    "## **Defining a Function in Python**  \n",
    "\n",
    "- A function is defined using the **`def`** keyword.  \n",
    "- The function name should be **descriptive** of its purpose.  \n",
    "- A function can have **multiple `return` statements**, but it will return only the **first one it encounters**.  \n",
    "- A function **returns a single result**.\n",
    "\n",
    "### **Syntax:**\n",
    "```python\n",
    "def function_name(parameters):  \n",
    "    # Indented function body  \n",
    "    return result  # Returns the first result encountered\n",
    "```\n",
    "\n",
    "### **Calling a Function:**  \n",
    "To call a function, use its name followed by **arguments** inside parentheses.\n",
    "\n",
    "```python\n",
    "function_name(arguments)\n",
    "```  \n",
    "\n",
    "- **`parameters`**: Placeholders in the function definition.  \n",
    "- **`arguments`**: Actual values passed to the function during execution.\n",
    "\n",
    "### **Example:**\n",
    "\n"
   ]
  },
  {
   "cell_type": "code",
   "execution_count": 14,
   "id": "9f3ca099-a503-43e7-ba7d-8fe7f5e41ba9",
   "metadata": {},
   "outputs": [
    {
     "name": "stdout",
     "output_type": "stream",
     "text": [
      "My simple function\n"
     ]
    }
   ],
   "source": [
    "def simple():\n",
    "    print(\"My simple function\")\n",
    "\n",
    "simple()  # Calling the function"
   ]
  },
  {
   "cell_type": "markdown",
   "id": "1f23325a-8ea7-4dad-840a-0171c3fe4b06",
   "metadata": {},
   "source": [
    "## Returning Values from a Function\n",
    "A function can return a value using the return statement."
   ]
  },
  {
   "cell_type": "code",
   "execution_count": 19,
   "id": "0fc42282-4c78-4d21-ab7a-29e2dca713f3",
   "metadata": {},
   "outputs": [
    {
     "name": "stdout",
     "output_type": "stream",
     "text": [
      "15\n"
     ]
    }
   ],
   "source": [
    "def plus_ten(a):  # Function with a parameter\n",
    "    return a + 10  # Returns the result\n",
    "\n",
    "print(plus_ten(5))  # Output: 15\n"
   ]
  },
  {
   "cell_type": "markdown",
   "id": "59e1bd40-600e-4d96-94ed-2180b8666c0a",
   "metadata": {},
   "source": [
    "### **Difference Between `return` and `print` in a Function**\n",
    "\n",
    "\n"
   ]
  },
  {
   "cell_type": "code",
   "execution_count": 16,
   "id": "6cfa0206-dd41-43ee-bfd5-a69a6a1d0e0a",
   "metadata": {},
   "outputs": [],
   "source": [
    "def plus_ten(a): \n",
    "    result = a + 10\n",
    "    print(result)  # Just prints the result but does not return it"
   ]
  },
  {
   "cell_type": "markdown",
   "id": "a9ab9dad-d493-4901-b84f-54f1d9876814",
   "metadata": {},
   "source": [
    "- If a function **prints** the result instead of returning it, the output cannot be stored or reused in calculations.\n",
    "---\n",
    "\n",
    "## **Functions Calling Other Functions**  \n",
    "\n",
    "Functions can call **other functions** inside them.\n",
    "\n",
    "### **Example:**"
   ]
  },
  {
   "cell_type": "code",
   "execution_count": 17,
   "id": "39431c4a-e6aa-4087-8321-f69491f0e1e0",
   "metadata": {},
   "outputs": [
    {
     "name": "stdout",
     "output_type": "stream",
     "text": [
      "200\n",
      "250\n"
     ]
    }
   ],
   "source": [
    "def wage(w_hours):\n",
    "    return w_hours * 25  # Base wage calculation\n",
    "\n",
    "def with_bonus(w_hours):\n",
    "    return wage(w_hours) + 50  # Calls wage() and adds a bonus\n",
    "\n",
    "print(wage(8))       # Output: 200\n",
    "print(with_bonus(8)) # Output: 250"
   ]
  },
  {
   "cell_type": "markdown",
   "id": "3b6eeeec-9428-40e0-99d6-7637b42299b8",
   "metadata": {},
   "source": [
    "## **Combining Conditional Statements and Functions**  \n",
    "\n",
    "A function can use conditional logic (`if`, `elif`, `else`) to decide what to return.\n",
    "\n",
    "### **Example:**"
   ]
  },
  {
   "cell_type": "code",
   "execution_count": 18,
   "id": "2bb5ce46-14c5-487f-b040-8652001c9e6f",
   "metadata": {},
   "outputs": [
    {
     "name": "stdout",
     "output_type": "stream",
     "text": [
      "Liam's reward: 10\n"
     ]
    }
   ],
   "source": [
    "def check_savings(savings):\n",
    "    if savings >= 100:\n",
    "        return 10  # Reward of $10\n",
    "    else:\n",
    "        return 0  # No reward\n",
    "\n",
    "savings = 120  # Example value\n",
    "reward = check_savings(savings)\n",
    "print(\"Liam's reward:\", reward)  # Output: Liam's reward: 10\n"
   ]
  },
  {
   "cell_type": "markdown",
   "id": "f3e63305-5ad1-4dfe-a77e-564e4b900d70",
   "metadata": {},
   "source": [
    "## **Returning Values from a Function**  \n",
    "\n",
    "A function can **return** a value using the `return` statement.\n",
    "\n",
    "### **Example:**"
   ]
  },
  {
   "cell_type": "code",
   "execution_count": 2,
   "id": "0a63f4c4-7c11-41c5-a061-5314c8715c1a",
   "metadata": {},
   "outputs": [
    {
     "name": "stdout",
     "output_type": "stream",
     "text": [
      "Liam's reward: 10\n"
     ]
    }
   ],
   "source": [
    "def check_savings(savings):\n",
    "    if savings >= 100:\n",
    "        return 10  # Reward of $10\n",
    "    else:\n",
    "        return 0  # No reward\n",
    "\n",
    "savings = 120  # Example value\n",
    "reward = check_savings(savings)\n",
    "print(\"Liam's reward:\", reward)  # Output: Liam's reward: 10"
   ]
  },
  {
   "cell_type": "markdown",
   "id": "ab33a905-b281-4021-beb9-d24167370a5a",
   "metadata": {},
   "source": [
    "## **Functions with Multiple Arguments**  \n",
    "\n",
    "A function can accept multiple parameters, separated by commas.\n",
    "\n",
    "### **Syntax:**\n",
    "```python\n",
    "def function_name(param1, param2, param3):\n",
    "    # Function body using multiple parameters\n",
    "    return result\n",
    "```\n",
    "\n",
    "### **Example:**"
   ]
  },
  {
   "cell_type": "code",
   "execution_count": 3,
   "id": "2fc33b6b-3cdc-4aea-8822-f028c32bf48c",
   "metadata": {},
   "outputs": [
    {
     "name": "stdout",
     "output_type": "stream",
     "text": [
      "parameter a = 10\n",
      "parameter b = 3\n",
      "parameter c = 2\n",
      "4\n",
      "parameter a = 10\n",
      "parameter b = 3\n",
      "parameter c = 2\n",
      "4\n"
     ]
    }
   ],
   "source": [
    "def subtract_bc(a, b, c):\n",
    "    result = a - b * c\n",
    "    print(\"parameter a =\", a)\n",
    "    print(\"parameter b =\", b)\n",
    "    print(\"parameter c =\", c)\n",
    "    return result\n",
    "\n",
    "print(subtract_bc(10, 3, 2))  # Output: 4\n",
    "print(subtract_bc(b=3, a=10, c=2))  # Using named arguments (same result)"
   ]
  },
  {
   "cell_type": "markdown",
   "id": "421dac2b-3fab-4c08-bfa9-530a2bd72037",
   "metadata": {},
   "source": [
    "## **Built-in Functions in Python**  \n",
    "\n",
    "Python provides many built-in functions that can be used **without defining them**.\n",
    "\n",
    "### **Common Built-in Functions:**\n",
    "| Function | Description |\n",
    "|----------|------------|\n",
    "| `type(x)` | Returns the type of `x`. |\n",
    "| `int(x)`, `float(x)`, `str(x)` | Converts `x` to an integer, float, or string. |\n",
    "| `max(iterable)` | Returns the highest value in a list or sequence. |\n",
    "| `min(iterable)` | Returns the lowest value in a list or sequence. |\n",
    "| `abs(x)` | Returns the absolute value of `x`. |\n",
    "| `sum(iterable)` | Returns the sum of all elements in a list or sequence. |\n",
    "| `round(x, y)` | Rounds `x` to `y` decimal places. |\n",
    "| `pow(x, y)` | Returns `x` raised to the power of `y`. |\n",
    "| `len(object)` | Returns the number of elements in `object` (e.g., list, string). |\n",
    "\n",
    "### **Examples:**"
   ]
  },
  {
   "cell_type": "code",
   "execution_count": 4,
   "id": "eb86ca2a-88b1-4694-b093-54677b2c5b5c",
   "metadata": {},
   "outputs": [
    {
     "name": "stdout",
     "output_type": "stream",
     "text": [
      "<class 'int'>\n",
      "33\n",
      "6\n",
      "9.099\n"
     ]
    }
   ],
   "source": [
    "print(type(10))          # Output: <class 'int'>\n",
    "print(min(100, 33, 87))  # Output: 33\n",
    "print(sum([1, 2, 3]))    # Output: 6\n",
    "print(round(9.09887, 3)) # Output: 9.099"
   ]
  },
  {
   "cell_type": "markdown",
   "id": "10098308-0e7e-47a5-91dc-85d1ac78ef2f",
   "metadata": {},
   "source": [
    "### **Getting Help on Built-in Functions**\n",
    "- Use **`help(function_name)`** to get documentation.\n",
    "- Use **`dir(builtins)`** to list all available built-in functions.\n",
    "- In **Jupyter Notebook** or **IPython**, you can use:\n",
    "  - **`Shift + Tab`** inside the parentheses of a function to see what it does.\n",
    "  - **`?function_name`** or **`??function_name`** for more details."
   ]
  },
  {
   "cell_type": "code",
   "execution_count": 11,
   "id": "d9a60a36-55f1-49a4-8a13-80afc8a6f926",
   "metadata": {},
   "outputs": [
    {
     "name": "stdout",
     "output_type": "stream",
     "text": [
      "Help on built-in function len in module builtins:\n",
      "\n",
      "len(obj, /)\n",
      "    Return the number of items in a container.\n",
      "\n"
     ]
    }
   ],
   "source": [
    "help(len)  # Get help on len()"
   ]
  },
  {
   "cell_type": "markdown",
   "id": "f7386ce3-04b4-4438-adc0-477e5ec094d1",
   "metadata": {},
   "source": [
    "### **Summary**\n",
    "| Concept | Description |\n",
    "|---------|------------|\n",
    "| **Function Definition** | Use `def function_name(parameters):` to define a function. |\n",
    "| **Calling a Function** | Use `function_name(arguments)`. |\n",
    "| **Returning Values** | Use `return` to send back a result. |\n",
    "| **Multiple Parameters** | Separate parameters with commas. |\n",
    "| **Functions Inside Functions** | One function can call another. |\n",
    "| **Built-in Functions** | Use built-in functions like `max()`, `min()`, `len()`, etc. |      "
   ]
  },
  {
   "cell_type": "code",
   "execution_count": null,
   "id": "0045e2bd-4434-4909-8457-61920efb628d",
   "metadata": {},
   "outputs": [],
   "source": []
  }
 ],
 "metadata": {
  "kernelspec": {
   "display_name": "Python 3 (ipykernel)",
   "language": "python",
   "name": "python3"
  },
  "language_info": {
   "codemirror_mode": {
    "name": "ipython",
    "version": 3
   },
   "file_extension": ".py",
   "mimetype": "text/x-python",
   "name": "python",
   "nbconvert_exporter": "python",
   "pygments_lexer": "ipython3",
   "version": "3.12.4"
  }
 },
 "nbformat": 4,
 "nbformat_minor": 5
}
