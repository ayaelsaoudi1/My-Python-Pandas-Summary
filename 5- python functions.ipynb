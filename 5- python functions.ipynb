{
 "cells": [
  {
   "cell_type": "markdown",
   "id": "adcc1019-2e90-4515-9f37-ae9ad9693fc2",
   "metadata": {},
   "source": [
    "## Defining a Function in Python  \n",
    "\n",
    "- The keyword **`def`** is used to define a function.  \n",
    "- The function name should be **intuitive** and describe its purpose.  \n",
    "- **Note**: A function can have multiple `return` statements, but it will only return the first one it encounters during execution. A function can return only a **single result**.\n",
    "\n",
    "```python\n",
    "def function_name(parameters):  \n",
    "    # indentation: function body  \n",
    "    return result  # returns the first result encountered\n",
    "```\n",
    "\n",
    "#### Calling a Function:  \n",
    "To call a function, use its name followed by **arguments** in parentheses.\n",
    "\n",
    "```python\n",
    "function_name(arguments)\n",
    "```  \n",
    "\n",
    "- **`parameters`** are the placeholders in the function definition.\n",
    "- **`arguments`** are the actual values passed to the function when calling it."
   ]
  },
  {
   "cell_type": "code",
   "execution_count": 6,
   "id": "7cd008bd-0b4c-45c3-9660-994bcf581e57",
   "metadata": {},
   "outputs": [],
   "source": [
    "def simple():\n",
    "    print(\"my simple function\") "
   ]
  },
  {
   "cell_type": "code",
   "execution_count": 10,
   "id": "f8f65737-906a-400a-ac1f-52b52efb1023",
   "metadata": {},
   "outputs": [
    {
     "name": "stdout",
     "output_type": "stream",
     "text": [
      "my simple function\n"
     ]
    }
   ],
   "source": [
    "simple() #calling the function "
   ]
  },
  {
   "cell_type": "code",
   "execution_count": 22,
   "id": "6f0f9b99-ea5f-4832-8558-a1e7d72bed88",
   "metadata": {},
   "outputs": [],
   "source": [
    "def plus_ten(a): #we provided a as a parameter to the function \n",
    "    return a+10 #return returns a value from the function \n",
    "\n",
    "def plus_ten(a): \n",
    "    result = a+10\n",
    "    print(result) #if we used this function, it doesnt affect the calculation of the output. \n",
    "#thus, if we provided an argument to this function the actual variable will stay the same not getting affected by this function"
   ]
  },
  {
   "cell_type": "code",
   "execution_count": 24,
   "id": "ba2d44a9-8ddc-427a-b22d-8b0f2ac3a325",
   "metadata": {},
   "outputs": [
    {
     "name": "stdout",
     "output_type": "stream",
     "text": [
      "11\n"
     ]
    }
   ],
   "source": [
    "plus_ten(1) #here we say we provided an argument to the function "
   ]
  },
  {
   "cell_type": "markdown",
   "id": "1c7f699a-18fb-489e-a100-d3e815c58dfe",
   "metadata": {},
   "source": [
    "#### A Function within a Function \n"
   ]
  },
  {
   "cell_type": "code",
   "execution_count": 29,
   "id": "d3604a32-bcf5-4085-acfb-90c3a20a5605",
   "metadata": {},
   "outputs": [],
   "source": [
    "def wage(w_hours):\n",
    "    return w_hours * 25\n",
    "\n",
    "def with_bonus(w_hours):\n",
    "    return wage(w_hours) + 50 #a function within a function"
   ]
  },
  {
   "cell_type": "code",
   "execution_count": 33,
   "id": "df42a95d-3654-4f86-92fb-2357c0af5a1f",
   "metadata": {},
   "outputs": [
    {
     "name": "stdout",
     "output_type": "stream",
     "text": [
      "200\n",
      "250\n"
     ]
    }
   ],
   "source": [
    "print(wage(8))\n",
    "print(with_bonus(8))"
   ]
  },
  {
   "cell_type": "markdown",
   "id": "267b2da0-d010-46ef-8b0f-1d3d8788cca7",
   "metadata": {},
   "source": [
    "## Combining Conditional Statements and Functions  \n",
    "\n",
    "Here's an example of a function that checks whether Liam has saved at least 100 dollars by the end of the week, and rewards him 10 dollars if he has:\n",
    "\n",
    "- In this function, **`savings`** is the parameter, representing how much Liam saved.  \n",
    "- The **`if`** condition checks if Liam's savings are greater than or equal to $100. If true, he gets $10. Otherwise, he gets nothing."
   ]
  },
  {
   "cell_type": "code",
   "execution_count": 2,
   "id": "31adc73b-ea2c-4693-8ba1-e041ec788bba",
   "metadata": {},
   "outputs": [],
   "source": [
    "def check_savings(savings):\n",
    "    if savings >= 100:\n",
    "        return 10  # Liam gets $10 if he saves at least $100\n",
    "    else:\n",
    "        return 0  # Liam gets nothing if he saves less than $100"
   ]
  },
  {
   "cell_type": "code",
   "execution_count": 3,
   "id": "563d9daf-f17d-4901-95da-a28f572b12e9",
   "metadata": {},
   "outputs": [
    {
     "name": "stdout",
     "output_type": "stream",
     "text": [
      "Liam's reward: 10\n"
     ]
    }
   ],
   "source": [
    "savings = 120  # Example savings amount\n",
    "reward = check_savings(savings)\n",
    "print(\"Liam's reward:\", reward)  # Will print: Liam's reward: 10\n"
   ]
  },
  {
   "cell_type": "markdown",
   "id": "9f08812e-82c3-4a95-bddd-8c8a773e061c",
   "metadata": {},
   "source": [
    "## Creating Functions with Multiple Arguments  \n",
    "\n",
    "You can define a function that accepts multiple arguments by listing them within the parentheses, separated by commas.\n",
    "\n",
    "```python\n",
    "def function_name(parameter_1, parameter_2, parameter_3, ...):\n",
    "    # function body\n",
    "    # logic using the parameters\n",
    "    return result\n",
    "```\n",
    "\n",
    "- **`parameter_1, parameter_2, parameter_3, ...`**: These are placeholders for the values you pass to the function when calling it.\n",
    "- You can pass different values as **arguments** when calling the function."
   ]
  },
  {
   "cell_type": "code",
   "execution_count": 65,
   "id": "6d4f40a2-3d67-405f-8e3c-12e1d2834d09",
   "metadata": {},
   "outputs": [],
   "source": [
    "def subract_bc(a,b,c):\n",
    "    result = a-b*c\n",
    "    print('parameter a = ',a)\n",
    "    print('parameter b = ',b)\n",
    "    print('parameter c = ',c)\n",
    "    return result"
   ]
  },
  {
   "cell_type": "code",
   "execution_count": 67,
   "id": "c026d15e-7758-4ecd-bd3b-0ff994d0212e",
   "metadata": {},
   "outputs": [
    {
     "name": "stdout",
     "output_type": "stream",
     "text": [
      "parameter a =  10\n",
      "parameter b =  3\n",
      "parameter c =  2\n"
     ]
    },
    {
     "data": {
      "text/plain": [
       "4"
      ]
     },
     "execution_count": 67,
     "metadata": {},
     "output_type": "execute_result"
    }
   ],
   "source": [
    "subract_bc(10,3,2)"
   ]
  },
  {
   "cell_type": "code",
   "execution_count": 69,
   "id": "37c06e72-f466-45a8-85ef-05026123639c",
   "metadata": {},
   "outputs": [
    {
     "name": "stdout",
     "output_type": "stream",
     "text": [
      "parameter a =  10\n",
      "parameter b =  3\n",
      "parameter c =  2\n"
     ]
    },
    {
     "data": {
      "text/plain": [
       "4"
      ]
     },
     "execution_count": 69,
     "metadata": {},
     "output_type": "execute_result"
    }
   ],
   "source": [
    "subract_bc(b=3, a=10, c=2)"
   ]
  },
  {
   "cell_type": "markdown",
   "id": "c269d745-f021-463f-a9a8-fc104dd1d05b",
   "metadata": {},
   "source": [
    "## Built-in Functions in Python  \n",
    "\n",
    "Built-in functions can be used directly without the need for defining them. Here are some commonly used built-in functions:\n",
    "\n",
    "- **`type()`**: Returns the type of the given argument.\n",
    "\n",
    "- **`int()`, `float()`, `str()`**: Converts the argument to an integer, float, or string, respectively.\n",
    "\n",
    "- **`max()`**: Returns the highest value from a sequence of numbers.\n",
    "\n",
    "- **`min()`**: Returns the lowest value from a sequence of numbers.\n",
    "\n",
    "- **`abs()`**: Returns the absolute value of a number.\n",
    "\n",
    "- **`sum()`**: Calculates the sum of all elements in a sequence (e.g., a list).\n",
    "\n",
    "- **`round(x, y)`**: Returns the float `x` rounded to `y` decimal places.\n",
    "\n",
    "- **`pow(x, y)`**: Returns `x` raised to the power of `y`.\n",
    "\n",
    "- **`len()`**: Returns the number of elements in an object (like a list, string, etc.).\n",
    "\n",
    "- **To Get Help on a Built-in Function**:  \n",
    "  Use **`help(function_name)`** or **`?function_name`** or **`??function_name`** for more detailed help. You can also use **`shift + tab`** in some environments (like Jupyter or IPython).\n",
    "\n",
    "- **`dir(builtins)`**: Lists all the available built-in functions in Python."
   ]
  },
  {
   "cell_type": "code",
   "execution_count": 74,
   "id": "71dd3863-f24d-4c67-9aee-3bb08f5d838e",
   "metadata": {},
   "outputs": [
    {
     "data": {
      "text/plain": [
       "int"
      ]
     },
     "execution_count": 74,
     "metadata": {},
     "output_type": "execute_result"
    }
   ],
   "source": [
    "type(10)"
   ]
  },
  {
   "cell_type": "code",
   "execution_count": 77,
   "id": "ac5d36cd-1762-4e6c-9856-62cd162a6d18",
   "metadata": {},
   "outputs": [
    {
     "data": {
      "text/plain": [
       "33"
      ]
     },
     "execution_count": 77,
     "metadata": {},
     "output_type": "execute_result"
    }
   ],
   "source": [
    "min(100,33,87)"
   ]
  },
  {
   "cell_type": "code",
   "execution_count": 79,
   "id": "cc14980c-0624-478d-a48c-444f762e1325",
   "metadata": {},
   "outputs": [
    {
     "data": {
      "text/plain": [
       "6"
      ]
     },
     "execution_count": 79,
     "metadata": {},
     "output_type": "execute_result"
    }
   ],
   "source": [
    "sum( [1,2,3] )"
   ]
  },
  {
   "cell_type": "code",
   "execution_count": 82,
   "id": "6081cbbb-d42d-4ba7-b75a-6f96f79b26f6",
   "metadata": {},
   "outputs": [
    {
     "data": {
      "text/plain": [
       "9.099"
      ]
     },
     "execution_count": 82,
     "metadata": {},
     "output_type": "execute_result"
    }
   ],
   "source": [
    "round(9.09887, 3)"
   ]
  },
  {
   "cell_type": "code",
   "execution_count": 84,
   "id": "8766ad46-1380-4f02-9ee6-45b1f020ed29",
   "metadata": {},
   "outputs": [
    {
     "name": "stdout",
     "output_type": "stream",
     "text": [
      "Help on built-in function len in module builtins:\n",
      "\n",
      "len(obj, /)\n",
      "    Return the number of items in a container.\n",
      "\n"
     ]
    }
   ],
   "source": [
    "help(len)"
   ]
  },
  {
   "cell_type": "code",
   "execution_count": 96,
   "id": "2317b1ff-4667-4f03-b662-3bd3d637bc3d",
   "metadata": {},
   "outputs": [
    {
     "data": {
      "text/plain": [
       "\u001b[1;31mSignature:\u001b[0m \u001b[0mlen\u001b[0m\u001b[1;33m(\u001b[0m\u001b[0mobj\u001b[0m\u001b[1;33m,\u001b[0m \u001b[1;33m/\u001b[0m\u001b[1;33m)\u001b[0m\u001b[1;33m\u001b[0m\u001b[1;33m\u001b[0m\u001b[0m\n",
       "\u001b[1;31mDocstring:\u001b[0m Return the number of items in a container.\n",
       "\u001b[1;31mType:\u001b[0m      builtin_function_or_method"
      ]
     },
     "metadata": {},
     "output_type": "display_data"
    }
   ],
   "source": [
    "len??"
   ]
  },
  {
   "cell_type": "code",
   "execution_count": 104,
   "id": "2f2db882-9810-452a-b030-4e982e212bcf",
   "metadata": {},
   "outputs": [
    {
     "name": "stdout",
     "output_type": "stream",
     "text": [
      "['ArithmeticError', 'AssertionError', 'AttributeError', 'BaseException', 'BaseExceptionGroup', 'BlockingIOError', 'BrokenPipeError', 'BufferError', 'BytesWarning', 'ChildProcessError', 'ConnectionAbortedError', 'ConnectionError', 'ConnectionRefusedError', 'ConnectionResetError', 'DeprecationWarning', 'EOFError', 'Ellipsis', 'EncodingWarning', 'EnvironmentError', 'Exception', 'ExceptionGroup', 'False', 'FileExistsError', 'FileNotFoundError', 'FloatingPointError', 'FutureWarning', 'GeneratorExit', 'IOError', 'ImportError', 'ImportWarning', 'IndentationError', 'IndexError', 'InterruptedError', 'IsADirectoryError', 'KeyError', 'KeyboardInterrupt', 'LookupError', 'MemoryError', 'ModuleNotFoundError', 'NameError', 'None', 'NotADirectoryError', 'NotImplemented', 'NotImplementedError', 'OSError', 'OverflowError', 'PendingDeprecationWarning', 'PermissionError', 'ProcessLookupError', 'PythonFinalizationError', 'RecursionError', 'ReferenceError', 'ResourceWarning', 'RuntimeError', 'RuntimeWarning', 'StopAsyncIteration', 'StopIteration', 'SyntaxError', 'SyntaxWarning', 'SystemError', 'SystemExit', 'TabError', 'TimeoutError', 'True', 'TypeError', 'UnboundLocalError', 'UnicodeDecodeError', 'UnicodeEncodeError', 'UnicodeError', 'UnicodeTranslateError', 'UnicodeWarning', 'UserWarning', 'ValueError', 'Warning', 'WindowsError', 'ZeroDivisionError', '_IncompleteInputError', '__IPYTHON__', '__build_class__', '__debug__', '__doc__', '__import__', '__loader__', '__name__', '__package__', '__spec__', 'abs', 'aiter', 'all', 'anext', 'any', 'ascii', 'bin', 'bool', 'breakpoint', 'bytearray', 'bytes', 'callable', 'chr', 'classmethod', 'compile', 'complex', 'copyright', 'credits', 'delattr', 'dict', 'dir', 'display', 'divmod', 'enumerate', 'eval', 'exec', 'execfile', 'filter', 'float', 'format', 'frozenset', 'get_ipython', 'getattr', 'globals', 'hasattr', 'hash', 'help', 'hex', 'id', 'input', 'int', 'isinstance', 'issubclass', 'iter', 'len', 'license', 'list', 'locals', 'map', 'max', 'memoryview', 'min', 'next', 'object', 'oct', 'open', 'ord', 'pow', 'print', 'property', 'range', 'repr', 'reversed', 'round', 'runfile', 'set', 'setattr', 'slice', 'sorted', 'staticmethod', 'str', 'sum', 'super', 'tuple', 'type', 'vars', 'zip']\n"
     ]
    }
   ],
   "source": [
    "import builtins\n",
    "print(dir(builtins))"
   ]
  },
  {
   "cell_type": "code",
   "execution_count": null,
   "id": "bae8e4b0-a6f5-4d03-ba41-6cd29a78ff33",
   "metadata": {},
   "outputs": [],
   "source": []
  }
 ],
 "metadata": {
  "kernelspec": {
   "display_name": "Python 3 (ipykernel)",
   "language": "python",
   "name": "python3"
  },
  "language_info": {
   "codemirror_mode": {
    "name": "ipython",
    "version": 3
   },
   "file_extension": ".py",
   "mimetype": "text/x-python",
   "name": "python",
   "nbconvert_exporter": "python",
   "pygments_lexer": "ipython3",
   "version": "3.12.4"
  }
 },
 "nbformat": 4,
 "nbformat_minor": 5
}
