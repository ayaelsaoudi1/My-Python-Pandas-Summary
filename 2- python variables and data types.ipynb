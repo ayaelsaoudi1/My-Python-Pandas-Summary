{
 "cells": [
  {
   "cell_type": "markdown",
   "id": "d6c63f2e-a67a-4b9e-8a5d-04c2fed986ad",
   "metadata": {},
   "source": [
    "# **Python Variables and Data Types**  \n",
    "\n",
    "## **Python Variables**  \n",
    "\n",
    "- In Python, **variables store data** that can be used and manipulated throughout the program.  \n",
    "- Python **automatically determines** the data type of a variable when you assign a value to it.  \n",
    "- The **`=`** symbol is used for **assignment**, meaning it binds a value to a variable.  \n",
    "- Python is **case-sensitive**, so `y` and `Y` are treated as different variables.  \n",
    "- You can assign multiple variables in a single line using **tuple unpacking**.  \n",
    "\n",
    "### **Example:**  "
   ]
  },
  {
   "cell_type": "code",
   "execution_count": 1,
   "id": "123918a0-c71f-4aa3-bfb4-350fef7aff1b",
   "metadata": {},
   "outputs": [
    {
     "name": "stdout",
     "output_type": "stream",
     "text": [
      "5\n"
     ]
    }
   ],
   "source": [
    "# Assigning values to variables\n",
    "x = 5  # x stores the integer value 5\n",
    "print(x)"
   ]
  },
  {
   "cell_type": "code",
   "execution_count": 2,
   "id": "48b811eb-ce0f-4f96-ab69-0a2a2f7319e0",
   "metadata": {},
   "outputs": [
    {
     "name": "stdout",
     "output_type": "stream",
     "text": [
      "a: 1 and b: 2\n"
     ]
    }
   ],
   "source": [
    "\n",
    "# Assigning multiple variables in one line\n",
    "a, b = 1, 2  \n",
    "print('a:', a, 'and b:', b)"
   ]
  },
  {
   "cell_type": "markdown",
   "id": "2f5c2f48-80c3-415d-90ca-2dcfa9b4ba8a",
   "metadata": {},
   "source": [
    "## **Numbers and Boolean**  \n",
    "\n",
    "### **1. Integer (`int`)**  \n",
    "- Whole numbers, positive or negative, without decimals.  \n",
    "- Example: `-10`, `0`, `25`  \n",
    "\n",
    "### **2. Floating Point (`float`)**  \n",
    "- Numbers that include a decimal point.  \n",
    "- Example: `3.14`, `-7.8`, `0.0`  \n",
    "- Performing operations that result in a decimal **automatically converts** integers into floats.  \n",
    "\n",
    "### **3. Boolean (`bool`)**  \n",
    "- Represents logical values: `True` or `False`.  \n",
    "- Internally, Python treats `True` as `1` and `False` as `0`.  \n",
    "\n",
    "### **Example:**  \n"
   ]
  },
  {
   "cell_type": "code",
   "execution_count": 3,
   "id": "aa32437f-baf3-47b4-87f2-c7e86c1fd7e2",
   "metadata": {},
   "outputs": [
    {
     "name": "stdout",
     "output_type": "stream",
     "text": [
      "8 is of type <class 'int'>\n",
      "8.7 is of type <class 'float'>\n"
     ]
    }
   ],
   "source": [
    "# Checking variable types\n",
    "m, n = 8, 8.7\n",
    "print(m, 'is of type', type(m))\n",
    "print(n, 'is of type', type(n))"
   ]
  },
  {
   "cell_type": "code",
   "execution_count": 4,
   "id": "2423e0e8-68ca-4972-8009-8666d08d76cd",
   "metadata": {},
   "outputs": [
    {
     "name": "stdout",
     "output_type": "stream",
     "text": [
      "8.0 is now of type <class 'float'>\n",
      "8 is now of type <class 'int'>\n"
     ]
    }
   ],
   "source": [
    "# Converting between int and float\n",
    "m, n = float(m), int(n)\n",
    "print(m, 'is now of type', type(m))\n",
    "print(n, 'is now of type', type(n))"
   ]
  },
  {
   "cell_type": "code",
   "execution_count": 5,
   "id": "6e80c5ff-0985-4f39-acf7-3e81a768eda3",
   "metadata": {},
   "outputs": [
    {
     "name": "stdout",
     "output_type": "stream",
     "text": [
      "Is it raining? True\n",
      "Is it sunny? False\n",
      "True is equivalent to: 1\n",
      "False is equivalent to: 0\n"
     ]
    }
   ],
   "source": [
    "# Boolean values\n",
    "is_raining = True\n",
    "is_sunny = False\n",
    "print(\"Is it raining?\", is_raining)\n",
    "print(\"Is it sunny?\", is_sunny)\n",
    "print(\"True is equivalent to:\", int(True))\n",
    "print(\"False is equivalent to:\", int(False))"
   ]
  },
  {
   "cell_type": "markdown",
   "id": "2d2c49b3-ce79-41aa-ae39-0bff48182d4e",
   "metadata": {},
   "source": [
    "## **Python Strings**  \n",
    "\n",
    "- **Strings** are sequences of characters, enclosed in either **single (`'`)** or **double (`\"`)** quotes.  \n",
    "- The **`str()`** function converts other data types into strings.  \n",
    "- Strings can be **concatenated (joined)** using `+` or separated using commas in `print()`.  \n",
    "\n",
    "### **Example:**"
   ]
  },
  {
   "cell_type": "code",
   "execution_count": 6,
   "id": "1888bd0b-f4b3-44ee-81c8-ac6481248356",
   "metadata": {},
   "outputs": [
    {
     "name": "stdout",
     "output_type": "stream",
     "text": [
      "Hello World\n",
      "Hello World\n"
     ]
    }
   ],
   "source": [
    "# Different ways to define strings\n",
    "text1 = \"Hello\"\n",
    "text2 = 'World'\n",
    "print(text1 + \" \" + text2)  # Concatenation using '+'\n",
    "print(text1, text2)  # Comma automatically adds a space"
   ]
  },
  {
   "cell_type": "code",
   "execution_count": 7,
   "id": "4febdd90-084b-428e-b471-aea7fa669304",
   "metadata": {},
   "outputs": [
    {
     "name": "stdout",
     "output_type": "stream",
     "text": [
      "I'm fine\n"
     ]
    }
   ],
   "source": [
    "# Handling special characters using escape sequences\n",
    "sentence = 'I\\'m fine'  # Using a backslash (\\) to escape the apostrophe\n",
    "print(sentence)"
   ]
  },
  {
   "cell_type": "code",
   "execution_count": 8,
   "id": "92291f26-adc2-45ea-81a0-f2fc85da3ffe",
   "metadata": {},
   "outputs": [
    {
     "name": "stdout",
     "output_type": "stream",
     "text": [
      "redcar\n",
      "red car\n"
     ]
    }
   ],
   "source": [
    "# Concatenation without '+'\n",
    "print('red' 'car')  # Python automatically joins adjacent string literals\n",
    "print('red ' 'car')"
   ]
  },
  {
   "cell_type": "code",
   "execution_count": 9,
   "id": "07a335fb-58fd-40f8-9ca9-511333d61614",
   "metadata": {},
   "outputs": [
    {
     "name": "stdout",
     "output_type": "stream",
     "text": [
      "The answer is 42\n",
      "The answer is 42\n"
     ]
    }
   ],
   "source": [
    "# Mixing strings and numbers\n",
    "print(\"The answer is\", 42)  # Using a comma (preferred)\n",
    "print(\"The answer is \" + str(42))  # Using '+' (requires conversion)"
   ]
  },
  {
   "cell_type": "markdown",
   "id": "ba265257-f418-48d2-b9a4-0e337a0f1cf4",
   "metadata": {},
   "source": [
    "## **Summary**  \n",
    "\n",
    "- Variables store data and are assigned using `=`.\n",
    "- Python automatically detects data types (`int`, `float`, `bool`, `str`).\n",
    "- Integers (`int`) are whole numbers, floats (`float`) have decimals.\n",
    "- Boolean values (`bool`) represent `True` or `False`.\n",
    "- Strings (`str`) are sequences of characters enclosed in quotes.\n",
    "- Strings can be concatenated using `+` or printed using commas.\n"
   ]
  },
  {
   "cell_type": "code",
   "execution_count": null,
   "id": "20cc55fe-ed3d-478b-be98-e482920a6a63",
   "metadata": {},
   "outputs": [],
   "source": []
  }
 ],
 "metadata": {
  "kernelspec": {
   "display_name": "Python 3 (ipykernel)",
   "language": "python",
   "name": "python3"
  },
  "language_info": {
   "codemirror_mode": {
    "name": "ipython",
    "version": 3
   },
   "file_extension": ".py",
   "mimetype": "text/x-python",
   "name": "python",
   "nbconvert_exporter": "python",
   "pygments_lexer": "ipython3",
   "version": "3.12.4"
  }
 },
 "nbformat": 4,
 "nbformat_minor": 5
}
