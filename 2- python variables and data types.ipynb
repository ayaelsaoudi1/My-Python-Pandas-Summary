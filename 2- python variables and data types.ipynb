{
 "cells": [
  {
   "cell_type": "markdown",
   "id": "780bd7e0-ebc0-47a5-931d-97f1a95de827",
   "metadata": {},
   "source": [
    "## Python Variables  \n",
    "\n",
    "- Python **automatically determines** the data type of a value when you assign it to a variable.  \n",
    "- A piece of code is referred to as a **command or program**.  \n",
    "- **Running the code** means **executing it**.  \n",
    "- The **=** symbol is used for **assignment** (binding a value to a variable).  \n",
    "- Python is **case-sensitive**, meaning `y` and `Y` are treated as different variables."
   ]
  },
  {
   "cell_type": "code",
   "execution_count": 16,
   "id": "bdaa851f-3065-44aa-bbbf-2322027e9e88",
   "metadata": {},
   "outputs": [
    {
     "data": {
      "text/plain": [
       "5"
      ]
     },
     "execution_count": 16,
     "metadata": {},
     "output_type": "execute_result"
    }
   ],
   "source": [
    "x = 5 #here we assignes variable x to number 5\n",
    "x"
   ]
  },
  {
   "cell_type": "code",
   "execution_count": 18,
   "id": "61bf92fa-0905-4f43-a007-50515a09dc35",
   "metadata": {},
   "outputs": [
    {
     "name": "stdout",
     "output_type": "stream",
     "text": [
      "a: 1 and b: 2\n"
     ]
    }
   ],
   "source": [
    "a,b = (1,2) #assinging a to 1 and b to 2 in the same line of code \n",
    "print('a: ' + str(a) +' and b: '+str(b))"
   ]
  },
  {
   "cell_type": "markdown",
   "id": "d7ec0ebb-531f-43ff-9059-8401bb110166",
   "metadata": {},
   "source": [
    "## Numbers and Boolean  \n",
    "\n",
    "- **Integers:** Whole numbers, both positive and negative, without a decimal point.  \n",
    "- The **`type(var)`** function returns the type of the given variable.  \n",
    "- **Floating Points (Floats):** Real numbers that include a decimal point.  \n",
    "- The **`int(var)`** function converts a variable into an integer.  \n",
    "- The **`float(var)`** function converts a variable into a float. Additionally, adding a decimal point to a number (or performing an operation that results in a decimal) will automatically convert an integer into a float.  \n",
    "- **Boolean Values:** Represent logical values, either **`True`** or **`False`**, which are internally represented as 1 and 0, respectively."
   ]
  },
  {
   "cell_type": "code",
   "execution_count": 42,
   "id": "6b72e2e6-14e7-40e3-8c49-27751ef1c324",
   "metadata": {},
   "outputs": [
    {
     "name": "stdout",
     "output_type": "stream",
     "text": [
      "8 is of type <class 'int'>\n",
      "8.7 is of type <class 'float'>\n"
     ]
    }
   ],
   "source": [
    "m,n = 8,8.7\n",
    "print(str(m)+' is of type '+str(type(m))+'\\n'+str(n)+' is of type '+str(type(n)) )"
   ]
  },
  {
   "cell_type": "code",
   "execution_count": 44,
   "id": "e9498eb0-3a26-464f-a55f-c11c88776a0e",
   "metadata": {},
   "outputs": [
    {
     "name": "stdout",
     "output_type": "stream",
     "text": [
      "8.0 is of type <class 'float'>\n",
      "8 is of type <class 'int'>\n"
     ]
    }
   ],
   "source": [
    "m,n = float(m),int(n)\n",
    "print(str(m)+' is of type '+str(type(m))+'\\n'+str(n)+' is of type '+str(type(n)) )"
   ]
  },
  {
   "cell_type": "markdown",
   "id": "49961cb1-822e-4d1d-9483-a0c031e7f0aa",
   "metadata": {},
   "source": [
    "## Python Strings  \n",
    "\n",
    "- **Strings:** Text values made up of a sequence of characters.  \n",
    "- You can use **single (' ')** or **double (\" \")** quotations to define a string.  \n",
    "- The **`str()`** function converts a number (or other data types) into a string."
   ]
  },
  {
   "cell_type": "code",
   "execution_count": 59,
   "id": "a42cc8c4-7a11-4fa2-8832-5a80e34af3dc",
   "metadata": {},
   "outputs": [
    {
     "data": {
      "text/plain": [
       "\"i'm fine\""
      ]
     },
     "execution_count": 59,
     "metadata": {},
     "output_type": "execute_result"
    }
   ],
   "source": [
    "\"i'm fine\" #you will avoid errors here because we have ' in the sentence \n",
    "'i\\'m fine'"
   ]
  },
  {
   "cell_type": "code",
   "execution_count": 73,
   "id": "c8ea84be-5f5f-459e-8cf4-b8bce3db7af9",
   "metadata": {},
   "outputs": [
    {
     "data": {
      "text/plain": [
       "'redcar'"
      ]
     },
     "execution_count": 73,
     "metadata": {},
     "output_type": "execute_result"
    }
   ],
   "source": [
    "'red' 'car'"
   ]
  },
  {
   "cell_type": "code",
   "execution_count": 63,
   "id": "7edade2b-f7aa-42bb-8d71-4c452be137a6",
   "metadata": {},
   "outputs": [
    {
     "data": {
      "text/plain": [
       "'red car'"
      ]
     },
     "execution_count": 63,
     "metadata": {},
     "output_type": "execute_result"
    }
   ],
   "source": [
    "'red ' 'car'"
   ]
  },
  {
   "cell_type": "code",
   "execution_count": 71,
   "id": "f33e7630-b193-4876-97e0-7dab5412e520",
   "metadata": {},
   "outputs": [
    {
     "name": "stdout",
     "output_type": "stream",
     "text": [
      "red car\n"
     ]
    }
   ],
   "source": [
    "print('red' , 'car')"
   ]
  },
  {
   "cell_type": "code",
   "execution_count": 75,
   "id": "e9740791-22c0-4a56-b1cd-605d891b39e6",
   "metadata": {},
   "outputs": [
    {
     "name": "stdout",
     "output_type": "stream",
     "text": [
      "9 0\n"
     ]
    }
   ],
   "source": [
    "print(9,0)"
   ]
  },
  {
   "cell_type": "code",
   "execution_count": null,
   "id": "f5404a8e-7c3b-44f6-be33-6e42aa0f0a2c",
   "metadata": {},
   "outputs": [],
   "source": []
  }
 ],
 "metadata": {
  "kernelspec": {
   "display_name": "Python 3 (ipykernel)",
   "language": "python",
   "name": "python3"
  },
  "language_info": {
   "codemirror_mode": {
    "name": "ipython",
    "version": 3
   },
   "file_extension": ".py",
   "mimetype": "text/x-python",
   "name": "python",
   "nbconvert_exporter": "python",
   "pygments_lexer": "ipython3",
   "version": "3.12.4"
  }
 },
 "nbformat": 4,
 "nbformat_minor": 5
}
