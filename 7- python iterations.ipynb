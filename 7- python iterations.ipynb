{
 "cells": [
  {
   "cell_type": "markdown",
   "id": "0fe58870-fe68-486c-a926-12f1c874b6d9",
   "metadata": {},
   "source": [
    "# Iterations in Python  \n",
    "\n",
    "Iteration refers to the ability to **execute a block of code repeatedly**, often with slight variations each time, depending on the data being processed. This is commonly done with loops.  \n",
    "\n",
    "---\n",
    "\n",
    "## 1. **For Loop**  \n",
    "\n",
    "The **`for` loop** is used to iterate over a sequence (like a list, tuple, string, or range). It allows you to execute a block of code once for each item in the sequence.  \n",
    "\n",
    "### **Syntax:**  \n",
    "```python\n",
    "for item in sequence:\n",
    "    # code block to execute\n",
    "```\n",
    "- **`item`**: The current element in the sequence.  \n",
    "- **`sequence`**: A collection of items (like a list, tuple, string, etc.).  \n",
    "\n",
    "### **Example: Iterating Through a List**  \n"
   ]
  },
  {
   "cell_type": "code",
   "execution_count": 1,
   "id": "5328fb35-0ac4-4bc7-8515-4c4cc21bc939",
   "metadata": {},
   "outputs": [
    {
     "name": "stdout",
     "output_type": "stream",
     "text": [
      "0\n",
      "2\n",
      "4\n",
      "6\n",
      "8\n",
      "10\n",
      "12\n",
      "14\n",
      "16\n",
      "18\n",
      "20\n"
     ]
    }
   ],
   "source": [
    "even = [0, 2, 4, 6, 8, 10, 12, 14, 16, 18, 20]\n",
    "for n in even:  # for every element n in the list 'even'\n",
    "    print(n)  # 'n' is the loop variable, any other name would work fine"
   ]
  },
  {
   "cell_type": "markdown",
   "id": "b6545cee-b480-414d-bf08-dee01c46f218",
   "metadata": {},
   "source": [
    "### **Printing on the Same Line**  \n"
   ]
  },
  {
   "cell_type": "code",
   "execution_count": 2,
   "id": "ef94f961-6c72-449a-a7fa-6631125aecba",
   "metadata": {},
   "outputs": [
    {
     "name": "stdout",
     "output_type": "stream",
     "text": [
      "0 2 4 6 8 10 12 14 16 18 20 "
     ]
    }
   ],
   "source": [
    "for n in even:  \n",
    "    print(n, end=\" \")  # prints all numbers on the same line  "
   ]
  },
  {
   "cell_type": "markdown",
   "id": "f682064a-ab2b-4a2c-9773-d69cf929e0bf",
   "metadata": {},
   "source": [
    "## 2. **While Loop and Incrementing**  \n",
    "\n",
    "A **`while` loop** executes a block of code **as long as a condition remains true**.  \n",
    "\n",
    "### **Incrementing in a While Loop**  \n",
    "Incrementing refers to adding a value to an existing variable during each iteration.  \n",
    "\n",
    "#### **Example: Counting with While Loop**  "
   ]
  },
  {
   "cell_type": "code",
   "execution_count": 3,
   "id": "da45a62d-5d1f-44c5-9571-db56785a783b",
   "metadata": {},
   "outputs": [
    {
     "name": "stdout",
     "output_type": "stream",
     "text": [
      "1\n",
      "2\n",
      "3\n",
      "4\n",
      "5\n"
     ]
    }
   ],
   "source": [
    "x = 0  # Initial value\n",
    "while x < 5:\n",
    "    x += 1  # Increment x by 1 each time\n",
    "    print(x)"
   ]
  },
  {
   "cell_type": "markdown",
   "id": "bc3c9f53-2ac2-46f0-9d3a-e944aeb8b559",
   "metadata": {},
   "source": [
    "- `x += 1` increments `x` by 1 during each loop iteration until `x` reaches 5.  "
   ]
  },
  {
   "cell_type": "markdown",
   "id": "8e7fe098-35ad-4ad6-be93-349e025c8520",
   "metadata": {},
   "source": [
    "### **Using a Step Value in a While Loop**  \n"
   ]
  },
  {
   "cell_type": "code",
   "execution_count": 4,
   "id": "6a3c44a7-62db-417f-bbcf-bdbf02fd02c9",
   "metadata": {},
   "outputs": [
    {
     "name": "stdout",
     "output_type": "stream",
     "text": [
      "0 2 4 6 8 10 12 14 16 18 20 "
     ]
    }
   ],
   "source": [
    "x = 0\n",
    "while x <= 20:\n",
    "    print(x, end=\" \")\n",
    "    x += 2  # Increment by 2 each iteration"
   ]
  },
  {
   "cell_type": "markdown",
   "id": "c2b63bde-3cb8-4764-bf15-4ec83418b84a",
   "metadata": {},
   "source": [
    "## 3. **Shorthand Arithmetic Operators**  \n",
    "\n",
    "Python allows **shorthand operators** to simplify arithmetic operations:  \n",
    "\n",
    "| Operator | Meaning | Example |\n",
    "|----------|---------|---------|\n",
    "| `+=` | Add and assign | `x += 2` (same as `x = x + 2`) |\n",
    "| `-=` | Subtract and assign | `x -= 3` (same as `x = x - 3`) |\n",
    "| `*=` | Multiply and assign | `x *= 4` (same as `x = x * 4`) |\n",
    "| `/=` | Divide and assign | `x /= 2` (same as `x = x / 2`) |\n",
    "| `//=` | Floor divide and assign | `x //= 2` (same as `x = x // 2`) |\n",
    "| `%=` | Modulo and assign | `x %= 3` (same as `x = x % 3`) |\n",
    "| `**=` | Exponentiate and assign | `x **= 2` (same as `x = x ** 2`) |\n",
    "\n",
    "### **Example of Incrementing Using `+=`**  "
   ]
  },
  {
   "cell_type": "code",
   "execution_count": 5,
   "id": "82320833-d361-475f-be1f-095ca2f7e105",
   "metadata": {},
   "outputs": [
    {
     "name": "stdout",
     "output_type": "stream",
     "text": [
      "2\n",
      "4\n",
      "6\n"
     ]
    }
   ],
   "source": [
    "x = 0\n",
    "while x < 5:\n",
    "    x += 2  # Increment x by 2 each time\n",
    "    print(x)"
   ]
  },
  {
   "cell_type": "markdown",
   "id": "558cfc52-853c-4042-8cfc-bc25ef92e2ce",
   "metadata": {},
   "source": [
    "## 4. **Creating Lists with `range()`**  \n",
    "\n",
    "The `range()` function generates a sequence of numbers.  \n",
    "\n",
    "### **Syntax:**  \n",
    "```python\n",
    "range(start, stop, step)\n",
    "```\n",
    "- **`start`**: The first number in the sequence (default is `0`).  \n",
    "- **`stop`**: The sequence stops **before** this number.  \n",
    "- **`step`**: The increment between numbers (default is `1`).  \n",
    "\n",
    "### **Example Usage of `range()`**  "
   ]
  },
  {
   "cell_type": "code",
   "execution_count": 6,
   "id": "c1a7c80b-7cd5-448e-8bcc-96dec1e85aa3",
   "metadata": {},
   "outputs": [
    {
     "name": "stdout",
     "output_type": "stream",
     "text": [
      "[0, 1, 2, 3, 4]\n"
     ]
    }
   ],
   "source": [
    "# Create a sequence of numbers from 0 to 4\n",
    "numbers = range(5)\n",
    "print(list(numbers))  # Output: [0, 1, 2, 3, 4]"
   ]
  },
  {
   "cell_type": "markdown",
   "id": "a6a4fe63-e192-42b4-909b-4d181a8b2743",
   "metadata": {},
   "source": [
    "### **Using `range()` with a For Loop**  \n"
   ]
  },
  {
   "cell_type": "code",
   "execution_count": 7,
   "id": "e0d410ff-b055-42a9-88bf-89c6656e6a15",
   "metadata": {},
   "outputs": [
    {
     "name": "stdout",
     "output_type": "stream",
     "text": [
      "1 2 4 8 16 32 64 128 256 512 "
     ]
    }
   ],
   "source": [
    "for n in range(10):\n",
    "    print(2 ** n, end=\" \")  # Prints powers of 2"
   ]
  },
  {
   "cell_type": "markdown",
   "id": "555a3e7d-21d6-4841-8337-acba4b2df3c9",
   "metadata": {},
   "source": [
    "### **Looping Through a List Using Indices**  "
   ]
  },
  {
   "cell_type": "code",
   "execution_count": 8,
   "id": "c3eafb03-38ea-4259-bf54-a7fcd69edf11",
   "metadata": {},
   "outputs": [
    {
     "name": "stdout",
     "output_type": "stream",
     "text": [
      "a\n",
      "b\n",
      "c\n",
      "d\n"
     ]
    }
   ],
   "source": [
    "my_list = ['a', 'b', 'c', 'd']\n",
    "for i in range(len(my_list)):\n",
    "    print(my_list[i])  # Output: a, b, c, d"
   ]
  },
  {
   "cell_type": "markdown",
   "id": "a6a0e061-0078-400d-bd04-fe108e418c15",
   "metadata": {},
   "source": [
    "## 5. **Using Conditional Statements in Loops**  \n",
    "\n",
    "You can combine **conditional statements** (`if`, `elif`, `else`) with **loops** (`for`, `while`) to create more complex logic.  \n",
    "\n",
    "### **Using `if` Statements in Loops**  \n"
   ]
  },
  {
   "cell_type": "code",
   "execution_count": 9,
   "id": "69cf5901-dfc3-4871-95be-d9961f4172c1",
   "metadata": {},
   "outputs": [
    {
     "name": "stdout",
     "output_type": "stream",
     "text": [
      "0 odd 2 odd 4 odd 6 odd 8 odd 10 odd 12 odd 14 odd 16 odd 18 odd "
     ]
    }
   ],
   "source": [
    "for x in range(20):\n",
    "    if x % 2 == 0:  # Check if x is even\n",
    "        print(x, end=\" \" )\n",
    "    else:\n",
    "        print(\"odd\", end=\" \")"
   ]
  },
  {
   "cell_type": "markdown",
   "id": "d3aa1691-d0ef-43c6-bba2-98573a26b6cf",
   "metadata": {},
   "source": [
    "### **Using `break` and `continue` in Loops**  \n",
    "- **`break`**: Stops the loop when a condition is met.  \n",
    "- **`continue`**: Skips the rest of the loop iteration and moves to the next one.  \n"
   ]
  },
  {
   "cell_type": "code",
   "execution_count": 10,
   "id": "85ad4585-90a7-43bf-8674-a26d30c0e191",
   "metadata": {},
   "outputs": [
    {
     "name": "stdout",
     "output_type": "stream",
     "text": [
      "0 1 2 3 4 "
     ]
    }
   ],
   "source": [
    "for num in range(10):\n",
    "    if num == 5:\n",
    "        break  # Exit the loop when num is 5\n",
    "    print(num, end=\" \")  "
   ]
  },
  {
   "cell_type": "code",
   "execution_count": 11,
   "id": "59ad1574-4041-423a-83bb-32e922692b89",
   "metadata": {},
   "outputs": [
    {
     "name": "stdout",
     "output_type": "stream",
     "text": [
      "0 1 2 3 4 6 7 8 9 "
     ]
    }
   ],
   "source": [
    "for num in range(10):\n",
    "    if num == 5:\n",
    "        continue  # Skip printing 5 and move to next iteration\n",
    "    print(num, end=\" \")  "
   ]
  },
  {
   "cell_type": "markdown",
   "id": "999f39af-257a-4ed5-b2f8-d83ca5e3bf9a",
   "metadata": {},
   "source": [
    "## 6. **Iterating Over a Dictionary**  \n",
    "\n",
    "Dictionaries store **key-value pairs**, and we can iterate over them using a loop.  \n",
    "\n",
    "### **Example: Calculating Total Cost Using Dictionaries**  "
   ]
  },
  {
   "cell_type": "code",
   "execution_count": 12,
   "id": "0745da9a-c227-4653-9bd8-f0b3c7c8396d",
   "metadata": {},
   "outputs": [
    {
     "name": "stdout",
     "output_type": "stream",
     "text": [
      "Total Money Spent: 74\n"
     ]
    }
   ],
   "source": [
    "prices = {\n",
    "    \"spaghetti\": 4,\n",
    "    \"pizza\": 5,\n",
    "    \"burger\": 2\n",
    "}\n",
    "\n",
    "quantity = {\n",
    "    \"spaghetti\": 6,\n",
    "    \"pizza\": 10,\n",
    "    \"burger\": 0\n",
    "}\n",
    "\n",
    "money_spent = 0\n",
    "for item in prices:  # Loop through dictionary keys\n",
    "    money_spent += prices[item] * quantity[item]  # Multiply price by quantity\n",
    "\n",
    "print(\"Total Money Spent:\", money_spent)"
   ]
  },
  {
   "cell_type": "markdown",
   "id": "70bd4a39-e8e6-4d94-b386-3b75846b2b0d",
   "metadata": {},
   "source": [
    "- This works because **both dictionaries contain the same keys**.  \n",
    "- If a key is missing in one dictionary, this code will throw an error.  "
   ]
  },
  {
   "cell_type": "markdown",
   "id": "29a7022e-e90e-4d30-8a35-8e2b6cc40030",
   "metadata": {},
   "source": [
    "### **Looping Through Keys and Values Simultaneously**  "
   ]
  },
  {
   "cell_type": "code",
   "execution_count": 13,
   "id": "d3251609-8c14-4a08-806b-653b82ac2f58",
   "metadata": {},
   "outputs": [
    {
     "name": "stdout",
     "output_type": "stream",
     "text": [
      "spaghetti: $4\n",
      "pizza: $5\n",
      "burger: $2\n"
     ]
    }
   ],
   "source": [
    "for item, price in prices.items():\n",
    "    print(f\"{item}: ${price}\")"
   ]
  },
  {
   "cell_type": "markdown",
   "id": "e0c5fc2a-c8d0-4107-a642-59aeaaac4f2d",
   "metadata": {},
   "source": [
    "## **Summary of Loops in Python**  \n",
    "\n",
    "| Loop Type | Use Case |\n",
    "|-----------|----------|\n",
    "| `for` loop | Iterates over sequences (lists, tuples, strings, dictionaries, `range()`) |\n",
    "| `while` loop | Repeats execution **while a condition is true** |\n",
    "| `break` | Exits a loop early when a condition is met |\n",
    "| `continue` | Skips the rest of the current iteration and moves to the next one |\n",
    "| `range()` | Generates sequences of numbers for looping |"
   ]
  },
  {
   "cell_type": "code",
   "execution_count": null,
   "id": "85f049f0-23d1-4f81-b618-a40f074ceed9",
   "metadata": {},
   "outputs": [],
   "source": []
  }
 ],
 "metadata": {
  "kernelspec": {
   "display_name": "Python 3 (ipykernel)",
   "language": "python",
   "name": "python3"
  },
  "language_info": {
   "codemirror_mode": {
    "name": "ipython",
    "version": 3
   },
   "file_extension": ".py",
   "mimetype": "text/x-python",
   "name": "python",
   "nbconvert_exporter": "python",
   "pygments_lexer": "ipython3",
   "version": "3.12.4"
  }
 },
 "nbformat": 4,
 "nbformat_minor": 5
}
