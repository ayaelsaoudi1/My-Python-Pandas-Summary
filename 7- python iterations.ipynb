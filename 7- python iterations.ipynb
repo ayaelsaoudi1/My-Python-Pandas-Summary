{
 "cells": [
  {
   "cell_type": "markdown",
   "id": "ed6f2897-c208-42cb-9ca8-eb2ff44f0d54",
   "metadata": {},
   "source": [
    "# Iterations in Python\n",
    "Iteration refers to the ability to **execute a block of code repeatedly**, often with slight variations each time, depending on the data being processed. This is commonly done with loops."
   ]
  },
  {
   "cell_type": "markdown",
   "id": "6ab756ac-4b62-4d43-87a8-10f6d2e8a1ab",
   "metadata": {},
   "source": [
    "### 1. **For Loop**\n",
    "The **`for` loop** is used to iterate over a sequence (like a list, tuple, string, or range). It allows you to execute a block of code once for each item in the sequence.\n",
    "\n",
    "**Syntax:**\n",
    "```python\n",
    "for item in sequence:\n",
    "    # code block to execute\n",
    "```\n",
    "\n",
    "- **`item`**: The current element in the sequence.\n",
    "- **`sequence`**: A collection of items (like a list, tuple, string, etc.)."
   ]
  },
  {
   "cell_type": "code",
   "execution_count": 1,
   "id": "21604cac-bcc2-40ff-8168-8ff21fad8893",
   "metadata": {},
   "outputs": [],
   "source": [
    "even = [0,2,4,6,8,10,12,14,16,18,20]"
   ]
  },
  {
   "cell_type": "code",
   "execution_count": 2,
   "id": "0e1b80b2-ad98-48eb-ad2d-aa79cdb72a44",
   "metadata": {},
   "outputs": [
    {
     "name": "stdout",
     "output_type": "stream",
     "text": [
      "0\n",
      "2\n",
      "4\n",
      "6\n",
      "8\n",
      "10\n",
      "12\n",
      "14\n",
      "16\n",
      "18\n",
      "20\n"
     ]
    }
   ],
   "source": [
    "for n in even : #which means for every element n in the list even\n",
    "    print(n) #n is the loop variable, any othe name wouldve worked fine"
   ]
  },
  {
   "cell_type": "code",
   "execution_count": 3,
   "id": "142fd90d-9595-4ec1-991c-93944c677e41",
   "metadata": {},
   "outputs": [
    {
     "name": "stdout",
     "output_type": "stream",
     "text": [
      "0 2 4 6 8 10 12 14 16 18 20 "
     ]
    }
   ],
   "source": [
    "for n in even : \n",
    "    print(n, end=\" \") #to print all on the same line "
   ]
  },
  {
   "cell_type": "markdown",
   "id": "292ad103-9a03-4d45-8b2c-a02761cc4a75",
   "metadata": {},
   "source": [
    "### 2. While Loop and Incrementing\n",
    "\n",
    "In a `while` loop, **incrementing** refers to adding a value to an existing variable during each iteration of the loop. This is a common practice when working with loops to accumulate a result, track a count, or modify a variable step-by-step.\n",
    "\n",
    "### Incrementing in a While Loop\n",
    "You can increment a variable by performing an arithmetic operation on it (e.g., adding, subtracting, multiplying, etc.) inside the loop.\n",
    "\n",
    "#### Example of Incrementing:\n",
    "```python\n",
    "x = 0  # Initial value\n",
    "while x < 5:\n",
    "    x += 1  # Increment x by 1 each time\n",
    "    print(x)\n",
    "```\n",
    "In this example, `x += 1` increments `x` by 1 during each loop iteration until `x` reaches 5.\n",
    "\n",
    "### The Shorthand Arithmetic Operators\n",
    "Python allows you to use shorthand operators for modifying a variable in place, meaning you can combine an arithmetic operation and assignment into one statement. These shorthand operators are convenient for simplifying your code.\n",
    "\n",
    "- **`+=`**: Adds a number to the variable.\n",
    "- **`-=`**: Subtracts a number from the variable.\n",
    "- **`*=`**: Multiplies the variable by a number.\n",
    "- **`/=`**: Divides the variable by a number.\n",
    "- **`//=`**: Performs floor division.\n",
    "- **`%=`**: Modulo operation (remainder).\n",
    "- **`**=`**: Exponentiation.\n",
    "\n",
    "#### Example with `+=`:\n",
    "```python\n",
    "x = 0\n",
    "while x < 5:\n",
    "    x += 2  # Increment x by 2 each time\n",
    "    print(x)\n",
    "```"
   ]
  },
  {
   "cell_type": "code",
   "execution_count": 27,
   "id": "cfa02f46-38bd-4c83-81e8-4e3782acea69",
   "metadata": {},
   "outputs": [],
   "source": [
    "x=0\n",
    "# while x<20: we will never run this code cuz the pc might crash\n",
    "    # print(x) "
   ]
  },
  {
   "cell_type": "code",
   "execution_count": 29,
   "id": "bea72953-f7a1-4b1b-bf74-578ce074372c",
   "metadata": {},
   "outputs": [
    {
     "name": "stdout",
     "output_type": "stream",
     "text": [
      "0 2 4 6 8 10 12 14 16 18 20 "
     ]
    }
   ],
   "source": [
    "x=0\n",
    "while x<=20:\n",
    "    print(x,end=\" \")\n",
    "    x+=2"
   ]
  },
  {
   "cell_type": "markdown",
   "id": "cc7b946e-74ed-4744-8837-f64fe62dd46a",
   "metadata": {},
   "source": [
    "### Creating Lists with the `range()` Function\n",
    "\n",
    "The `range()` function generates a sequence of integers, which can be used to create a list or for iteration in loops.\n",
    "\n",
    "The `range()` function takes up to three parameters:\n",
    "- **`start`**: The first number in the sequence (default is 0).\n",
    "- **`stop`**: The last number in the sequence, but the sequence will stop **before** this number (so it's exclusive).\n",
    "- **`step`**: The distance between consecutive values (default is 1).\n",
    "\n",
    "### Example Usage of `range()`:\n",
    "```python\n",
    "# Create a sequence of numbers from 0 to 4\n",
    "numbers = range(5)\n",
    "print(list(numbers))  # Output: [0, 1, 2, 3, 4]\n",
    "```\n",
    "Alternatively, you can also use the `range()` function to loop through a list by its indices:\n",
    "```python\n",
    "my_list = ['a', 'b', 'c', 'd']\n",
    "for i in range(len(my_list)):\n",
    "    print(my_list[i])  # Output: a, b, c, d\n",
    "```\n",
    "\n",
    "Both of the above approaches are equivalent, but using `range()` is particularly useful when you need to loop over indices, while directly iterating through the list allows you to access the elements directly."
   ]
  },
  {
   "cell_type": "code",
   "execution_count": 39,
   "id": "44a07cb5-3a25-4bbb-bf0e-b68bfc69acd2",
   "metadata": {},
   "outputs": [
    {
     "data": {
      "text/plain": [
       "[0, 1, 2, 3, 4, 5, 6, 7, 8, 9]"
      ]
     },
     "execution_count": 39,
     "metadata": {},
     "output_type": "execute_result"
    }
   ],
   "source": [
    "list(range(10))"
   ]
  },
  {
   "cell_type": "code",
   "execution_count": 44,
   "id": "7f5a21cd-32e9-4bba-b020-af73c1d525dc",
   "metadata": {},
   "outputs": [
    {
     "name": "stdout",
     "output_type": "stream",
     "text": [
      "1 2 4 8 16 32 64 128 256 512 "
     ]
    }
   ],
   "source": [
    "for n in range(10):\n",
    "    print(2**n,end=\" \")"
   ]
  },
  {
   "cell_type": "code",
   "execution_count": 54,
   "id": "3f497494-bf73-478c-8273-8ef973757dfa",
   "metadata": {},
   "outputs": [],
   "source": [
    "x=[0,1,2]"
   ]
  },
  {
   "cell_type": "code",
   "execution_count": 56,
   "id": "740e3285-fca3-4b12-af66-1842e2f38fc4",
   "metadata": {},
   "outputs": [
    {
     "name": "stdout",
     "output_type": "stream",
     "text": [
      "0 1 2 "
     ]
    }
   ],
   "source": [
    "for item in x:\n",
    "    print(item,end=\" \")"
   ]
  },
  {
   "cell_type": "code",
   "execution_count": 58,
   "id": "6ba380f9-cbed-44df-a60b-5222ead8adcb",
   "metadata": {},
   "outputs": [
    {
     "name": "stdout",
     "output_type": "stream",
     "text": [
      "0 1 2 "
     ]
    }
   ],
   "source": [
    "for item in range(len(x)):\n",
    "    print(x[item],end=\" \")"
   ]
  },
  {
   "cell_type": "markdown",
   "id": "adf34e42-b56c-4a54-b86a-15baa7f81278",
   "metadata": {},
   "source": [
    "### Using Conditional Statements and Loops Together\n",
    "\n",
    "You can combine **conditional statements** (such as `if`, `elif`, `else`) and **loops** (like `for` or `while`) to perform more complex logic inside loops. This allows you to execute different actions depending on certain conditions while iterating through data.\n",
    "\n",
    "- You can break out of loops early with `break` when a condition is met.\n",
    "- `continue` can be used to skip the current iteration and move to the next one in the loop if a condition is met. \n"
   ]
  },
  {
   "cell_type": "code",
   "execution_count": 48,
   "id": "42309fc4-abb5-4369-889c-7b07307cf8f1",
   "metadata": {},
   "outputs": [
    {
     "name": "stdout",
     "output_type": "stream",
     "text": [
      "0 odd 2 odd 4 odd 6 odd 8 odd 10 odd 12 odd 14 odd 16 odd 18 odd "
     ]
    }
   ],
   "source": [
    "for x in range(20):\n",
    "    if x % 2==0: #same as saying if x is even\n",
    "        print(x,end=\" \" )\n",
    "    else:\n",
    "        print(\"odd\",end=\" \")"
   ]
  },
  {
   "cell_type": "markdown",
   "id": "e8bb2b1e-599e-4611-adef-72c7baa7e96e",
   "metadata": {},
   "source": [
    "## Iterating Over a Dictionary in Python\n",
    "<b>Example:</b> How much \"Jan\" spent based on the price and quantity of items:"
   ]
  },
  {
   "cell_type": "code",
   "execution_count": 78,
   "id": "46a472b1-96b3-49a5-8e82-0056b7335b4a",
   "metadata": {},
   "outputs": [],
   "source": [
    "prices = {\n",
    "    \"spaghetti\" :4,\n",
    "    \"pizza\": 5,\n",
    "    \"burger\": 2\n",
    "}\n",
    "quantity = {\n",
    "    \"spaghetti\" :6,\n",
    "    \"pizza\": 10,\n",
    "    \"burger\": 0\n",
    "}"
   ]
  },
  {
   "cell_type": "code",
   "execution_count": 82,
   "id": "e2ef3631-42a4-4c39-8b02-5327b0f66bc3",
   "metadata": {},
   "outputs": [
    {
     "name": "stdout",
     "output_type": "stream",
     "text": [
      "74\n"
     ]
    }
   ],
   "source": [
    "money_spent = 0\n",
    "for i in prices: #if we put quantity instead of prices it works the same \n",
    "    money_spent = money_spent + (prices[i] * quantity[i]) #this works because the two dictionaries contain the same keys \n",
    "print(money_spent) #if one didnt have the same key name it will not work out"
   ]
  },
  {
   "cell_type": "code",
   "execution_count": null,
   "id": "968bace5-c9a4-4482-a82f-268502c211f2",
   "metadata": {},
   "outputs": [],
   "source": []
  }
 ],
 "metadata": {
  "kernelspec": {
   "display_name": "Python 3 (ipykernel)",
   "language": "python",
   "name": "python3"
  },
  "language_info": {
   "codemirror_mode": {
    "name": "ipython",
    "version": 3
   },
   "file_extension": ".py",
   "mimetype": "text/x-python",
   "name": "python",
   "nbconvert_exporter": "python",
   "pygments_lexer": "ipython3",
   "version": "3.12.4"
  }
 },
 "nbformat": 4,
 "nbformat_minor": 5
}
