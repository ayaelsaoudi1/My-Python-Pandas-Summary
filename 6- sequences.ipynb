{
 "cells": [
  {
   "cell_type": "markdown",
   "id": "6bcaad8d-fc43-4288-88b4-a35b094f64aa",
   "metadata": {},
   "source": [
    "## Lists\n",
    "\n",
    "- A **list** is a type of sequence that holds multiple data points.\n",
    "- Lists are defined using **square brackets** `[ ]`.\n",
    "- **Indices start from 0**, meaning the first element in the list is accessed at index 0 (e.g., `list[0]` gives the first element).\n",
    "- We can count indices in the opposite direction using **negative numbers**, where `-1` refers to the last element, `-2` to the second last, and so on.\n",
    "- To replace an element in a list, use the syntax: **`list[2] = new_element`** (this replaces the element at index 2 with `new_element`).\n",
    "- To **delete an element**, use the **`del`** keyword: **`del list[2]`** (this deletes the element at index 2)."
   ]
  },
  {
   "cell_type": "code",
   "execution_count": 47,
   "id": "507e7ae5-81e6-49ed-be3b-75302817056a",
   "metadata": {},
   "outputs": [
    {
     "data": {
      "text/plain": [
       "['aya', 'john', 'cate', 'lara']"
      ]
     },
     "execution_count": 47,
     "metadata": {},
     "output_type": "execute_result"
    }
   ],
   "source": [
    "participants = ['aya','john','cate','lara']\n",
    "participants"
   ]
  },
  {
   "cell_type": "code",
   "execution_count": 49,
   "id": "976a2c9d-1a2f-4e0e-885e-4da0a348e8f0",
   "metadata": {},
   "outputs": [
    {
     "data": {
      "text/plain": [
       "'john'"
      ]
     },
     "execution_count": 49,
     "metadata": {},
     "output_type": "execute_result"
    }
   ],
   "source": [
    "participants[1]"
   ]
  },
  {
   "cell_type": "code",
   "execution_count": 51,
   "id": "3cff2182-044b-4d1b-83c0-ec48f4f6b696",
   "metadata": {},
   "outputs": [
    {
     "data": {
      "text/plain": [
       "'lara'"
      ]
     },
     "execution_count": 51,
     "metadata": {},
     "output_type": "execute_result"
    }
   ],
   "source": [
    "participants[-1]"
   ]
  },
  {
   "cell_type": "code",
   "execution_count": 53,
   "id": "2dd684c1-cdae-477d-8ab9-caa529d62d20",
   "metadata": {},
   "outputs": [
    {
     "data": {
      "text/plain": [
       "['lol', 'john', 'cate', 'lara']"
      ]
     },
     "execution_count": 53,
     "metadata": {},
     "output_type": "execute_result"
    }
   ],
   "source": [
    "participants[0]='lol'\n",
    "participants"
   ]
  },
  {
   "cell_type": "code",
   "execution_count": 55,
   "id": "a512c8e6-c7b2-4bd9-b17b-48a65d4f0a82",
   "metadata": {},
   "outputs": [
    {
     "data": {
      "text/plain": [
       "['john', 'cate', 'lara']"
      ]
     },
     "execution_count": 55,
     "metadata": {},
     "output_type": "execute_result"
    }
   ],
   "source": [
    "del participants[0]\n",
    "participants"
   ]
  },
  {
   "cell_type": "markdown",
   "id": "bbda1b91-4dd1-4dc5-9014-89e26aaf4389",
   "metadata": {},
   "source": [
    "## Using Methods\n",
    "\n",
    "- **Built-in methods** can be applied directly to objects in Python.\n",
    "- The **dot operator** (`.`) allows us to call or invoke a method on an object.\n",
    "  \n",
    "Some common methods for lists:\n",
    "\n",
    "- **`.append(element)`**: Adds an element to the end of the list.\n",
    "- **`.extend([list])`**: Adds all elements from another list to the existing list.\n",
    "- **`.index(element)`**: Returns the index of the first occurrence of the element in the list.\n",
    "- **`.sort(reverse=False)`**: Sorts the elements in the list. If **`reverse=True`**, the list is sorted in descending order.\n",
    "- **`len(list)`**: Returns the number of elements in the list (just like a string)."
   ]
  },
  {
   "cell_type": "code",
   "execution_count": 58,
   "id": "399f860c-de2d-435c-a1f3-407e64dfeffa",
   "metadata": {},
   "outputs": [
    {
     "data": {
      "text/plain": [
       "['john', 'cate', 'lara', 'aya']"
      ]
     },
     "execution_count": 58,
     "metadata": {},
     "output_type": "execute_result"
    }
   ],
   "source": [
    "participants.append('aya')\n",
    "participants"
   ]
  },
  {
   "cell_type": "code",
   "execution_count": 60,
   "id": "886babb4-5d20-488f-9154-cb852d5026bc",
   "metadata": {},
   "outputs": [
    {
     "data": {
      "text/plain": [
       "['john', 'cate', 'lara', 'aya', 'lol1', 'lol2']"
      ]
     },
     "execution_count": 60,
     "metadata": {},
     "output_type": "execute_result"
    }
   ],
   "source": [
    "participants.extend(['lol1','lol2'])\n",
    "participants"
   ]
  },
  {
   "cell_type": "code",
   "execution_count": 63,
   "id": "7b1127a3-3037-4742-ac16-ed82f4680193",
   "metadata": {},
   "outputs": [
    {
     "data": {
      "text/plain": [
       "6"
      ]
     },
     "execution_count": 63,
     "metadata": {},
     "output_type": "execute_result"
    }
   ],
   "source": [
    "len(participants)"
   ]
  },
  {
   "cell_type": "code",
   "execution_count": 76,
   "id": "bbb8a72a-941b-46b7-8397-e0a7087207d8",
   "metadata": {},
   "outputs": [
    {
     "data": {
      "text/plain": [
       "3"
      ]
     },
     "execution_count": 76,
     "metadata": {},
     "output_type": "execute_result"
    }
   ],
   "source": [
    "participants.index('aya')"
   ]
  },
  {
   "cell_type": "code",
   "execution_count": 81,
   "id": "6e0d53d0-d380-45b2-b63c-38cbd22b5d5b",
   "metadata": {},
   "outputs": [
    {
     "data": {
      "text/plain": [
       "['aya', 'cate', 'john', 'lara', 'lol1', 'lol2']"
      ]
     },
     "execution_count": 81,
     "metadata": {},
     "output_type": "execute_result"
    }
   ],
   "source": [
    "participants.sort()\n",
    "participants"
   ]
  },
  {
   "cell_type": "markdown",
   "id": "f0b1e29c-20fe-4922-bf64-74b8e5b17809",
   "metadata": {},
   "source": [
    "## List Slicing\n",
    "\n",
    "- **`list[start:end]`**: This slices the list from the `start` index to the `end` index, but the element at the `end` index is **not included**.\n",
    "- **`list[start:]`**: This slices the list from the `start` index to the end of the list.\n",
    "- **`list[:]`**: This slices the entire list (essentially creates a copy of the list).\n",
    "- **`list[-2:]`**: This slices the last two elements of the list.\n",
    "- You can also use **negative indices** for slicing, where `-1` refers to the last element, `-2` to the second last, and so on."
   ]
  },
  {
   "cell_type": "code",
   "execution_count": 66,
   "id": "b3efbc09-5362-4cb0-a046-2cb8a5667f8b",
   "metadata": {},
   "outputs": [
    {
     "data": {
      "text/plain": [
       "['cate', 'lara']"
      ]
     },
     "execution_count": 66,
     "metadata": {},
     "output_type": "execute_result"
    }
   ],
   "source": [
    "participants[1:3]"
   ]
  },
  {
   "cell_type": "code",
   "execution_count": 68,
   "id": "b8564300-34ba-4b8a-9d2b-b73a0dc0dff7",
   "metadata": {},
   "outputs": [
    {
     "data": {
      "text/plain": [
       "['john', 'cate', 'lara']"
      ]
     },
     "execution_count": 68,
     "metadata": {},
     "output_type": "execute_result"
    }
   ],
   "source": [
    "participants[:3]"
   ]
  },
  {
   "cell_type": "code",
   "execution_count": 70,
   "id": "5c1560e7-b92c-4fb3-8d67-0dd83e8b6705",
   "metadata": {},
   "outputs": [
    {
     "data": {
      "text/plain": [
       "['lol1', 'lol2']"
      ]
     },
     "execution_count": 70,
     "metadata": {},
     "output_type": "execute_result"
    }
   ],
   "source": [
    "participants[4:]"
   ]
  },
  {
   "cell_type": "code",
   "execution_count": 73,
   "id": "a0331799-8217-4938-adb9-d0efeb206e40",
   "metadata": {},
   "outputs": [
    {
     "data": {
      "text/plain": [
       "['lol1', 'lol2']"
      ]
     },
     "execution_count": 73,
     "metadata": {},
     "output_type": "execute_result"
    }
   ],
   "source": [
    "participants[-2:]"
   ]
  },
  {
   "cell_type": "markdown",
   "id": "f2939c68-5726-4879-8380-c89c8d11e184",
   "metadata": {},
   "source": [
    "## Tuples\n",
    "\n",
    "- **Tuples** are a type of data sequence in Python.\n",
    "- **Tuples are immutable (unchangeable)**, meaning we cannot modify, append, or delete elements once they are created.\n",
    "- The elements of a tuple are placed within **parentheses `()`**.\n",
    "- We say the elements are **packed into a tuple** when they are assigned to a variable."
   ]
  },
  {
   "cell_type": "code",
   "execution_count": 86,
   "id": "d4894256-95ca-4737-9e5b-a6996a548da2",
   "metadata": {},
   "outputs": [
    {
     "data": {
      "text/plain": [
       "(1, 2, 4)"
      ]
     },
     "execution_count": 86,
     "metadata": {},
     "output_type": "execute_result"
    }
   ],
   "source": [
    "x = (1,2,4)\n",
    "x"
   ]
  },
  {
   "cell_type": "code",
   "execution_count": 90,
   "id": "8165674b-e591-46a7-a03a-c15a5ec8d6e7",
   "metadata": {},
   "outputs": [
    {
     "data": {
      "text/plain": [
       "(9, 84, 2)"
      ]
     },
     "execution_count": 90,
     "metadata": {},
     "output_type": "execute_result"
    }
   ],
   "source": [
    "u = 9,84,2\n",
    "u"
   ]
  },
  {
   "cell_type": "code",
   "execution_count": 96,
   "id": "824386fb-7216-4bb3-aab8-53ba77b79fd5",
   "metadata": {},
   "outputs": [
    {
     "data": {
      "text/plain": [
       "5"
      ]
     },
     "execution_count": 96,
     "metadata": {},
     "output_type": "execute_result"
    }
   ],
   "source": [
    "m,n,b = 3,4,5 #tuple assignment\n",
    "b"
   ]
  },
  {
   "cell_type": "code",
   "execution_count": 98,
   "id": "17336376-9676-4e36-ac1a-374872eaf4e0",
   "metadata": {},
   "outputs": [
    {
     "data": {
      "text/plain": [
       "9"
      ]
     },
     "execution_count": 98,
     "metadata": {},
     "output_type": "execute_result"
    }
   ],
   "source": [
    "u[0]"
   ]
  },
  {
   "cell_type": "markdown",
   "id": "e136167b-f1db-4681-8b5e-39b8d6c7fff2",
   "metadata": {},
   "source": [
    "Tuples do not have a `.split()` method. The **`.split()`** method is a string method, not for tuples. \n",
    "\n",
    "If you want to split a tuple into multiple variables, you can **unpack** it like this:\n",
    "\n",
    "```python\n",
    "my_tuple = (1, 2, 3)\n",
    "a, b, c = my_tuple\n",
    "```\n",
    "\n",
    "This splits the tuple into individual variables `a`, `b`, and `c`. If you're working with strings inside a tuple, you can split them using the **`.split()`** method on the string element.\n",
    "\n",
    "For example:\n",
    "\n",
    "```python\n",
    "my_tuple = (\"apple,banana,cherry\",)\n",
    "split_fruit = my_tuple[0].split(',')\n",
    "```\n",
    "\n",
    "This would split the string inside the tuple into a list of fruits."
   ]
  },
  {
   "cell_type": "code",
   "execution_count": 4,
   "id": "034edadd-33e4-40c5-b278-881cfcded688",
   "metadata": {},
   "outputs": [],
   "source": [
    "my_tuple = (1, 2, 3)\n",
    "a, b, c = my_tuple\n"
   ]
  },
  {
   "cell_type": "code",
   "execution_count": 5,
   "id": "a087f06c-0dbc-4263-aa27-36525fd87fde",
   "metadata": {},
   "outputs": [],
   "source": [
    "my_tuple = (\"apple,banana,cherry\",)\n",
    "split_fruit = my_tuple[0].split(',')\n"
   ]
  },
  {
   "cell_type": "code",
   "execution_count": 6,
   "id": "2f4e97db-a7f7-43f3-91d2-9b020df4c62c",
   "metadata": {},
   "outputs": [
    {
     "data": {
      "text/plain": [
       "['apple', 'banana', 'cherry']"
      ]
     },
     "execution_count": 6,
     "metadata": {},
     "output_type": "execute_result"
    }
   ],
   "source": [
    "split_fruit"
   ]
  },
  {
   "cell_type": "markdown",
   "id": "0d823dc6-4217-4fda-a334-300b235ac045",
   "metadata": {},
   "source": [
    "#### Functions Can Provide Tuples as Return Values\n",
    "In Python, functions can return tuples. This allows you to return multiple values from a function as a single, packed unit."
   ]
  },
  {
   "cell_type": "code",
   "execution_count": 114,
   "id": "4b070f66-e9f8-40d4-a2ed-358b1ef0ef1d",
   "metadata": {},
   "outputs": [
    {
     "data": {
      "text/plain": [
       "(4, 8)"
      ]
     },
     "execution_count": 114,
     "metadata": {},
     "output_type": "execute_result"
    }
   ],
   "source": [
    "def square_info(x):\n",
    "    a=x**2\n",
    "    p=4*x\n",
    "    return a,p\n",
    "square_info(2)"
   ]
  },
  {
   "cell_type": "markdown",
   "id": "0f8543e6-11a9-40bf-ba26-f44b161c987a",
   "metadata": {},
   "source": [
    "## Dictionaries\n",
    "\n",
    "- **Dictionaries** are a way to store data in Python using a **key-value pair** structure.\n",
    "- They are created using **curly braces `{}`**.\n",
    "- To **add a new key-value pair**, you can assign a value to a new key like this: `dict[new_key] = new_value`.\n",
    "- A **value** in a dictionary can be any type of data, including a **list**.\n"
   ]
  },
  {
   "cell_type": "code",
   "execution_count": 1,
   "id": "59748c58-9e1a-4f97-a4c8-024b14a065ab",
   "metadata": {},
   "outputs": [],
   "source": [
    "dict = {'k1':\"cat\",'k2':\"dog\",'k3':\"hourse\"}"
   ]
  },
  {
   "cell_type": "code",
   "execution_count": 122,
   "id": "7a12db82-74bb-4f50-ae5a-ac9aa9938e55",
   "metadata": {},
   "outputs": [
    {
     "name": "stdout",
     "output_type": "stream",
     "text": [
      "cat\n",
      "hourse\n"
     ]
    }
   ],
   "source": [
    "print(dict['k1'])\n",
    "print(dict['k3'])"
   ]
  },
  {
   "cell_type": "code",
   "execution_count": 126,
   "id": "fa17dae0-06de-430c-8349-0911f48eb928",
   "metadata": {},
   "outputs": [
    {
     "data": {
      "text/plain": [
       "{'k1': 'cat', 'k2': 'dog', 'k3': 'hourse', 'k5': 'duck'}"
      ]
     },
     "execution_count": 126,
     "metadata": {},
     "output_type": "execute_result"
    }
   ],
   "source": [
    "dict['k5']=\"duck\"\n",
    "dict"
   ]
  },
  {
   "cell_type": "markdown",
   "id": "5a306064-db46-4f77-9810-f50b3788490a",
   "metadata": {},
   "source": [
    "#### Another Way to Fill in a Dictionary"
   ]
  },
  {
   "cell_type": "code",
   "execution_count": 7,
   "id": "a7f3bb86-b2f4-4515-8d27-69df544570dc",
   "metadata": {},
   "outputs": [
    {
     "data": {
      "text/plain": [
       "{'k1': 'element1', 'k2': 'element2', 'k3': 'element3'}"
      ]
     },
     "execution_count": 7,
     "metadata": {},
     "output_type": "execute_result"
    }
   ],
   "source": [
    "teams = {}\n",
    "teams['k1']='element1'\n",
    "teams['k2']='element2'\n",
    "teams['k3']='element3'\n",
    "teams"
   ]
  },
  {
   "cell_type": "markdown",
   "id": "029768e0-c41d-4ec4-bd65-9596b34bd4d5",
   "metadata": {},
   "source": [
    "#### `.get()` Method\n",
    "\n",
    "The `.get()` method is used to **retrieve a value** from a dictionary using a **key**. It's a safer way to access values compared to directly using the key in square brackets, as it won't throw an error if the key does not exist.\n",
    "\n",
    "Syntax:\n",
    "```python\n",
    "dict.get(key, default_value)\n",
    "```\n",
    "\n",
    "- **`key`**: The key whose value you want to retrieve.\n",
    "- **`default_value`** (optional): A value to return if the key is not found. If not provided, it will return `None` if the key is not found.\n",
    "\n"
   ]
  },
  {
   "cell_type": "code",
   "execution_count": 133,
   "id": "fb043b4f-70af-4ba2-867f-35765b39a40f",
   "metadata": {},
   "outputs": [
    {
     "data": {
      "text/plain": [
       "'element3'"
      ]
     },
     "execution_count": 133,
     "metadata": {},
     "output_type": "execute_result"
    }
   ],
   "source": [
    "teams.get('k3')"
   ]
  },
  {
   "cell_type": "code",
   "execution_count": null,
   "id": "b23d97ac-d80d-4c69-ab58-ff1efb3e0564",
   "metadata": {},
   "outputs": [],
   "source": []
  }
 ],
 "metadata": {
  "kernelspec": {
   "display_name": "Python 3 (ipykernel)",
   "language": "python",
   "name": "python3"
  },
  "language_info": {
   "codemirror_mode": {
    "name": "ipython",
    "version": 3
   },
   "file_extension": ".py",
   "mimetype": "text/x-python",
   "name": "python",
   "nbconvert_exporter": "python",
   "pygments_lexer": "ipython3",
   "version": "3.12.4"
  }
 },
 "nbformat": 4,
 "nbformat_minor": 5
}
