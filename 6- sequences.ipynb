{
 "cells": [
  {
   "cell_type": "markdown",
   "id": "340f2b58-194f-4f09-9379-aa7e82ad75e3",
   "metadata": {},
   "source": [
    "# **Python Sequences: Lists, Tuples, and Dictionaries**\n",
    "\n",
    "## **1. Lists**\n",
    "### **What is a List?**\n",
    "- A **list** is a type of sequence that holds multiple data points.\n",
    "- Lists are **mutable**, meaning their elements can be changed.\n",
    "- They are defined using **square brackets** `[ ]`.\n",
    "- **Indices start from 0**, meaning the first element is at index **`0`**.\n",
    "- Negative indices allow counting from the end (`-1` refers to the last element).\n"
   ]
  },
  {
   "cell_type": "code",
   "execution_count": 1,
   "id": "df118e21-3c78-47ba-82c5-d0760e428a6c",
   "metadata": {},
   "outputs": [
    {
     "name": "stdout",
     "output_type": "stream",
     "text": [
      "['Aya', 'John', 'Cate', 'Lara']\n"
     ]
    }
   ],
   "source": [
    "participants = ['Aya', 'John', 'Cate', 'Lara']\n",
    "print(participants)"
   ]
  },
  {
   "cell_type": "markdown",
   "id": "eda3e023-a83d-4a17-930d-6cb4223694d5",
   "metadata": {},
   "source": [
    "### **Accessing List Elements**"
   ]
  },
  {
   "cell_type": "code",
   "execution_count": 2,
   "id": "975eac32-cd01-42c0-94b2-17a2c22762d8",
   "metadata": {},
   "outputs": [
    {
     "name": "stdout",
     "output_type": "stream",
     "text": [
      "John\n",
      "Lara\n"
     ]
    }
   ],
   "source": [
    "print(participants[1])   # Output: John\n",
    "print(participants[-1])  # Output: Lara (last element)"
   ]
  },
  {
   "cell_type": "markdown",
   "id": "d4e62812-ccee-4dba-83b0-391c9351f0e9",
   "metadata": {},
   "source": [
    "### **Modifying a List**"
   ]
  },
  {
   "cell_type": "code",
   "execution_count": 3,
   "id": "f39008e0-61bc-4cfb-95cd-012930e5c225",
   "metadata": {},
   "outputs": [
    {
     "name": "stdout",
     "output_type": "stream",
     "text": [
      "['LOL', 'John', 'Cate', 'Lara']\n"
     ]
    }
   ],
   "source": [
    "participants[0] = 'LOL'  # Changing the first element\n",
    "print(participants)"
   ]
  },
  {
   "cell_type": "markdown",
   "id": "08337fc2-aeed-4895-963b-974056c4eb51",
   "metadata": {},
   "source": [
    "### **Deleting an Element**"
   ]
  },
  {
   "cell_type": "code",
   "execution_count": 4,
   "id": "67cf4c51-2551-44e8-95d2-4cbb566de5e8",
   "metadata": {},
   "outputs": [
    {
     "name": "stdout",
     "output_type": "stream",
     "text": [
      "['John', 'Cate', 'Lara']\n"
     ]
    }
   ],
   "source": [
    "del participants[0]  # Removes the first element\n",
    "print(participants)"
   ]
  },
  {
   "cell_type": "markdown",
   "id": "df603400-31f6-49d0-9a26-332e4e8935c1",
   "metadata": {},
   "source": [
    "## **2. List Methods**\n",
    "Python provides several useful methods to modify lists.\n",
    "\n",
    "### **Common List Methods**\n",
    "| Method | Description |\n",
    "|--------|------------|\n",
    "| `list.append(element)` | Adds an element to the end of the list. |\n",
    "| `list.extend([list])` | Adds all elements from another list. |\n",
    "| `list.insert(index, element)` | Inserts an element at a specific position. |\n",
    "| `list.remove(element)` | Removes the first occurrence of an element. |\n",
    "| `list.pop(index)` | Removes and returns an element at the given index (default: last element). |\n",
    "| `list.index(element)` | Returns the index of the first occurrence of an element. |\n",
    "| `list.sort(reverse=False)` | Sorts the list in ascending order (use `reverse=True` for descending). |\n",
    "| `list.reverse()` | Reverses the list order. |\n",
    "| `len(list)` | Returns the number of elements in the list. |\n",
    "\n",
    "### **Examples**"
   ]
  },
  {
   "cell_type": "code",
   "execution_count": 5,
   "id": "0a7ffc2e-311a-4f05-8aaf-d00cb7591838",
   "metadata": {},
   "outputs": [
    {
     "name": "stdout",
     "output_type": "stream",
     "text": [
      "['John', 'Cate', 'Lara', 'Aya']\n",
      "['John', 'Cate', 'Lara', 'Aya', 'LOL1', 'LOL2']\n",
      "6\n",
      "3\n",
      "['Aya', 'Cate', 'John', 'LOL1', 'LOL2', 'Lara']\n"
     ]
    }
   ],
   "source": [
    "participants.append('Aya')\n",
    "print(participants)\n",
    "\n",
    "participants.extend(['LOL1', 'LOL2'])\n",
    "print(participants)\n",
    "\n",
    "print(len(participants))  # Output: Number of elements\n",
    "\n",
    "print(participants.index('Aya'))  # Output: Index of 'Aya'\n",
    "\n",
    "participants.sort()  # Sorts alphabetically\n",
    "print(participants)"
   ]
  },
  {
   "cell_type": "markdown",
   "id": "6bd47d68-cdc3-4df8-8b61-2a0f5279ca2f",
   "metadata": {},
   "source": [
    "## **3. List Slicing**\n",
    "Slicing allows you to extract a subset of a list.\n",
    "\n",
    "### **Slicing Syntax**\n",
    "```python\n",
    "list[start:end]  # Extracts elements from index 'start' to 'end-1'\n",
    "list[start:]     # Extracts from 'start' to the end of the list\n",
    "list[:end]       # Extracts from the beginning to 'end-1'\n",
    "list[:]          # Extracts the entire list (creates a copy)\n",
    "list[-n:]        # Extracts the last 'n' elements\n",
    "```\n",
    "### **Examples**"
   ]
  },
  {
   "cell_type": "code",
   "execution_count": 6,
   "id": "55fb425b-f715-490c-a492-07c2f941a3f1",
   "metadata": {},
   "outputs": [
    {
     "name": "stdout",
     "output_type": "stream",
     "text": [
      "['Cate', 'John']\n",
      "['Aya', 'Cate', 'John']\n",
      "['LOL2', 'Lara']\n",
      "['LOL2', 'Lara']\n"
     ]
    }
   ],
   "source": [
    "print(participants[1:3])  # Extracts elements from index 1 to 2\n",
    "print(participants[:3])   # Extracts first three elements\n",
    "print(participants[4:])   # Extracts elements from index 4 onwards\n",
    "print(participants[-2:])  # Extracts the last two elements"
   ]
  },
  {
   "cell_type": "markdown",
   "id": "97b4214f-e04e-49b8-88f9-4d9558387c54",
   "metadata": {},
   "source": [
    "## **4. Tuples**\n",
    "### **What is a Tuple?**\n",
    "- A **tuple** is an ordered sequence **like a list**, but **immutable** (cannot be changed after creation).\n",
    "- Tuples use **parentheses `()`** instead of square brackets.\n",
    "\n",
    "### **Creating Tuples**"
   ]
  },
  {
   "cell_type": "code",
   "execution_count": 7,
   "id": "2cb6be83-1d71-4408-b7c6-572d309a3051",
   "metadata": {},
   "outputs": [
    {
     "name": "stdout",
     "output_type": "stream",
     "text": [
      "(1, 2, 4)\n",
      "(9, 84, 2)\n",
      "5\n"
     ]
    }
   ],
   "source": [
    "x = (1, 2, 4)\n",
    "print(x)\n",
    "\n",
    "u = 9, 84, 2  # Parentheses are optional\n",
    "print(u)\n",
    "\n",
    "# Tuple unpacking\n",
    "m, n, b = 3, 4, 5\n",
    "print(b)  # Output: 5"
   ]
  },
  {
   "cell_type": "markdown",
   "id": "5035a27b-034b-4029-abde-e59d444bd66d",
   "metadata": {},
   "source": [
    "### **Accessing Tuple Elements**"
   ]
  },
  {
   "cell_type": "code",
   "execution_count": 8,
   "id": "681353b0-cf8b-4116-b820-0c89d56e09e5",
   "metadata": {},
   "outputs": [
    {
     "name": "stdout",
     "output_type": "stream",
     "text": [
      "9\n"
     ]
    }
   ],
   "source": [
    "print(u[0])  # Output: 9"
   ]
  },
  {
   "cell_type": "markdown",
   "id": "12989e4f-5567-4bdf-936b-780bee29dea6",
   "metadata": {},
   "source": [
    "### **Tuples vs. Lists**\n",
    "| Feature | Lists | Tuples |\n",
    "|---------|------|--------|\n",
    "| **Mutable?** | ✅ Yes | ❌ No |\n",
    "| **Ordered?** | ✅ Yes | ✅ Yes |\n",
    "| **Indexing?** | ✅ Yes | ✅ Yes |\n",
    "| **Faster?** | ❌ No | ✅ Yes (since immutable) |\n",
    "\n",
    "---\n",
    "\n",
    "## **5. Splitting Strings in Tuples**\n",
    "Tuples do **not** have a `.split()` method, but we can split a string **inside** a tuple.\n",
    "\n",
    "### **Example**"
   ]
  },
  {
   "cell_type": "code",
   "execution_count": 9,
   "id": "a8f9d3af-35d2-4b90-baac-49146ffad3d2",
   "metadata": {},
   "outputs": [
    {
     "name": "stdout",
     "output_type": "stream",
     "text": [
      "['apple', 'banana', 'cherry']\n"
     ]
    }
   ],
   "source": [
    "my_tuple = (\"apple,banana,cherry\",)\n",
    "split_fruit = my_tuple[0].split(',')\n",
    "print(split_fruit)  # Output: ['apple', 'banana', 'cherry']"
   ]
  },
  {
   "cell_type": "markdown",
   "id": "c488017f-6018-4cca-8cf3-325b097ad609",
   "metadata": {},
   "source": [
    "## **6. Functions Returning Tuples**\n",
    "Functions can **return multiple values** in a tuple.\n",
    "\n",
    "### **Example**"
   ]
  },
  {
   "cell_type": "code",
   "execution_count": 10,
   "id": "d8b299d2-4e8f-4ffc-9438-b9fefa2fa834",
   "metadata": {},
   "outputs": [
    {
     "name": "stdout",
     "output_type": "stream",
     "text": [
      "(4, 8)\n"
     ]
    }
   ],
   "source": [
    "def square_info(x):\n",
    "    area = x ** 2\n",
    "    perimeter = 4 * x\n",
    "    return area, perimeter\n",
    "\n",
    "print(square_info(2))  # Output: (4, 8)"
   ]
  },
  {
   "cell_type": "markdown",
   "id": "2f1fb9ef-f49f-4db2-921d-3dc3fd7486fa",
   "metadata": {},
   "source": [
    "## **7. Dictionaries**\n",
    "### **What is a Dictionary?**\n",
    "- A **dictionary** stores **key-value pairs**.\n",
    "- Uses **curly braces `{}`**.\n",
    "- Keys must be **unique** and **immutable** (e.g., strings, numbers, or tuples).\n",
    "\n",
    "### **Creating a Dictionary**"
   ]
  },
  {
   "cell_type": "code",
   "execution_count": 11,
   "id": "06294596-9a53-49f0-9d43-043494cd16b7",
   "metadata": {},
   "outputs": [
    {
     "name": "stdout",
     "output_type": "stream",
     "text": [
      "{'k1': 'cat', 'k2': 'dog', 'k3': 'horse'}\n"
     ]
    }
   ],
   "source": [
    "dict = {'k1': \"cat\", 'k2': \"dog\", 'k3': \"horse\"}\n",
    "print(dict)"
   ]
  },
  {
   "cell_type": "markdown",
   "id": "7d4d3c3c-8f6b-4b75-b6ba-e6d522819557",
   "metadata": {},
   "source": [
    "### **Accessing Values**"
   ]
  },
  {
   "cell_type": "code",
   "execution_count": 12,
   "id": "bfabb066-7988-490c-981c-6a6bc4838a5f",
   "metadata": {},
   "outputs": [
    {
     "name": "stdout",
     "output_type": "stream",
     "text": [
      "cat\n",
      "horse\n"
     ]
    }
   ],
   "source": [
    "print(dict['k1'])  # Output: cat\n",
    "print(dict['k3'])  # Output: horse"
   ]
  },
  {
   "cell_type": "markdown",
   "id": "ef47e6ba-6ec8-43c4-b572-bad989fcd552",
   "metadata": {},
   "source": [
    "### **Adding/Updating Entries**\n"
   ]
  },
  {
   "cell_type": "code",
   "execution_count": 13,
   "id": "accbd742-4b8f-431d-90c2-d86ab70515f0",
   "metadata": {},
   "outputs": [
    {
     "name": "stdout",
     "output_type": "stream",
     "text": [
      "{'k1': 'cat', 'k2': 'dog', 'k3': 'horse', 'k5': 'duck'}\n"
     ]
    }
   ],
   "source": [
    "dict['k5'] = \"duck\"  # Adds a new key-value pair\n",
    "print(dict)"
   ]
  },
  {
   "cell_type": "markdown",
   "id": "9af6f3b9-8306-4e28-a717-40c8347f86d8",
   "metadata": {},
   "source": [
    "### **Another Way to Create a Dictionary**"
   ]
  },
  {
   "cell_type": "code",
   "execution_count": 14,
   "id": "b109d257-e514-43db-97a7-8b8fe2dcffee",
   "metadata": {},
   "outputs": [
    {
     "name": "stdout",
     "output_type": "stream",
     "text": [
      "{'k1': 'element1', 'k2': 'element2', 'k3': 'element3'}\n"
     ]
    }
   ],
   "source": [
    "teams = {}\n",
    "teams['k1'] = 'element1'\n",
    "teams['k2'] = 'element2'\n",
    "teams['k3'] = 'element3'\n",
    "print(teams)"
   ]
  },
  {
   "cell_type": "markdown",
   "id": "4e0355cd-e133-4c57-aa35-7e4f2404a577",
   "metadata": {},
   "source": [
    "## **8. `.get()` Method**\n",
    "The `.get()` method safely retrieves values without errors.\n",
    "\n",
    "### **Syntax**\n",
    "```python\n",
    "dict.get(key, default_value)\n",
    "```\n",
    "- **`key`**: The key whose value we want.\n",
    "- **`default_value`** (optional): The value returned if the key does not exist.\n",
    "\n",
    "### **Example**\n"
   ]
  },
  {
   "cell_type": "code",
   "execution_count": 15,
   "id": "59c52901-1ab4-4e3f-925b-2ce9a85784bb",
   "metadata": {},
   "outputs": [
    {
     "name": "stdout",
     "output_type": "stream",
     "text": [
      "element3\n",
      "N/A\n"
     ]
    }
   ],
   "source": [
    "print(teams.get('k3'))        # Output: element3\n",
    "print(teams.get('k10', 'N/A'))  # Output: N/A (default value since key 'k10' doesn't exist)"
   ]
  },
  {
   "cell_type": "markdown",
   "id": "0912f07c-84e9-47a4-9b80-64b4d348be45",
   "metadata": {},
   "source": [
    "## **9. Dictionary Methods**\n",
    "| Method | Description |\n",
    "|--------|------------|\n",
    "| `dict.keys()` | Returns all dictionary keys. |\n",
    "| `dict.values()` | Returns all dictionary values. |\n",
    "| `dict.items()` | Returns all key-value pairs as tuples. |\n",
    "| `dict.pop(key)` | Removes a key and returns its value. |\n",
    "| `dict.update({new_key: value})` | Updates or adds key-value pairs. |\n",
    "\n",
    "### **Examples**\n"
   ]
  },
  {
   "cell_type": "code",
   "execution_count": 16,
   "id": "ea82a3c2-3e3e-42bf-92cd-1fb3eb956908",
   "metadata": {},
   "outputs": [
    {
     "name": "stdout",
     "output_type": "stream",
     "text": [
      "dict_keys(['k1', 'k2', 'k3', 'k5'])\n",
      "dict_values(['cat', 'dog', 'horse', 'duck'])\n",
      "dict_items([('k1', 'cat'), ('k2', 'dog'), ('k3', 'horse'), ('k5', 'duck')])\n",
      "{'k1': 'cat', 'k3': 'horse', 'k5': 'duck'}\n"
     ]
    }
   ],
   "source": [
    "print(dict.keys())   # Output: dict_keys(['k1', 'k2', 'k3', 'k5'])\n",
    "print(dict.values()) # Output: dict_values(['cat', 'dog', 'horse', 'duck'])\n",
    "\n",
    "print(dict.items())  # Output: dict_items([('k1', 'cat'), ('k2', 'dog'), ('k3', 'horse'), ('k5', 'duck')])\n",
    "\n",
    "dict.pop('k2')  # Removes 'k2'\n",
    "print(dict)"
   ]
  },
  {
   "cell_type": "markdown",
   "id": "1d5dc398-9f05-431f-b4e2-1c13dfc7c550",
   "metadata": {},
   "source": [
    "## **10. Summary**\n",
    "| Concept | Description |\n",
    "|---------|------------|\n",
    "| **Lists** | Mutable, ordered sequence of elements (`[ ]`). |\n",
    "| **Tuples** | Immutable, ordered sequence (`( )`). |\n",
    "| **Dictionaries** | Key-value pairs stored in `{ }`. |\n",
    "| **Slicing** | Extracts subsets from sequences. |\n",
    "| **List Methods** | `append()`, `sort()`, `index()`, etc. |\n",
    "| **Dictionary Methods** | `keys()`, `values()`, `items()`, `pop()`. |"
   ]
  },
  {
   "cell_type": "code",
   "execution_count": null,
   "id": "edf5086e-e099-4ca7-b0d5-96a85fd48b5e",
   "metadata": {},
   "outputs": [],
   "source": []
  }
 ],
 "metadata": {
  "kernelspec": {
   "display_name": "Python 3 (ipykernel)",
   "language": "python",
   "name": "python3"
  },
  "language_info": {
   "codemirror_mode": {
    "name": "ipython",
    "version": 3
   },
   "file_extension": ".py",
   "mimetype": "text/x-python",
   "name": "python",
   "nbconvert_exporter": "python",
   "pygments_lexer": "ipython3",
   "version": "3.12.4"
  }
 },
 "nbformat": 4,
 "nbformat_minor": 5
}
