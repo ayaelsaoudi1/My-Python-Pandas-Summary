{
 "cells": [
  {
   "cell_type": "markdown",
   "id": "29bb970f-ab1f-4746-a541-3b5397a4be3f",
   "metadata": {},
   "source": [
    "## **Object-Oriented Programming (OOP) in Python**  \n",
    "\n",
    "### **1. Objects in Python**  \n",
    "- In Python, **everything is an object** (floats, integers, strings, lists, etc.).  \n",
    "- **Object-Oriented Programming (OOP)** is based on interacting with objects.  \n",
    "- Objects allow us to **model real-world concepts** by combining **data and manipulation operations**.  \n",
    "\n",
    "### **2. Classes and Objects**  \n",
    "- **Class**: Defines the blueprint or rules for creating objects.  \n",
    "- **Object**: An instance of a class with specific attributes and behaviors.  \n",
    "- **Attributes**: Characteristics that describe the object (e.g., color, size).  \n",
    "\n",
    "### **3. Example: Bicycle**  \n",
    "- A **bike-maker (class)** knows how to create bikes.  \n",
    "- A **bike (object)** is an instance of the bike-maker class.  \n",
    "- The bike has **attributes** (color, size, type).  \n",
    "- The bike can perform **methods** like `.turn_left()` or `.slow_down()`.  \n",
    "- OOP focuses on **objects** rather than just actions, unlike procedural programming.  \n",
    "\n",
    "### **4. Example in Python**  \n",
    "- **Object (Instance)**: `[3.5, 5.1, 44.0]` (a list of float numbers).  \n",
    "- **Attributes (Properties)**: Type of data → floats.  \n",
    "- **Methods**: `.extend()`, `.index()` (operations that apply to the object).  \n",
    "\n",
    "### **5. Function vs. Method**  \n",
    "| **Function**  | **Method**  |\n",
    "|--------------|------------|\n",
    "| Exists independently | Belongs to a class |\n",
    "| Can take multiple parameters | The object is a parameter |\n",
    "| Called as `function()` | Called as `object.method()` |  "
   ]
  },
  {
   "cell_type": "markdown",
   "id": "9f05b601-6468-46d4-9c35-bd8a436b7b40",
   "metadata": {},
   "source": [
    "## **Modules and Packages in Python**  \n",
    "\n",
    "### **1. What is a Module?**  \n",
    "- A **module** is a pre-written Python file containing **variables, functions, and classes**.  \n",
    "- Its main advantage is **code reusability**—it can be imported into multiple programs without rewriting the code.  \n",
    "\n",
    "### **2. What is a Package?**  \n",
    "- A **package** is a collection (or directory) of related **Python modules**.  \n",
    "- While developers can create their own modules and packages, many **pre-built packages** are available for different use cases.  \n",
    "- The programming community has developed an extensive collection of **ready-to-use packages**, tailored for various fields.  \n",
    "- Sometimes, the term **library** is used interchangeably with **package**.  "
   ]
  },
  {
   "cell_type": "markdown",
   "id": "740ed47f-8baa-4b91-b94a-4b37368313e1",
   "metadata": {},
   "source": [
    "## **Python’s Standard Library**  \n",
    "\n",
    "### **1. What is the Standard Library?**  \n",
    "- A **collection of built-in modules** available as soon as Python is installed.  \n",
    "- Examples: `len()` function, `list` class.  \n",
    "- Some code runs automatically when a new program or notebook starts.  \n",
    "- These built-in modules provide essential features, even though they are not directly visible.  \n",
    "\n",
    "### **2. Practical Use of Python Modules**  \n",
    "- **Not all modules need to be installed manually**—Python includes a **standard library** by default.  \n",
    "- Additional **modules and packages** can be downloaded as needed.  \n",
    "- Most developers **reuse existing modules** rather than creating new ones (which is typically done by specialists).  \n",
    "- Modules can be **updated and improved** over time.  \n",
    "- Using modules **greatly improves efficiency** and allows code to be **reused multiple times**.  \n"
   ]
  },
  {
   "cell_type": "markdown",
   "id": "9e9b4a10-19fc-4e56-b028-5e5083b2eb79",
   "metadata": {},
   "source": [
    "## **Importing Modules in Python**\n"
   ]
  },
  {
   "cell_type": "code",
   "execution_count": 17,
   "id": "18973bf8-0429-45bc-b9c9-d168861a7e62",
   "metadata": {},
   "outputs": [
    {
     "data": {
      "text/plain": [
       "4.0"
      ]
     },
     "execution_count": 17,
     "metadata": {},
     "output_type": "execute_result"
    }
   ],
   "source": [
    "import math #math library \n",
    "math.sqrt(16)"
   ]
  },
  {
   "cell_type": "code",
   "execution_count": 16,
   "id": "8b8829e8-5063-4cb1-857c-393525b2b512",
   "metadata": {},
   "outputs": [],
   "source": [
    "from math import sqrt #sqrt function from math library \n",
    "sqrt(4)"
   ]
  },
  {
   "cell_type": "code",
   "execution_count": 18,
   "id": "06bc4746-4778-46df-be84-ed296083bdb3",
   "metadata": {},
   "outputs": [
    {
     "data": {
      "text/plain": [
       "6.0"
      ]
     },
     "execution_count": 18,
     "metadata": {},
     "output_type": "execute_result"
    }
   ],
   "source": [
    "from math import sqrt as s #sqrt function now hace the name s\n",
    "s(36)"
   ]
  },
  {
   "cell_type": "code",
   "execution_count": 19,
   "id": "3f1ba26b-f7d3-49f7-866e-c88639363be1",
   "metadata": {},
   "outputs": [
    {
     "data": {
      "text/plain": [
       "2.0"
      ]
     },
     "execution_count": 19,
     "metadata": {},
     "output_type": "execute_result"
    }
   ],
   "source": [
    "import math as m #the math library now have m as a name \n",
    "m.sqrt(4)"
   ]
  },
  {
   "cell_type": "code",
   "execution_count": 20,
   "id": "ff281c96-8473-47d3-a886-9c831cf34261",
   "metadata": {},
   "outputs": [
    {
     "data": {
      "text/plain": [
       "8.0"
      ]
     },
     "execution_count": 20,
     "metadata": {},
     "output_type": "execute_result"
    }
   ],
   "source": [
    "from math import * #import everything from math \n",
    "sqrt(64)"
   ]
  },
  {
   "cell_type": "markdown",
   "id": "4218f9c0-c3ff-47f3-b285-98ab6d9d5000",
   "metadata": {},
   "source": [
    "## **Avoiding `from math import *` in Python**  \n",
    "\n",
    "### **1. Why is `from math import *` Problematic?**  \n",
    "- It **imports everything** from the `math` module, which can lead to conflicts.  \n",
    "- If **two different modules** have functions with the **same name**, Python won't know which one to use.  \n",
    "- Example: If two modules define `sqrt()`, calling `sqrt(81)` could cause confusion.  \n",
    "\n",
    "### **2. Best Practices**  \n",
    "- **Avoid using `from module import *`**, especially in larger projects.  \n",
    "- **Professional developers** use **specific imports** to prevent conflicts:  \n",
    "  ```python\n",
    "  from math import sqrt\n",
    "  ```  \n",
    "- Use `help(module)` to list all available functions in a package:  \n",
    "  ```python\n",
    "  help(math)\n",
    "  ```  \n",
    "- To get details about a specific function, use:  \n",
    "  ```python\n",
    "  help(math.sqrt)\n",
    "  ```  \n",
    "\n",
    "### **3. Example Usage**  \n",
    "```python\n",
    "from math import sqrt  # Best practice\n",
    "print(sqrt(64))  # Output: 8.0\n",
    "```  "
   ]
  },
  {
   "cell_type": "code",
   "execution_count": null,
   "id": "76af9c84-1872-4ec1-8c70-98fb21c1f287",
   "metadata": {},
   "outputs": [],
   "source": []
  }
 ],
 "metadata": {
  "kernelspec": {
   "display_name": "Python 3 (ipykernel)",
   "language": "python",
   "name": "python3"
  },
  "language_info": {
   "codemirror_mode": {
    "name": "ipython",
    "version": 3
   },
   "file_extension": ".py",
   "mimetype": "text/x-python",
   "name": "python",
   "nbconvert_exporter": "python",
   "pygments_lexer": "ipython3",
   "version": "3.12.4"
  }
 },
 "nbformat": 4,
 "nbformat_minor": 5
}
